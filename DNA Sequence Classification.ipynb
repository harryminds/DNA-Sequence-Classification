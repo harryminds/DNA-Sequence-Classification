{
 "cells": [
  {
   "cell_type": "markdown",
   "metadata": {},
   "source": [
    "# Species prediction from DNA sequence data\n"
   ]
  },
  {
   "cell_type": "markdown",
   "metadata": {},
   "source": [
    "# Project Introduction\n",
    "\n",
    "For this project my main focus was going to be demonstrating classification models and methods. To pick an example, I decided to research DNA sequencing analysis, because I thought it would be interesting, and the data that is available publicly is astonishingly immense. \n",
    "\n",
    "DNA is found in the cells of every living thing on Earth. Scientists can study the DNA of organisms to understand more about the function of an organism, or analyze the DNA to determine if they have found a new species.\n",
    "\n",
    "DNA classification has many uses - from species identification to differentiation, research can provide insights on how different one species is from another, or how one species evolved over time. Genetic sequence analysis can identify the differences in gene, insertions and deletions within subsets of the DNA, or identifying the change in phenotypes from species to species. Analysis of the differences in the sequences from differents species can tell us a lot about the differences between species, but also how similiar all organisms are.\n",
    "\n",
    "### Hypothesis:\n",
    "\n",
    "What if I could take DNA information from a certain genome and compare to others? Would there be a signal in the noise? Of course, there would be and there is, but I started with a null hypothesis in question: Could these genomes be unrelated and basically random next to each other?\n",
    "\n",
    "Alternatively, I hope to find there is a pattern of similarity, and I hope that will be measured in the metrics of my model. I am no biologist, but as a data scientist, I will be viewing this problem as one of loss - observing the similiarities between genomes and explaining the variance between them by predicting their respective class. From a techinical point of view, this project will use machine learning methods to analyze and classify the DNA sequences from different species. The results of this model will be used to predict the species of a given set of classes based on the genetic sequence alone. This project will focus primarily on the mathematical differences between sequences in genetic code, rather than any special genetic analysis of genes and phenotypes between species. I am interested in the problem of how similiar or different two species may be from one other, from a generalized and statisical point of view.\n"
   ]
  },
  {
   "cell_type": "markdown",
   "metadata": {},
   "source": [
    "# What is DNA?\n",
    "\n",
    "DNA, or deoxyribonucleic acid, is a molecule that contains the inherited code used by cells in an organism to generate  proteins. It is found in the nucleus of cells. DNA consists of four bases: adenine or A, cytosine or C, guanine or G, and thymine or T. Each strand of DNA is actually composed of two strands that are held together by a sugar based structure in the shape of a double helix. Each base is connected to the opposite strand by its complementary base: A always connects to T, C always connects to G, G always connects to C, and T always connects to A. This means that each complementary strand of DNA is like a reflection of the other. When DNA is sequenced into a string composed of the four bases, only one string has been catalogued in the data we are reading, without its complement.\n",
    "\n",
    "Through complicated biological and molecular processes, DNA replicates or creates copies of itself known as mRNA. mRNA strands are short segmented copies of the DNA that can recombine with other segments of mRNA and in turn create combinations that are code for creating proteins. Different combinations create different proteins and these proteins are then used throughout the cell and the organism. DNA acts like computer code for creating the proteins like a program and thus why it is referred to as genetic code, or 'the building blocks of life'. Subsets of DNA strands can be identified for creating specific proteins and these are known as genes.\n",
    "\n",
    "The DNA in every cell is coiled up tightly together, and although it takes up a microscopic amount of space, it is very long. If you carefully unraveled a entire strand of Human DNA it would be about 1.8 meters long, and contains 3 billion base pairs i.e. combinations of A, C, G, and T.\n",
    "\n",
    "Advances in technology have allowed scientists to sequence the microscopic data within a small margin of error. The total number of genes in one species is known as that species' genome. The Human Genome Project, ongoing from 1990 to completion in 2003, and mapped the enitre human genome across about 20,000 non-overlapping samples.(fact check) Today, there are many different species genomes mapped and publicly available to download for research and analysis."
   ]
  },
  {
   "cell_type": "markdown",
   "metadata": {},
   "source": [
    "# Common DNA sequence feature engineering methods\n",
    "\n",
    "Genomics is a broad field of study that classifies, analyzes, and maps genomes of organisms. Within genomic data science, there are many ways that machine learning can be used to analyse sequence data.\n",
    "\n",
    "If taking a strand of DNA as input, a string may appear as a combination of A, C, G, and T character, such as:\n",
    "'ATGAAGAAGGTAACTGCAGAGGCTATTTCCTGGAAT...'\n",
    "\n",
    "This strand may identify a specific gene in the selected genome and/or may be a variable length. There are few common ways that genomic data scientists encode this sequence as features in a model.\n",
    "\n",
    "One way is to one-hot encode each character in the sequence. One-hot encoding creates 4 features for every character where A may equal [1,0,0,0] and C may equal [0,1,0,0] and so on. Those 4 features are created for every character in the sequence.\n",
    "\n",
    "Another common method to use, especially if the length of the sequence is variable, is called minhash. [Minhash](https://en.wikipedia.org/wiki/MinHash) (other link to it?) is a computer science method of comparing the similarity between two sets. In bioinformatics, minhash can be used to transform a sequence into a frequency dictionary of k-length substrings called [k-mers](https://en.wikipedia.org/wiki/K-mer) of a given integer k. First, columns are created for all possible k-mers of genetic code and then populated on every index in the string. For example a string 'gtatca' could be converted in k-mer of k=2 by extracting all substrings of length 2 along the string: from 'gtatca' would populate 'gt', 'ta', 'at', 'tc', and 'ca' columns.\n",
    "\n",
    "In this project, we will only use the minhash method to create all of our features used in the model.\n",
    "\n"
   ]
  },
  {
   "cell_type": "markdown",
   "metadata": {},
   "source": [
    "# Import libraries"
   ]
  },
  {
   "cell_type": "code",
   "execution_count": 2,
   "metadata": {},
   "outputs": [],
   "source": [
    "def warn(*args, **kwargs):\n",
    "    pass\n",
    "import warnings\n",
    "warnings.warn = warn"
   ]
  },
  {
   "cell_type": "code",
   "execution_count": 3,
   "metadata": {},
   "outputs": [],
   "source": [
    "import pandas as pd\n",
    "import numpy as np\n",
    "import matplotlib.pyplot as plt\n",
    "import seaborn as sns\n",
    "import plotly.express as px\n",
    "from Bio import SeqIO\n",
    "from itertools import permutations\n",
    "from sklearn.linear_model import LogisticRegression\n",
    "from sklearn.neighbors import KNeighborsClassifier\n",
    "from sklearn.naive_bayes import GaussianNB\n",
    "from sklearn.preprocessing import StandardScaler, LabelEncoder\n",
    "from sklearn.model_selection import train_test_split, GridSearchCV\n",
    "from sklearn.pipeline import Pipeline\n",
    "from sklearn.metrics import classification_report, confusion_matrix, plot_roc_curve, roc_curve, auc, plot_confusion_matrix\n",
    "from sklearn import set_config\n",
    "set_config(display= 'diagram')\n",
    "from xgboost import XGBClassifier\n",
    "from joblib import parallel_backend\n",
    "from sklearn.ensemble import RandomForestClassifier, ExtraTreesClassifier, GradientBoostingClassifier"
   ]
  },
  {
   "cell_type": "markdown",
   "metadata": {},
   "source": [
    "# Import DNA sequences\n",
    "\n",
    "I will be using the BioPython library to parse through fasta files found on the [RefSeq database](https://www.ncbi.nlm.nih.gov/refseq/). Let's look at one record as an example of the data that is being parsed in."
   ]
  },
  {
   "cell_type": "code",
   "execution_count": 4,
   "metadata": {},
   "outputs": [
    {
     "name": "stdout",
     "output_type": "stream",
     "text": [
      "ID: lcl|NC_000001.11_cds_NP_001005484.2_1\n",
      "Name: lcl|NC_000001.11_cds_NP_001005484.2_1\n",
      "Description: lcl|NC_000001.11_cds_NP_001005484.2_1 [gene=OR4F5] [db_xref=CCDS:CCDS30547.1,Ensembl:ENSP00000493376.2,GeneID:79501] [protein=olfactory receptor 4F5] [protein_id=NP_001005484.2] [location=join(65565..65573,69037..70008)] [gbkey=CDS]\n",
      "Number of features: 0\n",
      "Seq('ATGAAGAAGGTAACTGCAGAGGCTATTTCCTGGAATGAATCAACGAGTGAAACG...TAG')\n"
     ]
    }
   ],
   "source": [
    "for seq_record in SeqIO.parse(\"data/GCF_000001405.40_GRCh38.p14_cds_from_genomic.fna\", \"fasta\"): #human fasta file\n",
    "    print(seq_record)\n",
    "    break #break after printing one record"
   ]
  },
  {
   "cell_type": "markdown",
   "metadata": {},
   "source": [
    "This project will be using using the sequence (Seq) as data in the model, but let's define a helper function that will collect a few more columns of data, just in case we want to reference them later."
   ]
  },
  {
   "cell_type": "code",
   "execution_count": 5,
   "metadata": {},
   "outputs": [],
   "source": [
    "def parse_from_genome_file(filename, target_name, n=None):\n",
    "    \n",
    "    i=0\n",
    "    seqs = []\n",
    "    genes = []\n",
    "    proteins = []\n",
    "    target = []\n",
    "    \n",
    "    for seq_record in SeqIO.parse(filename, \"fasta\"):\n",
    "        \n",
    "        seqs.append(''.join(seq_record.seq)) #append the sequence data\n",
    "        genes.append(seq_record.description.split('[')[1][5:-2]) #append gene name\n",
    "        proteins.append(seq_record.description.split('[')[3][8:-2]) #append protein description\n",
    "        target.append(target_name) #append the class name ('human' or otherwise)\n",
    "        \n",
    "        if n != None:\n",
    "            if i < n:\n",
    "                i+=1\n",
    "            if i >= n:\n",
    "                break\n",
    "            \n",
    "    df = pd.concat([pd.DataFrame(seqs),pd.DataFrame(genes), pd.DataFrame(proteins), pd.DataFrame(target)], axis=1)\n",
    "    df.columns = ['seq','gene','protein', 'target']\n",
    "    \n",
    "    return df"
   ]
  },
  {
   "cell_type": "code",
   "execution_count": 6,
   "metadata": {},
   "outputs": [],
   "source": [
    "#create dataframes for each genome file\n",
    "human_df = parse_from_genome_file(\"data/GCF_000001405.40_GRCh38.p14_cds_from_genomic.fna\", 'human', n=20000)\n",
    "chimp_df = parse_from_genome_file('data/GCF_002880755.1_Clint_PTRv2_cds_from_genomic.fna', 'chimp', n=20000)\n",
    "bonobo_df = parse_from_genome_file('data/GCF_013052645.1_Mhudiblu_PPA_v0_cds_from_genomic.fna', 'bonobo', n=20000)\n",
    "dolphin_df = parse_from_genome_file('data/GCF_011762595.1_mTurTru1.mat.Y_cds_from_genomic.fna', 'dolphin', n=20000)\n",
    "oak_df = parse_from_genome_file('data/GCF_001633185.2_ValleyOak3.2_cds_from_genomic.fna', 'oak', n=20000)\n",
    "mushroom_df = parse_from_genome_file('data/GCF_017499595.1_MGC_Penvy_1_cds_from_genomic.fna', 'mushroom', n=20000)"
   ]
  },
  {
   "cell_type": "code",
   "execution_count": 7,
   "metadata": {},
   "outputs": [
    {
     "data": {
      "text/html": [
       "<div>\n",
       "<style scoped>\n",
       "    .dataframe tbody tr th:only-of-type {\n",
       "        vertical-align: middle;\n",
       "    }\n",
       "\n",
       "    .dataframe tbody tr th {\n",
       "        vertical-align: top;\n",
       "    }\n",
       "\n",
       "    .dataframe thead th {\n",
       "        text-align: right;\n",
       "    }\n",
       "</style>\n",
       "<table border=\"1\" class=\"dataframe\">\n",
       "  <thead>\n",
       "    <tr style=\"text-align: right;\">\n",
       "      <th></th>\n",
       "      <th>seq</th>\n",
       "      <th>gene</th>\n",
       "      <th>protein</th>\n",
       "      <th>target</th>\n",
       "    </tr>\n",
       "  </thead>\n",
       "  <tbody>\n",
       "    <tr>\n",
       "      <th>0</th>\n",
       "      <td>ATGAAGAAGGTAACTGCAGAGGCTATTTCCTGGAATGAATCAACGA...</td>\n",
       "      <td>OR4F5</td>\n",
       "      <td>olfactory receptor 4F5</td>\n",
       "      <td>human</td>\n",
       "    </tr>\n",
       "    <tr>\n",
       "      <th>1</th>\n",
       "      <td>ATGCCTAGACACACACATCCTTACTCTGCGTGCATCCCTGGCCTGG...</td>\n",
       "      <td>LOC112268260</td>\n",
       "      <td>uncharacterized protein LOC112268260</td>\n",
       "      <td>human</td>\n",
       "    </tr>\n",
       "    <tr>\n",
       "      <th>2</th>\n",
       "      <td>ATGGATGGAGAGAATCACTCAGTGGTATCTGAGTTTTTGTTTCTGG...</td>\n",
       "      <td>OR4F29</td>\n",
       "      <td>olfactory receptor 4F3/4F16/4F29</td>\n",
       "      <td>human</td>\n",
       "    </tr>\n",
       "    <tr>\n",
       "      <th>3</th>\n",
       "      <td>ATGCGTAGACACACACATCCTTACTCTGCGCGCATCCCTGGCCTGG...</td>\n",
       "      <td>LOC105378947</td>\n",
       "      <td>proline-rich extensin-like protein EPR1 isofor...</td>\n",
       "      <td>human</td>\n",
       "    </tr>\n",
       "    <tr>\n",
       "      <th>4</th>\n",
       "      <td>ATGGATGGAGAGAATCACTCAGTGGTATCTGAGTTTTTGTTTCTGG...</td>\n",
       "      <td>OR4F16</td>\n",
       "      <td>olfactory receptor 4F3/4F16/4F29 isoform X1</td>\n",
       "      <td>human</td>\n",
       "    </tr>\n",
       "  </tbody>\n",
       "</table>\n",
       "</div>"
      ],
      "text/plain": [
       "                                                 seq          gene  \\\n",
       "0  ATGAAGAAGGTAACTGCAGAGGCTATTTCCTGGAATGAATCAACGA...         OR4F5   \n",
       "1  ATGCCTAGACACACACATCCTTACTCTGCGTGCATCCCTGGCCTGG...  LOC112268260   \n",
       "2  ATGGATGGAGAGAATCACTCAGTGGTATCTGAGTTTTTGTTTCTGG...        OR4F29   \n",
       "3  ATGCGTAGACACACACATCCTTACTCTGCGCGCATCCCTGGCCTGG...  LOC105378947   \n",
       "4  ATGGATGGAGAGAATCACTCAGTGGTATCTGAGTTTTTGTTTCTGG...        OR4F16   \n",
       "\n",
       "                                             protein target  \n",
       "0                             olfactory receptor 4F5  human  \n",
       "1               uncharacterized protein LOC112268260  human  \n",
       "2                   olfactory receptor 4F3/4F16/4F29  human  \n",
       "3  proline-rich extensin-like protein EPR1 isofor...  human  \n",
       "4        olfactory receptor 4F3/4F16/4F29 isoform X1  human  "
      ]
     },
     "execution_count": 7,
     "metadata": {},
     "output_type": "execute_result"
    }
   ],
   "source": [
    "human_df.head()"
   ]
  },
  {
   "cell_type": "markdown",
   "metadata": {},
   "source": [
    "Let's look a the first DNA sequence in its total length."
   ]
  },
  {
   "cell_type": "code",
   "execution_count": 8,
   "metadata": {},
   "outputs": [
    {
     "data": {
      "text/plain": [
       "'ATGAAGAAGGTAACTGCAGAGGCTATTTCCTGGAATGAATCAACGAGTGAAACGAATAACTCTATGGTGACTGAATTCATTTTTCTGGGTCTCTCTGATTCTCAGGAACTCCAGACCTTCCTATTTATGTTGTTTTTTGTATTCTATGGAGGAATCGTGTTTGGAAACCTTCTTATTGTCATAACAGTGGTATCTGACTCCCACCTTCACTCTCCCATGTACTTCCTGCTAGCCAACCTCTCACTCATTGATCTGTCTCTGTCTTCAGTCACAGCCCCCAAGATGATTACTGACTTTTTCAGCCAGCGCAAAGTCATCTCTTTCAAGGGCTGCCTTGTTCAGATATTTCTCCTTCACTTCTTTGGTGGGAGTGAGATGGTGATCCTCATAGCCATGGGCTTTGACAGATATATAGCAATATGCAAGCCCCTACACTACACTACAATTATGTGTGGCAACGCATGTGTCGGCATTATGGCTGTCACATGGGGAATTGGCTTTCTCCATTCGGTGAGCCAGTTGGCGTTTGCCGTGCACTTACTCTTCTGTGGTCCCAATGAGGTCGATAGTTTTTATTGTGACCTTCCTAGGGTAATCAAACTTGCCTGTACAGATACCTACAGGCTAGATATTATGGTCATTGCTAACAGTGGTGTGCTCACTGTGTGTTCTTTTGTTCTTCTAATCATCTCATACACTATCATCCTAATGACCATCCAGCATCGCCCTTTAGATAAGTCGTCCAAAGCTCTGTCCACTTTGACTGCTCACATTACAGTAGTTCTTTTGTTCTTTGGACCATGTGTCTTTATTTATGCCTGGCCATTCCCCATCAAGTCATTAGATAAATTCCTTGCTGTATTTTATTCTGTGATCACCCCTCTCTTGAACCCAATTATATACACACTGAGGAACAAAGACATGAAGACGGCAATAAGACAGCTGAGAAAATGGGATGCACATTCTAGTGTAAAGTTTTAG'"
      ]
     },
     "execution_count": 8,
     "metadata": {},
     "output_type": "execute_result"
    }
   ],
   "source": [
    "human_df.loc[0,'seq']"
   ]
  },
  {
   "cell_type": "markdown",
   "metadata": {},
   "source": [
    "I want to create all the features in my model from all the sequences like this. I will write a custom TransformerMixin class here to transform the 'seq' column to the k-mer frequency dictionaries (minhash?)and then convert this to a pandas dataframe."
   ]
  },
  {
   "cell_type": "code",
   "execution_count": 9,
   "metadata": {},
   "outputs": [],
   "source": [
    "from sklearn.base import BaseEstimator, TransformerMixin\n",
    "\n",
    "class KMerTransformer(TransformerMixin, BaseEstimator):\n",
    "    \"\"\"\n",
    "    Sklearn Pipeline Transformer to create k-mer frequency columns.\n",
    "    \n",
    "    Parameters:\n",
    "        k (int) : length of characters in each substring of the input DNA sequence.\n",
    "        normalize (bool): True will scale each frequency by the total length of the input DNA sequence.\n",
    "    \n",
    "    Output:\n",
    "        4^k number of columns for the frequency of each k-mer in the input DNA sequence.\n",
    "    \n",
    "    \"\"\"\n",
    "    \n",
    "    def __init__(self, k, normalize=False):\n",
    "        self.k = k\n",
    "        self.normalize = normalize\n",
    "        \n",
    "    def fit(self, X):\n",
    "        \n",
    "        self.kmer_perms = self.__create_kmer_permutations(self.k)\n",
    "        \n",
    "        return self\n",
    "        \n",
    "    def transform(self, X):\n",
    "        \n",
    "        seqs = X['seq']\n",
    "        X_trans = pd.DataFrame(seqs.apply(lambda x: self.__kmer_transform_seq(x, self.k, self.kmer_perms)).tolist(), index=seqs.index)\n",
    "        \n",
    "        return X_trans\n",
    "    \n",
    "    def fit_transform(self, X, y=None):\n",
    "        \n",
    "        return self.fit(X).transform(X)\n",
    "    \n",
    "    def __create_kmer_permutations(self, k):\n",
    "        \n",
    "        superstring = 'G' * k + 'A' * k + 'T' * k + 'C' * k\n",
    "        kmer_perms = sorted([''.join(kmer) for kmer in set(permutations(superstring, k))])\n",
    "        \n",
    "        return kmer_perms\n",
    "    \n",
    "    def __kmer_transform_seq(self, seq, k, kmer_perms):\n",
    "        \n",
    "        kmer_freq = dict.fromkeys(kmer_perms, 0)\n",
    "        \n",
    "        for i in range(len(seq) - k):\n",
    "            if self.normalize:\n",
    "                kmer_freq[seq[i:i+k]] += 1/len(seq)\n",
    "            else:\n",
    "                kmer_freq[seq[i:i+k]] += 1\n",
    "\n",
    "        return kmer_freq"
   ]
  },
  {
   "cell_type": "markdown",
   "metadata": {},
   "source": [
    "# EDA"
   ]
  },
  {
   "cell_type": "code",
   "execution_count": 10,
   "metadata": {},
   "outputs": [],
   "source": [
    "kmer_transformer = KMerTransformer(k=3)\n",
    "species_compare_df = pd.concat([human_df, chimp_df, dolphin_df, oak_df], axis=0)\n",
    "kmer_matrix = kmer_transformer.fit_transform(species_compare_df)\n",
    "kmer_matrix = pd.concat([kmer_matrix, species_compare_df.target], axis=1)"
   ]
  },
  {
   "cell_type": "code",
   "execution_count": 11,
   "metadata": {},
   "outputs": [
    {
     "data": {
      "text/html": [
       "<div>\n",
       "<style scoped>\n",
       "    .dataframe tbody tr th:only-of-type {\n",
       "        vertical-align: middle;\n",
       "    }\n",
       "\n",
       "    .dataframe tbody tr th {\n",
       "        vertical-align: top;\n",
       "    }\n",
       "\n",
       "    .dataframe thead th {\n",
       "        text-align: right;\n",
       "    }\n",
       "</style>\n",
       "<table border=\"1\" class=\"dataframe\">\n",
       "  <thead>\n",
       "    <tr style=\"text-align: right;\">\n",
       "      <th></th>\n",
       "      <th>AAA</th>\n",
       "      <th>AAC</th>\n",
       "      <th>AAG</th>\n",
       "      <th>AAT</th>\n",
       "      <th>ACA</th>\n",
       "      <th>ACC</th>\n",
       "      <th>ACG</th>\n",
       "      <th>ACT</th>\n",
       "      <th>AGA</th>\n",
       "      <th>AGC</th>\n",
       "      <th>...</th>\n",
       "      <th>TCT</th>\n",
       "      <th>TGA</th>\n",
       "      <th>TGC</th>\n",
       "      <th>TGG</th>\n",
       "      <th>TGT</th>\n",
       "      <th>TTA</th>\n",
       "      <th>TTC</th>\n",
       "      <th>TTG</th>\n",
       "      <th>TTT</th>\n",
       "      <th>target</th>\n",
       "    </tr>\n",
       "  </thead>\n",
       "  <tbody>\n",
       "    <tr>\n",
       "      <th>0</th>\n",
       "      <td>10</td>\n",
       "      <td>13</td>\n",
       "      <td>13</td>\n",
       "      <td>16</td>\n",
       "      <td>19</td>\n",
       "      <td>10</td>\n",
       "      <td>4</td>\n",
       "      <td>21</td>\n",
       "      <td>15</td>\n",
       "      <td>11</td>\n",
       "      <td>...</td>\n",
       "      <td>34</td>\n",
       "      <td>23</td>\n",
       "      <td>13</td>\n",
       "      <td>21</td>\n",
       "      <td>29</td>\n",
       "      <td>16</td>\n",
       "      <td>29</td>\n",
       "      <td>20</td>\n",
       "      <td>35</td>\n",
       "      <td>human</td>\n",
       "    </tr>\n",
       "    <tr>\n",
       "      <th>1</th>\n",
       "      <td>9</td>\n",
       "      <td>20</td>\n",
       "      <td>14</td>\n",
       "      <td>4</td>\n",
       "      <td>30</td>\n",
       "      <td>18</td>\n",
       "      <td>14</td>\n",
       "      <td>13</td>\n",
       "      <td>41</td>\n",
       "      <td>19</td>\n",
       "      <td>...</td>\n",
       "      <td>25</td>\n",
       "      <td>10</td>\n",
       "      <td>45</td>\n",
       "      <td>44</td>\n",
       "      <td>12</td>\n",
       "      <td>5</td>\n",
       "      <td>7</td>\n",
       "      <td>9</td>\n",
       "      <td>9</td>\n",
       "      <td>human</td>\n",
       "    </tr>\n",
       "    <tr>\n",
       "      <th>2</th>\n",
       "      <td>7</td>\n",
       "      <td>5</td>\n",
       "      <td>12</td>\n",
       "      <td>10</td>\n",
       "      <td>17</td>\n",
       "      <td>10</td>\n",
       "      <td>3</td>\n",
       "      <td>22</td>\n",
       "      <td>15</td>\n",
       "      <td>14</td>\n",
       "      <td>...</td>\n",
       "      <td>31</td>\n",
       "      <td>14</td>\n",
       "      <td>10</td>\n",
       "      <td>30</td>\n",
       "      <td>33</td>\n",
       "      <td>11</td>\n",
       "      <td>33</td>\n",
       "      <td>17</td>\n",
       "      <td>33</td>\n",
       "      <td>human</td>\n",
       "    </tr>\n",
       "    <tr>\n",
       "      <th>3</th>\n",
       "      <td>8</td>\n",
       "      <td>30</td>\n",
       "      <td>15</td>\n",
       "      <td>4</td>\n",
       "      <td>44</td>\n",
       "      <td>34</td>\n",
       "      <td>13</td>\n",
       "      <td>15</td>\n",
       "      <td>64</td>\n",
       "      <td>30</td>\n",
       "      <td>...</td>\n",
       "      <td>52</td>\n",
       "      <td>9</td>\n",
       "      <td>84</td>\n",
       "      <td>70</td>\n",
       "      <td>14</td>\n",
       "      <td>4</td>\n",
       "      <td>10</td>\n",
       "      <td>6</td>\n",
       "      <td>7</td>\n",
       "      <td>human</td>\n",
       "    </tr>\n",
       "    <tr>\n",
       "      <th>4</th>\n",
       "      <td>7</td>\n",
       "      <td>5</td>\n",
       "      <td>12</td>\n",
       "      <td>10</td>\n",
       "      <td>17</td>\n",
       "      <td>10</td>\n",
       "      <td>3</td>\n",
       "      <td>22</td>\n",
       "      <td>15</td>\n",
       "      <td>14</td>\n",
       "      <td>...</td>\n",
       "      <td>31</td>\n",
       "      <td>14</td>\n",
       "      <td>10</td>\n",
       "      <td>30</td>\n",
       "      <td>33</td>\n",
       "      <td>11</td>\n",
       "      <td>33</td>\n",
       "      <td>17</td>\n",
       "      <td>33</td>\n",
       "      <td>human</td>\n",
       "    </tr>\n",
       "  </tbody>\n",
       "</table>\n",
       "<p>5 rows × 65 columns</p>\n",
       "</div>"
      ],
      "text/plain": [
       "   AAA  AAC  AAG  AAT  ACA  ACC  ACG  ACT  AGA  AGC  ...  TCT  TGA  TGC  TGG  \\\n",
       "0   10   13   13   16   19   10    4   21   15   11  ...   34   23   13   21   \n",
       "1    9   20   14    4   30   18   14   13   41   19  ...   25   10   45   44   \n",
       "2    7    5   12   10   17   10    3   22   15   14  ...   31   14   10   30   \n",
       "3    8   30   15    4   44   34   13   15   64   30  ...   52    9   84   70   \n",
       "4    7    5   12   10   17   10    3   22   15   14  ...   31   14   10   30   \n",
       "\n",
       "   TGT  TTA  TTC  TTG  TTT  target  \n",
       "0   29   16   29   20   35   human  \n",
       "1   12    5    7    9    9   human  \n",
       "2   33   11   33   17   33   human  \n",
       "3   14    4   10    6    7   human  \n",
       "4   33   11   33   17   33   human  \n",
       "\n",
       "[5 rows x 65 columns]"
      ]
     },
     "execution_count": 11,
     "metadata": {},
     "output_type": "execute_result"
    }
   ],
   "source": [
    "kmer_matrix.head()"
   ]
  },
  {
   "cell_type": "code",
   "execution_count": 71,
   "metadata": {},
   "outputs": [
    {
     "data": {
      "application/vnd.plotly.v1+json": {
       "config": {
        "plotlyServerURL": "https://plot.ly"
       },
       "data": [
        {
         "colorscale": [
          [
           0,
           "rgb(0, 0, 0)"
          ],
          [
           0.09090909090909091,
           "rgb(16, 16, 16)"
          ],
          [
           0.18181818181818182,
           "rgb(38, 38, 38)"
          ],
          [
           0.2727272727272727,
           "rgb(59, 59, 59)"
          ],
          [
           0.36363636363636365,
           "rgb(81, 80, 80)"
          ],
          [
           0.45454545454545453,
           "rgb(102, 101, 101)"
          ],
          [
           0.5454545454545454,
           "rgb(124, 123, 122)"
          ],
          [
           0.6363636363636364,
           "rgb(146, 146, 145)"
          ],
          [
           0.7272727272727273,
           "rgb(171, 171, 170)"
          ],
          [
           0.8181818181818182,
           "rgb(197, 197, 195)"
          ],
          [
           0.9090909090909091,
           "rgb(224, 224, 223)"
          ],
          [
           1,
           "rgb(254, 254, 253)"
          ]
         ],
         "type": "heatmap",
         "xaxis": "x",
         "yaxis": "y",
         "z": [
          [
           0.9098054518089079,
           0.4742145164460848,
           0.8780296384531203,
           0.47722251724411086
          ],
          [
           0.6306283575039388,
           0.5227283396070308,
           0.13833429663684826,
           0.4469518045070869
          ],
          [
           0.947980143233942,
           0.6971740488966995,
           0.6648488591454665,
           0.4841245624792792
          ],
          [
           0.2707178713828442,
           0.4216804903165992,
           0.6345686111706045,
           0.4248630593150472
          ],
          [
           0.6734606458730024,
           0.5099848609762323,
           1,
           0.4877912281679727
          ],
          [
           0.8055500952056824,
           0.5868843537015793,
           0.2276919443376824,
           0.6656564204423763
          ],
          [
           0.1605770725939661,
           0.16428774707268198,
           0.2225700546589172,
           0.10605751655463984
          ],
          [
           0.2739569183284875,
           0.5410411306151548,
           0.8982091356380248,
           0.487663602676908
          ],
          [
           0.8970311670250938,
           0.46025639521067,
           0.7559485214513512,
           0.48331113334369985
          ],
          [
           0.6239999002467426,
           0.6235385414313419,
           0.1734657802318383,
           0.5846340375717709
          ],
          [
           0.7757106686108772,
           0.556078934165784,
           0.45474062686120503,
           0.3371344703248729
          ],
          [
           0.19558826549622846,
           0.32249934720294804,
           0.5786737804430805,
           0.3217783365264155
          ],
          [
           0.2589748592452199,
           0.2941848251824164,
           0.1601479868912484,
           0.2888590281098812
          ],
          [
           0.6110554481415088,
           0.5526308454675347,
           0.1139996361940025,
           0.5036270577776735
          ],
          [
           0.7122793325920297,
           0.5880967958666945,
           0.7815029588576491,
           0.49122024639054573
          ],
          [
           0.26943721559319445,
           0.4960905524863499,
           0.4687786973984937,
           0.4522475289064402
          ]
         ]
        },
        {
         "colorscale": [
          [
           0,
           "rgb(0, 0, 0)"
          ],
          [
           0.09090909090909091,
           "rgb(16, 16, 16)"
          ],
          [
           0.18181818181818182,
           "rgb(38, 38, 38)"
          ],
          [
           0.2727272727272727,
           "rgb(59, 59, 59)"
          ],
          [
           0.36363636363636365,
           "rgb(81, 80, 80)"
          ],
          [
           0.45454545454545453,
           "rgb(102, 101, 101)"
          ],
          [
           0.5454545454545454,
           "rgb(124, 123, 122)"
          ],
          [
           0.6363636363636364,
           "rgb(146, 146, 145)"
          ],
          [
           0.7272727272727273,
           "rgb(171, 171, 170)"
          ],
          [
           0.8181818181818182,
           "rgb(197, 197, 195)"
          ],
          [
           0.9090909090909091,
           "rgb(224, 224, 223)"
          ],
          [
           1,
           "rgb(254, 254, 253)"
          ]
         ],
         "type": "heatmap",
         "xaxis": "x2",
         "yaxis": "y2",
         "z": [
          [
           0.6232598190945339,
           0.3498126692504716,
           0.6492550778808888,
           0.3142484325535954
          ],
          [
           0.4631096317637843,
           0.4184216394154459,
           0.15832602298432408,
           0.3221106028910842
          ],
          [
           0.7149337961102097,
           0.5828238093421859,
           0.5428029491757154,
           0.3448807508486362
          ],
          [
           0.16916905536599178,
           0.320300374661499,
           0.4540724267326994,
           0.282414674290945
          ],
          [
           0.4850032713200583,
           0.40702116236016206,
           0.8112653700699153,
           0.3579528284449348
          ],
          [
           0.6327165745904982,
           0.5565600969366947,
           0.26066846418124584,
           0.5498898313289774
          ],
          [
           0.16543197561326248,
           0.19861753720943195,
           0.25804627377574885,
           0.1092532881900945
          ],
          [
           0.18925099973301332,
           0.45174069434134984,
           0.7326363318966908,
           0.37902497058745865
          ],
          [
           0.66516425547396,
           0.3894697234194243,
           0.6312136744112358,
           0.35317640776784487
          ],
          [
           0.5050485416953946,
           0.5750225178308948,
           0.1967977737420087,
           0.4892743243917252
          ],
          [
           0.6467311737731083,
           0.5097890218606329,
           0.42120739582385924,
           0.26188604070519683
          ],
          [
           0.13045745670268544,
           0.2611180873193073,
           0.45101601626564874,
           0.2234759022535434
          ],
          [
           0.16314278505226776,
           0.2156621415850793,
           0.09370718311470745,
           0.1859342039249973
          ],
          [
           0.46036421674622474,
           0.44982704545521224,
           0.11555608040112546,
           0.39137897142655964
          ],
          [
           0.5119263820960506,
           0.4749127892477724,
           0.6175570133874739,
           0.35004738279725733
          ],
          [
           0.17703636006231646,
           0.3839649572674649,
           0.32391496328199954,
           0.33921975349209754
          ]
         ]
        },
        {
         "colorscale": [
          [
           0,
           "rgb(0, 0, 0)"
          ],
          [
           0.09090909090909091,
           "rgb(16, 16, 16)"
          ],
          [
           0.18181818181818182,
           "rgb(38, 38, 38)"
          ],
          [
           0.2727272727272727,
           "rgb(59, 59, 59)"
          ],
          [
           0.36363636363636365,
           "rgb(81, 80, 80)"
          ],
          [
           0.45454545454545453,
           "rgb(102, 101, 101)"
          ],
          [
           0.5454545454545454,
           "rgb(124, 123, 122)"
          ],
          [
           0.6363636363636364,
           "rgb(146, 146, 145)"
          ],
          [
           0.7272727272727273,
           "rgb(171, 171, 170)"
          ],
          [
           0.8181818181818182,
           "rgb(197, 197, 195)"
          ],
          [
           0.9090909090909091,
           "rgb(224, 224, 223)"
          ],
          [
           1,
           "rgb(254, 254, 253)"
          ]
         ],
         "type": "heatmap",
         "xaxis": "x3",
         "yaxis": "y3",
         "z": [
          [
           0.8076331779334058,
           0.41350732452961936,
           0.7751084816674051,
           0.4256596184144513
          ],
          [
           0.5534501424417837,
           0.4393250811962176,
           0.10972051484416488,
           0.3920281010793889
          ],
          [
           0.8305918302082202,
           0.6025976921790511,
           0.5632061577098999,
           0.4154466452099366
          ],
          [
           0.24861298963446296,
           0.36754527771013457,
           0.5672784377466326,
           0.3783237638664363
          ],
          [
           0.5995420151918343,
           0.4250537640718106,
           0.8674271874569079,
           0.42985879046241504
          ],
          [
           0.6913025428278874,
           0.5002684536191362,
           0.18199028285916305,
           0.5733421155318755
          ],
          [
           0.12936237131096318,
           0.12592455133038571,
           0.1778805953509114,
           0.0782967718085559
          ],
          [
           0.23893178930938477,
           0.4759939385226542,
           0.7745796427073034,
           0.4362048579836345
          ],
          [
           0.788854627230879,
           0.39679058563963837,
           0.6382352768592979,
           0.4303714928661751
          ],
          [
           0.5388179532391936,
           0.5311604237753087,
           0.12973791298582035,
           0.5114789593974903
          ],
          [
           0.6719819505282522,
           0.4706982141233009,
           0.38688640744511377,
           0.27430898864866615
          ],
          [
           0.1609929556596771,
           0.2720550051196892,
           0.4846849410722301,
           0.272852297698927
          ],
          [
           0.2258809826282636,
           0.2591706983608193,
           0.13107137932349688,
           0.2612193075363586
          ],
          [
           0.5383140525934379,
           0.4761868437189188,
           0.09001557911166791,
           0.44885738511505363
          ],
          [
           0.6223150970687212,
           0.5119747917650752,
           0.6759031337192415,
           0.422527659524529
          ],
          [
           0.23657145120452056,
           0.4377899079042721,
           0.4130210273998726,
           0.4144527800352657
          ]
         ]
        },
        {
         "colorscale": [
          [
           0,
           "rgb(0, 0, 0)"
          ],
          [
           0.09090909090909091,
           "rgb(16, 16, 16)"
          ],
          [
           0.18181818181818182,
           "rgb(38, 38, 38)"
          ],
          [
           0.2727272727272727,
           "rgb(59, 59, 59)"
          ],
          [
           0.36363636363636365,
           "rgb(81, 80, 80)"
          ],
          [
           0.45454545454545453,
           "rgb(102, 101, 101)"
          ],
          [
           0.5454545454545454,
           "rgb(124, 123, 122)"
          ],
          [
           0.6363636363636364,
           "rgb(146, 146, 145)"
          ],
          [
           0.7272727272727273,
           "rgb(171, 171, 170)"
          ],
          [
           0.8181818181818182,
           "rgb(197, 197, 195)"
          ],
          [
           0.9090909090909091,
           "rgb(224, 224, 223)"
          ],
          [
           1,
           "rgb(254, 254, 253)"
          ]
         ],
         "type": "heatmap",
         "xaxis": "x4",
         "yaxis": "y4",
         "z": [
          [
           0.6065320780070472,
           0.26572214023547636,
           0.5383558609439592,
           0.4452530652122251
          ],
          [
           0.309841685712693,
           0.16253106287095742,
           0.03652729571853152,
           0.24938240998001998
          ],
          [
           0.49912789247772427,
           0.2381278954116436,
           0.31231497971194777,
           0.2655703099098994
          ],
          [
           0.2594134801857758,
           0.26875654630751583,
           0.47305048394999427,
           0.44836155274746875
          ],
          [
           0.4964235523308522,
           0.1714479772093146,
           0.2740170636748514,
           0.31342766861967897
          ],
          [
           0.28123597219818036,
           0.09916060567830749,
           0.02127898345562887,
           0.20478536913106113
          ],
          [
           0.06660216933995618,
           0,
           0.029028197898726966,
           0.03257163897535801
          ],
          [
           0.18188979612194542,
           0.23758658729436893,
           0.26144595280497357,
           0.3864705243794027
          ],
          [
           0.5323303241100689,
           0.15606763857634498,
           0.35289401803186826,
           0.3886108185341553
          ],
          [
           0.2789365129195138,
           0.1258710073025252,
           0.010556975246522568,
           0.2642449118503936
          ],
          [
           0.3921315217359414,
           0.1565803409801051,
           0.1937369623959559,
           0.23575948902860866
          ],
          [
           0.1323417663954747,
           0.1354583222088892,
           0.2551167553199292,
           0.31986688807977914
          ],
          [
           0.22057205559190354,
           0.16504469826106602,
           0.14987340138070243,
           0.28765612118260425
          ],
          [
           0.38529548968580657,
           0.2188982546113877,
           0.0598380183135245,
           0.3489772357198811
          ],
          [
           0.4720419491786493,
           0.28489970396753916,
           0.4431281741339803,
           0.30888302757003994
          ],
          [
           0.2581100865212812,
           0.37120534208032485,
           0.5253879374840468,
           0.4786263976458231
          ]
         ]
        }
       ],
       "layout": {
        "annotations": [
         {
          "showarrow": false,
          "text": "AAA",
          "x": 0,
          "xref": "x",
          "y": 0,
          "yref": "y"
         },
         {
          "showarrow": false,
          "text": "AAC",
          "x": 1,
          "xref": "x",
          "y": 0,
          "yref": "y"
         },
         {
          "showarrow": false,
          "text": "AAG",
          "x": 2,
          "xref": "x",
          "y": 0,
          "yref": "y"
         },
         {
          "showarrow": false,
          "text": "AAT",
          "x": 3,
          "xref": "x",
          "y": 0,
          "yref": "y"
         },
         {
          "showarrow": false,
          "text": "ACA",
          "x": 0,
          "xref": "x",
          "y": 1,
          "yref": "y"
         },
         {
          "showarrow": false,
          "text": "ACC",
          "x": 1,
          "xref": "x",
          "y": 1,
          "yref": "y"
         },
         {
          "showarrow": false,
          "text": "ACG",
          "x": 2,
          "xref": "x",
          "y": 1,
          "yref": "y"
         },
         {
          "showarrow": false,
          "text": "ACT",
          "x": 3,
          "xref": "x",
          "y": 1,
          "yref": "y"
         },
         {
          "showarrow": false,
          "text": "AGA",
          "x": 0,
          "xref": "x",
          "y": 2,
          "yref": "y"
         },
         {
          "showarrow": false,
          "text": "AGC",
          "x": 1,
          "xref": "x",
          "y": 2,
          "yref": "y"
         },
         {
          "showarrow": false,
          "text": "AGG",
          "x": 2,
          "xref": "x",
          "y": 2,
          "yref": "y"
         },
         {
          "showarrow": false,
          "text": "AGT",
          "x": 3,
          "xref": "x",
          "y": 2,
          "yref": "y"
         },
         {
          "showarrow": false,
          "text": "ATA",
          "x": 0,
          "xref": "x",
          "y": 3,
          "yref": "y"
         },
         {
          "showarrow": false,
          "text": "ATC",
          "x": 1,
          "xref": "x",
          "y": 3,
          "yref": "y"
         },
         {
          "showarrow": false,
          "text": "ATG",
          "x": 2,
          "xref": "x",
          "y": 3,
          "yref": "y"
         },
         {
          "showarrow": false,
          "text": "ATT",
          "x": 3,
          "xref": "x",
          "y": 3,
          "yref": "y"
         },
         {
          "showarrow": false,
          "text": "CAA",
          "x": 0,
          "xref": "x",
          "y": 4,
          "yref": "y"
         },
         {
          "showarrow": false,
          "text": "CAC",
          "x": 1,
          "xref": "x",
          "y": 4,
          "yref": "y"
         },
         {
          "showarrow": false,
          "text": "CAG",
          "x": 2,
          "xref": "x",
          "y": 4,
          "yref": "y"
         },
         {
          "showarrow": false,
          "text": "CAT",
          "x": 3,
          "xref": "x",
          "y": 4,
          "yref": "y"
         },
         {
          "showarrow": false,
          "text": "CCA",
          "x": 0,
          "xref": "x",
          "y": 5,
          "yref": "y"
         },
         {
          "showarrow": false,
          "text": "CCC",
          "x": 1,
          "xref": "x",
          "y": 5,
          "yref": "y"
         },
         {
          "showarrow": false,
          "text": "CCG",
          "x": 2,
          "xref": "x",
          "y": 5,
          "yref": "y"
         },
         {
          "showarrow": false,
          "text": "CCT",
          "x": 3,
          "xref": "x",
          "y": 5,
          "yref": "y"
         },
         {
          "showarrow": false,
          "text": "CGA",
          "x": 0,
          "xref": "x",
          "y": 6,
          "yref": "y"
         },
         {
          "showarrow": false,
          "text": "CGC",
          "x": 1,
          "xref": "x",
          "y": 6,
          "yref": "y"
         },
         {
          "showarrow": false,
          "text": "CGG",
          "x": 2,
          "xref": "x",
          "y": 6,
          "yref": "y"
         },
         {
          "showarrow": false,
          "text": "CGT",
          "x": 3,
          "xref": "x",
          "y": 6,
          "yref": "y"
         },
         {
          "showarrow": false,
          "text": "CTA",
          "x": 0,
          "xref": "x",
          "y": 7,
          "yref": "y"
         },
         {
          "showarrow": false,
          "text": "CTC",
          "x": 1,
          "xref": "x",
          "y": 7,
          "yref": "y"
         },
         {
          "showarrow": false,
          "text": "CTG",
          "x": 2,
          "xref": "x",
          "y": 7,
          "yref": "y"
         },
         {
          "showarrow": false,
          "text": "CTT",
          "x": 3,
          "xref": "x",
          "y": 7,
          "yref": "y"
         },
         {
          "showarrow": false,
          "text": "GAA",
          "x": 0,
          "xref": "x",
          "y": 8,
          "yref": "y"
         },
         {
          "showarrow": false,
          "text": "GAC",
          "x": 1,
          "xref": "x",
          "y": 8,
          "yref": "y"
         },
         {
          "showarrow": false,
          "text": "GAG",
          "x": 2,
          "xref": "x",
          "y": 8,
          "yref": "y"
         },
         {
          "showarrow": false,
          "text": "GAT",
          "x": 3,
          "xref": "x",
          "y": 8,
          "yref": "y"
         },
         {
          "showarrow": false,
          "text": "GCA",
          "x": 0,
          "xref": "x",
          "y": 9,
          "yref": "y"
         },
         {
          "showarrow": false,
          "text": "GCC",
          "x": 1,
          "xref": "x",
          "y": 9,
          "yref": "y"
         },
         {
          "showarrow": false,
          "text": "GCG",
          "x": 2,
          "xref": "x",
          "y": 9,
          "yref": "y"
         },
         {
          "showarrow": false,
          "text": "GCT",
          "x": 3,
          "xref": "x",
          "y": 9,
          "yref": "y"
         },
         {
          "showarrow": false,
          "text": "GGA",
          "x": 0,
          "xref": "x",
          "y": 10,
          "yref": "y"
         },
         {
          "showarrow": false,
          "text": "GGC",
          "x": 1,
          "xref": "x",
          "y": 10,
          "yref": "y"
         },
         {
          "showarrow": false,
          "text": "GGG",
          "x": 2,
          "xref": "x",
          "y": 10,
          "yref": "y"
         },
         {
          "showarrow": false,
          "text": "GGT",
          "x": 3,
          "xref": "x",
          "y": 10,
          "yref": "y"
         },
         {
          "showarrow": false,
          "text": "GTA",
          "x": 0,
          "xref": "x",
          "y": 11,
          "yref": "y"
         },
         {
          "showarrow": false,
          "text": "GTC",
          "x": 1,
          "xref": "x",
          "y": 11,
          "yref": "y"
         },
         {
          "showarrow": false,
          "text": "GTG",
          "x": 2,
          "xref": "x",
          "y": 11,
          "yref": "y"
         },
         {
          "showarrow": false,
          "text": "GTT",
          "x": 3,
          "xref": "x",
          "y": 11,
          "yref": "y"
         },
         {
          "showarrow": false,
          "text": "TAA",
          "x": 0,
          "xref": "x",
          "y": 12,
          "yref": "y"
         },
         {
          "showarrow": false,
          "text": "TAC",
          "x": 1,
          "xref": "x",
          "y": 12,
          "yref": "y"
         },
         {
          "showarrow": false,
          "text": "TAG",
          "x": 2,
          "xref": "x",
          "y": 12,
          "yref": "y"
         },
         {
          "showarrow": false,
          "text": "TAT",
          "x": 3,
          "xref": "x",
          "y": 12,
          "yref": "y"
         },
         {
          "showarrow": false,
          "text": "TCA",
          "x": 0,
          "xref": "x",
          "y": 13,
          "yref": "y"
         },
         {
          "showarrow": false,
          "text": "TCC",
          "x": 1,
          "xref": "x",
          "y": 13,
          "yref": "y"
         },
         {
          "showarrow": false,
          "text": "TCG",
          "x": 2,
          "xref": "x",
          "y": 13,
          "yref": "y"
         },
         {
          "showarrow": false,
          "text": "TCT",
          "x": 3,
          "xref": "x",
          "y": 13,
          "yref": "y"
         },
         {
          "showarrow": false,
          "text": "TGA",
          "x": 0,
          "xref": "x",
          "y": 14,
          "yref": "y"
         },
         {
          "showarrow": false,
          "text": "TGC",
          "x": 1,
          "xref": "x",
          "y": 14,
          "yref": "y"
         },
         {
          "showarrow": false,
          "text": "TGG",
          "x": 2,
          "xref": "x",
          "y": 14,
          "yref": "y"
         },
         {
          "showarrow": false,
          "text": "TGT",
          "x": 3,
          "xref": "x",
          "y": 14,
          "yref": "y"
         },
         {
          "showarrow": false,
          "text": "TTA",
          "x": 0,
          "xref": "x",
          "y": 15,
          "yref": "y"
         },
         {
          "showarrow": false,
          "text": "TTC",
          "x": 1,
          "xref": "x",
          "y": 15,
          "yref": "y"
         },
         {
          "showarrow": false,
          "text": "TTG",
          "x": 2,
          "xref": "x",
          "y": 15,
          "yref": "y"
         },
         {
          "showarrow": false,
          "text": "TTT",
          "x": 3,
          "xref": "x",
          "y": 15,
          "yref": "y"
         },
         {
          "showarrow": false,
          "text": "AAA",
          "x": 0,
          "xref": "x2",
          "y": 0,
          "yref": "y2"
         },
         {
          "showarrow": false,
          "text": "AAC",
          "x": 1,
          "xref": "x2",
          "y": 0,
          "yref": "y2"
         },
         {
          "showarrow": false,
          "text": "AAG",
          "x": 2,
          "xref": "x2",
          "y": 0,
          "yref": "y2"
         },
         {
          "showarrow": false,
          "text": "AAT",
          "x": 3,
          "xref": "x2",
          "y": 0,
          "yref": "y2"
         },
         {
          "showarrow": false,
          "text": "ACA",
          "x": 0,
          "xref": "x2",
          "y": 1,
          "yref": "y2"
         },
         {
          "showarrow": false,
          "text": "ACC",
          "x": 1,
          "xref": "x2",
          "y": 1,
          "yref": "y2"
         },
         {
          "showarrow": false,
          "text": "ACG",
          "x": 2,
          "xref": "x2",
          "y": 1,
          "yref": "y2"
         },
         {
          "showarrow": false,
          "text": "ACT",
          "x": 3,
          "xref": "x2",
          "y": 1,
          "yref": "y2"
         },
         {
          "showarrow": false,
          "text": "AGA",
          "x": 0,
          "xref": "x2",
          "y": 2,
          "yref": "y2"
         },
         {
          "showarrow": false,
          "text": "AGC",
          "x": 1,
          "xref": "x2",
          "y": 2,
          "yref": "y2"
         },
         {
          "showarrow": false,
          "text": "AGG",
          "x": 2,
          "xref": "x2",
          "y": 2,
          "yref": "y2"
         },
         {
          "showarrow": false,
          "text": "AGT",
          "x": 3,
          "xref": "x2",
          "y": 2,
          "yref": "y2"
         },
         {
          "showarrow": false,
          "text": "ATA",
          "x": 0,
          "xref": "x2",
          "y": 3,
          "yref": "y2"
         },
         {
          "showarrow": false,
          "text": "ATC",
          "x": 1,
          "xref": "x2",
          "y": 3,
          "yref": "y2"
         },
         {
          "showarrow": false,
          "text": "ATG",
          "x": 2,
          "xref": "x2",
          "y": 3,
          "yref": "y2"
         },
         {
          "showarrow": false,
          "text": "ATT",
          "x": 3,
          "xref": "x2",
          "y": 3,
          "yref": "y2"
         },
         {
          "showarrow": false,
          "text": "CAA",
          "x": 0,
          "xref": "x2",
          "y": 4,
          "yref": "y2"
         },
         {
          "showarrow": false,
          "text": "CAC",
          "x": 1,
          "xref": "x2",
          "y": 4,
          "yref": "y2"
         },
         {
          "showarrow": false,
          "text": "CAG",
          "x": 2,
          "xref": "x2",
          "y": 4,
          "yref": "y2"
         },
         {
          "showarrow": false,
          "text": "CAT",
          "x": 3,
          "xref": "x2",
          "y": 4,
          "yref": "y2"
         },
         {
          "showarrow": false,
          "text": "CCA",
          "x": 0,
          "xref": "x2",
          "y": 5,
          "yref": "y2"
         },
         {
          "showarrow": false,
          "text": "CCC",
          "x": 1,
          "xref": "x2",
          "y": 5,
          "yref": "y2"
         },
         {
          "showarrow": false,
          "text": "CCG",
          "x": 2,
          "xref": "x2",
          "y": 5,
          "yref": "y2"
         },
         {
          "showarrow": false,
          "text": "CCT",
          "x": 3,
          "xref": "x2",
          "y": 5,
          "yref": "y2"
         },
         {
          "showarrow": false,
          "text": "CGA",
          "x": 0,
          "xref": "x2",
          "y": 6,
          "yref": "y2"
         },
         {
          "showarrow": false,
          "text": "CGC",
          "x": 1,
          "xref": "x2",
          "y": 6,
          "yref": "y2"
         },
         {
          "showarrow": false,
          "text": "CGG",
          "x": 2,
          "xref": "x2",
          "y": 6,
          "yref": "y2"
         },
         {
          "showarrow": false,
          "text": "CGT",
          "x": 3,
          "xref": "x2",
          "y": 6,
          "yref": "y2"
         },
         {
          "showarrow": false,
          "text": "CTA",
          "x": 0,
          "xref": "x2",
          "y": 7,
          "yref": "y2"
         },
         {
          "showarrow": false,
          "text": "CTC",
          "x": 1,
          "xref": "x2",
          "y": 7,
          "yref": "y2"
         },
         {
          "showarrow": false,
          "text": "CTG",
          "x": 2,
          "xref": "x2",
          "y": 7,
          "yref": "y2"
         },
         {
          "showarrow": false,
          "text": "CTT",
          "x": 3,
          "xref": "x2",
          "y": 7,
          "yref": "y2"
         },
         {
          "showarrow": false,
          "text": "GAA",
          "x": 0,
          "xref": "x2",
          "y": 8,
          "yref": "y2"
         },
         {
          "showarrow": false,
          "text": "GAC",
          "x": 1,
          "xref": "x2",
          "y": 8,
          "yref": "y2"
         },
         {
          "showarrow": false,
          "text": "GAG",
          "x": 2,
          "xref": "x2",
          "y": 8,
          "yref": "y2"
         },
         {
          "showarrow": false,
          "text": "GAT",
          "x": 3,
          "xref": "x2",
          "y": 8,
          "yref": "y2"
         },
         {
          "showarrow": false,
          "text": "GCA",
          "x": 0,
          "xref": "x2",
          "y": 9,
          "yref": "y2"
         },
         {
          "showarrow": false,
          "text": "GCC",
          "x": 1,
          "xref": "x2",
          "y": 9,
          "yref": "y2"
         },
         {
          "showarrow": false,
          "text": "GCG",
          "x": 2,
          "xref": "x2",
          "y": 9,
          "yref": "y2"
         },
         {
          "showarrow": false,
          "text": "GCT",
          "x": 3,
          "xref": "x2",
          "y": 9,
          "yref": "y2"
         },
         {
          "showarrow": false,
          "text": "GGA",
          "x": 0,
          "xref": "x2",
          "y": 10,
          "yref": "y2"
         },
         {
          "showarrow": false,
          "text": "GGC",
          "x": 1,
          "xref": "x2",
          "y": 10,
          "yref": "y2"
         },
         {
          "showarrow": false,
          "text": "GGG",
          "x": 2,
          "xref": "x2",
          "y": 10,
          "yref": "y2"
         },
         {
          "showarrow": false,
          "text": "GGT",
          "x": 3,
          "xref": "x2",
          "y": 10,
          "yref": "y2"
         },
         {
          "showarrow": false,
          "text": "GTA",
          "x": 0,
          "xref": "x2",
          "y": 11,
          "yref": "y2"
         },
         {
          "showarrow": false,
          "text": "GTC",
          "x": 1,
          "xref": "x2",
          "y": 11,
          "yref": "y2"
         },
         {
          "showarrow": false,
          "text": "GTG",
          "x": 2,
          "xref": "x2",
          "y": 11,
          "yref": "y2"
         },
         {
          "showarrow": false,
          "text": "GTT",
          "x": 3,
          "xref": "x2",
          "y": 11,
          "yref": "y2"
         },
         {
          "showarrow": false,
          "text": "TAA",
          "x": 0,
          "xref": "x2",
          "y": 12,
          "yref": "y2"
         },
         {
          "showarrow": false,
          "text": "TAC",
          "x": 1,
          "xref": "x2",
          "y": 12,
          "yref": "y2"
         },
         {
          "showarrow": false,
          "text": "TAG",
          "x": 2,
          "xref": "x2",
          "y": 12,
          "yref": "y2"
         },
         {
          "showarrow": false,
          "text": "TAT",
          "x": 3,
          "xref": "x2",
          "y": 12,
          "yref": "y2"
         },
         {
          "showarrow": false,
          "text": "TCA",
          "x": 0,
          "xref": "x2",
          "y": 13,
          "yref": "y2"
         },
         {
          "showarrow": false,
          "text": "TCC",
          "x": 1,
          "xref": "x2",
          "y": 13,
          "yref": "y2"
         },
         {
          "showarrow": false,
          "text": "TCG",
          "x": 2,
          "xref": "x2",
          "y": 13,
          "yref": "y2"
         },
         {
          "showarrow": false,
          "text": "TCT",
          "x": 3,
          "xref": "x2",
          "y": 13,
          "yref": "y2"
         },
         {
          "showarrow": false,
          "text": "TGA",
          "x": 0,
          "xref": "x2",
          "y": 14,
          "yref": "y2"
         },
         {
          "showarrow": false,
          "text": "TGC",
          "x": 1,
          "xref": "x2",
          "y": 14,
          "yref": "y2"
         },
         {
          "showarrow": false,
          "text": "TGG",
          "x": 2,
          "xref": "x2",
          "y": 14,
          "yref": "y2"
         },
         {
          "showarrow": false,
          "text": "TGT",
          "x": 3,
          "xref": "x2",
          "y": 14,
          "yref": "y2"
         },
         {
          "showarrow": false,
          "text": "TTA",
          "x": 0,
          "xref": "x2",
          "y": 15,
          "yref": "y2"
         },
         {
          "showarrow": false,
          "text": "TTC",
          "x": 1,
          "xref": "x2",
          "y": 15,
          "yref": "y2"
         },
         {
          "showarrow": false,
          "text": "TTG",
          "x": 2,
          "xref": "x2",
          "y": 15,
          "yref": "y2"
         },
         {
          "showarrow": false,
          "text": "TTT",
          "x": 3,
          "xref": "x2",
          "y": 15,
          "yref": "y2"
         },
         {
          "showarrow": false,
          "text": "AAA",
          "x": 0,
          "xref": "x3",
          "y": 0,
          "yref": "y3"
         },
         {
          "showarrow": false,
          "text": "AAC",
          "x": 1,
          "xref": "x3",
          "y": 0,
          "yref": "y3"
         },
         {
          "showarrow": false,
          "text": "AAG",
          "x": 2,
          "xref": "x3",
          "y": 0,
          "yref": "y3"
         },
         {
          "showarrow": false,
          "text": "AAT",
          "x": 3,
          "xref": "x3",
          "y": 0,
          "yref": "y3"
         },
         {
          "showarrow": false,
          "text": "ACA",
          "x": 0,
          "xref": "x3",
          "y": 1,
          "yref": "y3"
         },
         {
          "showarrow": false,
          "text": "ACC",
          "x": 1,
          "xref": "x3",
          "y": 1,
          "yref": "y3"
         },
         {
          "showarrow": false,
          "text": "ACG",
          "x": 2,
          "xref": "x3",
          "y": 1,
          "yref": "y3"
         },
         {
          "showarrow": false,
          "text": "ACT",
          "x": 3,
          "xref": "x3",
          "y": 1,
          "yref": "y3"
         },
         {
          "showarrow": false,
          "text": "AGA",
          "x": 0,
          "xref": "x3",
          "y": 2,
          "yref": "y3"
         },
         {
          "showarrow": false,
          "text": "AGC",
          "x": 1,
          "xref": "x3",
          "y": 2,
          "yref": "y3"
         },
         {
          "showarrow": false,
          "text": "AGG",
          "x": 2,
          "xref": "x3",
          "y": 2,
          "yref": "y3"
         },
         {
          "showarrow": false,
          "text": "AGT",
          "x": 3,
          "xref": "x3",
          "y": 2,
          "yref": "y3"
         },
         {
          "showarrow": false,
          "text": "ATA",
          "x": 0,
          "xref": "x3",
          "y": 3,
          "yref": "y3"
         },
         {
          "showarrow": false,
          "text": "ATC",
          "x": 1,
          "xref": "x3",
          "y": 3,
          "yref": "y3"
         },
         {
          "showarrow": false,
          "text": "ATG",
          "x": 2,
          "xref": "x3",
          "y": 3,
          "yref": "y3"
         },
         {
          "showarrow": false,
          "text": "ATT",
          "x": 3,
          "xref": "x3",
          "y": 3,
          "yref": "y3"
         },
         {
          "showarrow": false,
          "text": "CAA",
          "x": 0,
          "xref": "x3",
          "y": 4,
          "yref": "y3"
         },
         {
          "showarrow": false,
          "text": "CAC",
          "x": 1,
          "xref": "x3",
          "y": 4,
          "yref": "y3"
         },
         {
          "showarrow": false,
          "text": "CAG",
          "x": 2,
          "xref": "x3",
          "y": 4,
          "yref": "y3"
         },
         {
          "showarrow": false,
          "text": "CAT",
          "x": 3,
          "xref": "x3",
          "y": 4,
          "yref": "y3"
         },
         {
          "showarrow": false,
          "text": "CCA",
          "x": 0,
          "xref": "x3",
          "y": 5,
          "yref": "y3"
         },
         {
          "showarrow": false,
          "text": "CCC",
          "x": 1,
          "xref": "x3",
          "y": 5,
          "yref": "y3"
         },
         {
          "showarrow": false,
          "text": "CCG",
          "x": 2,
          "xref": "x3",
          "y": 5,
          "yref": "y3"
         },
         {
          "showarrow": false,
          "text": "CCT",
          "x": 3,
          "xref": "x3",
          "y": 5,
          "yref": "y3"
         },
         {
          "showarrow": false,
          "text": "CGA",
          "x": 0,
          "xref": "x3",
          "y": 6,
          "yref": "y3"
         },
         {
          "showarrow": false,
          "text": "CGC",
          "x": 1,
          "xref": "x3",
          "y": 6,
          "yref": "y3"
         },
         {
          "showarrow": false,
          "text": "CGG",
          "x": 2,
          "xref": "x3",
          "y": 6,
          "yref": "y3"
         },
         {
          "showarrow": false,
          "text": "CGT",
          "x": 3,
          "xref": "x3",
          "y": 6,
          "yref": "y3"
         },
         {
          "showarrow": false,
          "text": "CTA",
          "x": 0,
          "xref": "x3",
          "y": 7,
          "yref": "y3"
         },
         {
          "showarrow": false,
          "text": "CTC",
          "x": 1,
          "xref": "x3",
          "y": 7,
          "yref": "y3"
         },
         {
          "showarrow": false,
          "text": "CTG",
          "x": 2,
          "xref": "x3",
          "y": 7,
          "yref": "y3"
         },
         {
          "showarrow": false,
          "text": "CTT",
          "x": 3,
          "xref": "x3",
          "y": 7,
          "yref": "y3"
         },
         {
          "showarrow": false,
          "text": "GAA",
          "x": 0,
          "xref": "x3",
          "y": 8,
          "yref": "y3"
         },
         {
          "showarrow": false,
          "text": "GAC",
          "x": 1,
          "xref": "x3",
          "y": 8,
          "yref": "y3"
         },
         {
          "showarrow": false,
          "text": "GAG",
          "x": 2,
          "xref": "x3",
          "y": 8,
          "yref": "y3"
         },
         {
          "showarrow": false,
          "text": "GAT",
          "x": 3,
          "xref": "x3",
          "y": 8,
          "yref": "y3"
         },
         {
          "showarrow": false,
          "text": "GCA",
          "x": 0,
          "xref": "x3",
          "y": 9,
          "yref": "y3"
         },
         {
          "showarrow": false,
          "text": "GCC",
          "x": 1,
          "xref": "x3",
          "y": 9,
          "yref": "y3"
         },
         {
          "showarrow": false,
          "text": "GCG",
          "x": 2,
          "xref": "x3",
          "y": 9,
          "yref": "y3"
         },
         {
          "showarrow": false,
          "text": "GCT",
          "x": 3,
          "xref": "x3",
          "y": 9,
          "yref": "y3"
         },
         {
          "showarrow": false,
          "text": "GGA",
          "x": 0,
          "xref": "x3",
          "y": 10,
          "yref": "y3"
         },
         {
          "showarrow": false,
          "text": "GGC",
          "x": 1,
          "xref": "x3",
          "y": 10,
          "yref": "y3"
         },
         {
          "showarrow": false,
          "text": "GGG",
          "x": 2,
          "xref": "x3",
          "y": 10,
          "yref": "y3"
         },
         {
          "showarrow": false,
          "text": "GGT",
          "x": 3,
          "xref": "x3",
          "y": 10,
          "yref": "y3"
         },
         {
          "showarrow": false,
          "text": "GTA",
          "x": 0,
          "xref": "x3",
          "y": 11,
          "yref": "y3"
         },
         {
          "showarrow": false,
          "text": "GTC",
          "x": 1,
          "xref": "x3",
          "y": 11,
          "yref": "y3"
         },
         {
          "showarrow": false,
          "text": "GTG",
          "x": 2,
          "xref": "x3",
          "y": 11,
          "yref": "y3"
         },
         {
          "showarrow": false,
          "text": "GTT",
          "x": 3,
          "xref": "x3",
          "y": 11,
          "yref": "y3"
         },
         {
          "showarrow": false,
          "text": "TAA",
          "x": 0,
          "xref": "x3",
          "y": 12,
          "yref": "y3"
         },
         {
          "showarrow": false,
          "text": "TAC",
          "x": 1,
          "xref": "x3",
          "y": 12,
          "yref": "y3"
         },
         {
          "showarrow": false,
          "text": "TAG",
          "x": 2,
          "xref": "x3",
          "y": 12,
          "yref": "y3"
         },
         {
          "showarrow": false,
          "text": "TAT",
          "x": 3,
          "xref": "x3",
          "y": 12,
          "yref": "y3"
         },
         {
          "showarrow": false,
          "text": "TCA",
          "x": 0,
          "xref": "x3",
          "y": 13,
          "yref": "y3"
         },
         {
          "showarrow": false,
          "text": "TCC",
          "x": 1,
          "xref": "x3",
          "y": 13,
          "yref": "y3"
         },
         {
          "showarrow": false,
          "text": "TCG",
          "x": 2,
          "xref": "x3",
          "y": 13,
          "yref": "y3"
         },
         {
          "showarrow": false,
          "text": "TCT",
          "x": 3,
          "xref": "x3",
          "y": 13,
          "yref": "y3"
         },
         {
          "showarrow": false,
          "text": "TGA",
          "x": 0,
          "xref": "x3",
          "y": 14,
          "yref": "y3"
         },
         {
          "showarrow": false,
          "text": "TGC",
          "x": 1,
          "xref": "x3",
          "y": 14,
          "yref": "y3"
         },
         {
          "showarrow": false,
          "text": "TGG",
          "x": 2,
          "xref": "x3",
          "y": 14,
          "yref": "y3"
         },
         {
          "showarrow": false,
          "text": "TGT",
          "x": 3,
          "xref": "x3",
          "y": 14,
          "yref": "y3"
         },
         {
          "showarrow": false,
          "text": "TTA",
          "x": 0,
          "xref": "x3",
          "y": 15,
          "yref": "y3"
         },
         {
          "showarrow": false,
          "text": "TTC",
          "x": 1,
          "xref": "x3",
          "y": 15,
          "yref": "y3"
         },
         {
          "showarrow": false,
          "text": "TTG",
          "x": 2,
          "xref": "x3",
          "y": 15,
          "yref": "y3"
         },
         {
          "showarrow": false,
          "text": "TTT",
          "x": 3,
          "xref": "x3",
          "y": 15,
          "yref": "y3"
         },
         {
          "showarrow": false,
          "text": "AAA",
          "x": 0,
          "xref": "x4",
          "y": 0,
          "yref": "y4"
         },
         {
          "showarrow": false,
          "text": "AAC",
          "x": 1,
          "xref": "x4",
          "y": 0,
          "yref": "y4"
         },
         {
          "showarrow": false,
          "text": "AAG",
          "x": 2,
          "xref": "x4",
          "y": 0,
          "yref": "y4"
         },
         {
          "showarrow": false,
          "text": "AAT",
          "x": 3,
          "xref": "x4",
          "y": 0,
          "yref": "y4"
         },
         {
          "showarrow": false,
          "text": "ACA",
          "x": 0,
          "xref": "x4",
          "y": 1,
          "yref": "y4"
         },
         {
          "showarrow": false,
          "text": "ACC",
          "x": 1,
          "xref": "x4",
          "y": 1,
          "yref": "y4"
         },
         {
          "showarrow": false,
          "text": "ACG",
          "x": 2,
          "xref": "x4",
          "y": 1,
          "yref": "y4"
         },
         {
          "showarrow": false,
          "text": "ACT",
          "x": 3,
          "xref": "x4",
          "y": 1,
          "yref": "y4"
         },
         {
          "showarrow": false,
          "text": "AGA",
          "x": 0,
          "xref": "x4",
          "y": 2,
          "yref": "y4"
         },
         {
          "showarrow": false,
          "text": "AGC",
          "x": 1,
          "xref": "x4",
          "y": 2,
          "yref": "y4"
         },
         {
          "showarrow": false,
          "text": "AGG",
          "x": 2,
          "xref": "x4",
          "y": 2,
          "yref": "y4"
         },
         {
          "showarrow": false,
          "text": "AGT",
          "x": 3,
          "xref": "x4",
          "y": 2,
          "yref": "y4"
         },
         {
          "showarrow": false,
          "text": "ATA",
          "x": 0,
          "xref": "x4",
          "y": 3,
          "yref": "y4"
         },
         {
          "showarrow": false,
          "text": "ATC",
          "x": 1,
          "xref": "x4",
          "y": 3,
          "yref": "y4"
         },
         {
          "showarrow": false,
          "text": "ATG",
          "x": 2,
          "xref": "x4",
          "y": 3,
          "yref": "y4"
         },
         {
          "showarrow": false,
          "text": "ATT",
          "x": 3,
          "xref": "x4",
          "y": 3,
          "yref": "y4"
         },
         {
          "showarrow": false,
          "text": "CAA",
          "x": 0,
          "xref": "x4",
          "y": 4,
          "yref": "y4"
         },
         {
          "showarrow": false,
          "text": "CAC",
          "x": 1,
          "xref": "x4",
          "y": 4,
          "yref": "y4"
         },
         {
          "showarrow": false,
          "text": "CAG",
          "x": 2,
          "xref": "x4",
          "y": 4,
          "yref": "y4"
         },
         {
          "showarrow": false,
          "text": "CAT",
          "x": 3,
          "xref": "x4",
          "y": 4,
          "yref": "y4"
         },
         {
          "showarrow": false,
          "text": "CCA",
          "x": 0,
          "xref": "x4",
          "y": 5,
          "yref": "y4"
         },
         {
          "showarrow": false,
          "text": "CCC",
          "x": 1,
          "xref": "x4",
          "y": 5,
          "yref": "y4"
         },
         {
          "showarrow": false,
          "text": "CCG",
          "x": 2,
          "xref": "x4",
          "y": 5,
          "yref": "y4"
         },
         {
          "showarrow": false,
          "text": "CCT",
          "x": 3,
          "xref": "x4",
          "y": 5,
          "yref": "y4"
         },
         {
          "showarrow": false,
          "text": "CGA",
          "x": 0,
          "xref": "x4",
          "y": 6,
          "yref": "y4"
         },
         {
          "showarrow": false,
          "text": "CGC",
          "x": 1,
          "xref": "x4",
          "y": 6,
          "yref": "y4"
         },
         {
          "showarrow": false,
          "text": "CGG",
          "x": 2,
          "xref": "x4",
          "y": 6,
          "yref": "y4"
         },
         {
          "showarrow": false,
          "text": "CGT",
          "x": 3,
          "xref": "x4",
          "y": 6,
          "yref": "y4"
         },
         {
          "showarrow": false,
          "text": "CTA",
          "x": 0,
          "xref": "x4",
          "y": 7,
          "yref": "y4"
         },
         {
          "showarrow": false,
          "text": "CTC",
          "x": 1,
          "xref": "x4",
          "y": 7,
          "yref": "y4"
         },
         {
          "showarrow": false,
          "text": "CTG",
          "x": 2,
          "xref": "x4",
          "y": 7,
          "yref": "y4"
         },
         {
          "showarrow": false,
          "text": "CTT",
          "x": 3,
          "xref": "x4",
          "y": 7,
          "yref": "y4"
         },
         {
          "showarrow": false,
          "text": "GAA",
          "x": 0,
          "xref": "x4",
          "y": 8,
          "yref": "y4"
         },
         {
          "showarrow": false,
          "text": "GAC",
          "x": 1,
          "xref": "x4",
          "y": 8,
          "yref": "y4"
         },
         {
          "showarrow": false,
          "text": "GAG",
          "x": 2,
          "xref": "x4",
          "y": 8,
          "yref": "y4"
         },
         {
          "showarrow": false,
          "text": "GAT",
          "x": 3,
          "xref": "x4",
          "y": 8,
          "yref": "y4"
         },
         {
          "showarrow": false,
          "text": "GCA",
          "x": 0,
          "xref": "x4",
          "y": 9,
          "yref": "y4"
         },
         {
          "showarrow": false,
          "text": "GCC",
          "x": 1,
          "xref": "x4",
          "y": 9,
          "yref": "y4"
         },
         {
          "showarrow": false,
          "text": "GCG",
          "x": 2,
          "xref": "x4",
          "y": 9,
          "yref": "y4"
         },
         {
          "showarrow": false,
          "text": "GCT",
          "x": 3,
          "xref": "x4",
          "y": 9,
          "yref": "y4"
         },
         {
          "showarrow": false,
          "text": "GGA",
          "x": 0,
          "xref": "x4",
          "y": 10,
          "yref": "y4"
         },
         {
          "showarrow": false,
          "text": "GGC",
          "x": 1,
          "xref": "x4",
          "y": 10,
          "yref": "y4"
         },
         {
          "showarrow": false,
          "text": "GGG",
          "x": 2,
          "xref": "x4",
          "y": 10,
          "yref": "y4"
         },
         {
          "showarrow": false,
          "text": "GGT",
          "x": 3,
          "xref": "x4",
          "y": 10,
          "yref": "y4"
         },
         {
          "showarrow": false,
          "text": "GTA",
          "x": 0,
          "xref": "x4",
          "y": 11,
          "yref": "y4"
         },
         {
          "showarrow": false,
          "text": "GTC",
          "x": 1,
          "xref": "x4",
          "y": 11,
          "yref": "y4"
         },
         {
          "showarrow": false,
          "text": "GTG",
          "x": 2,
          "xref": "x4",
          "y": 11,
          "yref": "y4"
         },
         {
          "showarrow": false,
          "text": "GTT",
          "x": 3,
          "xref": "x4",
          "y": 11,
          "yref": "y4"
         },
         {
          "showarrow": false,
          "text": "TAA",
          "x": 0,
          "xref": "x4",
          "y": 12,
          "yref": "y4"
         },
         {
          "showarrow": false,
          "text": "TAC",
          "x": 1,
          "xref": "x4",
          "y": 12,
          "yref": "y4"
         },
         {
          "showarrow": false,
          "text": "TAG",
          "x": 2,
          "xref": "x4",
          "y": 12,
          "yref": "y4"
         },
         {
          "showarrow": false,
          "text": "TAT",
          "x": 3,
          "xref": "x4",
          "y": 12,
          "yref": "y4"
         },
         {
          "showarrow": false,
          "text": "TCA",
          "x": 0,
          "xref": "x4",
          "y": 13,
          "yref": "y4"
         },
         {
          "showarrow": false,
          "text": "TCC",
          "x": 1,
          "xref": "x4",
          "y": 13,
          "yref": "y4"
         },
         {
          "showarrow": false,
          "text": "TCG",
          "x": 2,
          "xref": "x4",
          "y": 13,
          "yref": "y4"
         },
         {
          "showarrow": false,
          "text": "TCT",
          "x": 3,
          "xref": "x4",
          "y": 13,
          "yref": "y4"
         },
         {
          "showarrow": false,
          "text": "TGA",
          "x": 0,
          "xref": "x4",
          "y": 14,
          "yref": "y4"
         },
         {
          "showarrow": false,
          "text": "TGC",
          "x": 1,
          "xref": "x4",
          "y": 14,
          "yref": "y4"
         },
         {
          "showarrow": false,
          "text": "TGG",
          "x": 2,
          "xref": "x4",
          "y": 14,
          "yref": "y4"
         },
         {
          "showarrow": false,
          "text": "TGT",
          "x": 3,
          "xref": "x4",
          "y": 14,
          "yref": "y4"
         },
         {
          "showarrow": false,
          "text": "TTA",
          "x": 0,
          "xref": "x4",
          "y": 15,
          "yref": "y4"
         },
         {
          "showarrow": false,
          "text": "TTC",
          "x": 1,
          "xref": "x4",
          "y": 15,
          "yref": "y4"
         },
         {
          "showarrow": false,
          "text": "TTG",
          "x": 2,
          "xref": "x4",
          "y": 15,
          "yref": "y4"
         },
         {
          "showarrow": false,
          "text": "TTT",
          "x": 3,
          "xref": "x4",
          "y": 15,
          "yref": "y4"
         }
        ],
        "template": {
         "data": {
          "bar": [
           {
            "error_x": {
             "color": "#2a3f5f"
            },
            "error_y": {
             "color": "#2a3f5f"
            },
            "marker": {
             "line": {
              "color": "white",
              "width": 0.5
             },
             "pattern": {
              "fillmode": "overlay",
              "size": 10,
              "solidity": 0.2
             }
            },
            "type": "bar"
           }
          ],
          "barpolar": [
           {
            "marker": {
             "line": {
              "color": "white",
              "width": 0.5
             },
             "pattern": {
              "fillmode": "overlay",
              "size": 10,
              "solidity": 0.2
             }
            },
            "type": "barpolar"
           }
          ],
          "carpet": [
           {
            "aaxis": {
             "endlinecolor": "#2a3f5f",
             "gridcolor": "#C8D4E3",
             "linecolor": "#C8D4E3",
             "minorgridcolor": "#C8D4E3",
             "startlinecolor": "#2a3f5f"
            },
            "baxis": {
             "endlinecolor": "#2a3f5f",
             "gridcolor": "#C8D4E3",
             "linecolor": "#C8D4E3",
             "minorgridcolor": "#C8D4E3",
             "startlinecolor": "#2a3f5f"
            },
            "type": "carpet"
           }
          ],
          "choropleth": [
           {
            "colorbar": {
             "outlinewidth": 0,
             "ticks": ""
            },
            "type": "choropleth"
           }
          ],
          "contour": [
           {
            "colorbar": {
             "outlinewidth": 0,
             "ticks": ""
            },
            "colorscale": [
             [
              0,
              "#0d0887"
             ],
             [
              0.1111111111111111,
              "#46039f"
             ],
             [
              0.2222222222222222,
              "#7201a8"
             ],
             [
              0.3333333333333333,
              "#9c179e"
             ],
             [
              0.4444444444444444,
              "#bd3786"
             ],
             [
              0.5555555555555556,
              "#d8576b"
             ],
             [
              0.6666666666666666,
              "#ed7953"
             ],
             [
              0.7777777777777778,
              "#fb9f3a"
             ],
             [
              0.8888888888888888,
              "#fdca26"
             ],
             [
              1,
              "#f0f921"
             ]
            ],
            "type": "contour"
           }
          ],
          "contourcarpet": [
           {
            "colorbar": {
             "outlinewidth": 0,
             "ticks": ""
            },
            "type": "contourcarpet"
           }
          ],
          "heatmap": [
           {
            "colorbar": {
             "outlinewidth": 0,
             "ticks": ""
            },
            "colorscale": [
             [
              0,
              "#0d0887"
             ],
             [
              0.1111111111111111,
              "#46039f"
             ],
             [
              0.2222222222222222,
              "#7201a8"
             ],
             [
              0.3333333333333333,
              "#9c179e"
             ],
             [
              0.4444444444444444,
              "#bd3786"
             ],
             [
              0.5555555555555556,
              "#d8576b"
             ],
             [
              0.6666666666666666,
              "#ed7953"
             ],
             [
              0.7777777777777778,
              "#fb9f3a"
             ],
             [
              0.8888888888888888,
              "#fdca26"
             ],
             [
              1,
              "#f0f921"
             ]
            ],
            "type": "heatmap"
           }
          ],
          "heatmapgl": [
           {
            "colorbar": {
             "outlinewidth": 0,
             "ticks": ""
            },
            "colorscale": [
             [
              0,
              "#0d0887"
             ],
             [
              0.1111111111111111,
              "#46039f"
             ],
             [
              0.2222222222222222,
              "#7201a8"
             ],
             [
              0.3333333333333333,
              "#9c179e"
             ],
             [
              0.4444444444444444,
              "#bd3786"
             ],
             [
              0.5555555555555556,
              "#d8576b"
             ],
             [
              0.6666666666666666,
              "#ed7953"
             ],
             [
              0.7777777777777778,
              "#fb9f3a"
             ],
             [
              0.8888888888888888,
              "#fdca26"
             ],
             [
              1,
              "#f0f921"
             ]
            ],
            "type": "heatmapgl"
           }
          ],
          "histogram": [
           {
            "marker": {
             "pattern": {
              "fillmode": "overlay",
              "size": 10,
              "solidity": 0.2
             }
            },
            "type": "histogram"
           }
          ],
          "histogram2d": [
           {
            "colorbar": {
             "outlinewidth": 0,
             "ticks": ""
            },
            "colorscale": [
             [
              0,
              "#0d0887"
             ],
             [
              0.1111111111111111,
              "#46039f"
             ],
             [
              0.2222222222222222,
              "#7201a8"
             ],
             [
              0.3333333333333333,
              "#9c179e"
             ],
             [
              0.4444444444444444,
              "#bd3786"
             ],
             [
              0.5555555555555556,
              "#d8576b"
             ],
             [
              0.6666666666666666,
              "#ed7953"
             ],
             [
              0.7777777777777778,
              "#fb9f3a"
             ],
             [
              0.8888888888888888,
              "#fdca26"
             ],
             [
              1,
              "#f0f921"
             ]
            ],
            "type": "histogram2d"
           }
          ],
          "histogram2dcontour": [
           {
            "colorbar": {
             "outlinewidth": 0,
             "ticks": ""
            },
            "colorscale": [
             [
              0,
              "#0d0887"
             ],
             [
              0.1111111111111111,
              "#46039f"
             ],
             [
              0.2222222222222222,
              "#7201a8"
             ],
             [
              0.3333333333333333,
              "#9c179e"
             ],
             [
              0.4444444444444444,
              "#bd3786"
             ],
             [
              0.5555555555555556,
              "#d8576b"
             ],
             [
              0.6666666666666666,
              "#ed7953"
             ],
             [
              0.7777777777777778,
              "#fb9f3a"
             ],
             [
              0.8888888888888888,
              "#fdca26"
             ],
             [
              1,
              "#f0f921"
             ]
            ],
            "type": "histogram2dcontour"
           }
          ],
          "mesh3d": [
           {
            "colorbar": {
             "outlinewidth": 0,
             "ticks": ""
            },
            "type": "mesh3d"
           }
          ],
          "parcoords": [
           {
            "line": {
             "colorbar": {
              "outlinewidth": 0,
              "ticks": ""
             }
            },
            "type": "parcoords"
           }
          ],
          "pie": [
           {
            "automargin": true,
            "type": "pie"
           }
          ],
          "scatter": [
           {
            "fillpattern": {
             "fillmode": "overlay",
             "size": 10,
             "solidity": 0.2
            },
            "type": "scatter"
           }
          ],
          "scatter3d": [
           {
            "line": {
             "colorbar": {
              "outlinewidth": 0,
              "ticks": ""
             }
            },
            "marker": {
             "colorbar": {
              "outlinewidth": 0,
              "ticks": ""
             }
            },
            "type": "scatter3d"
           }
          ],
          "scattercarpet": [
           {
            "marker": {
             "colorbar": {
              "outlinewidth": 0,
              "ticks": ""
             }
            },
            "type": "scattercarpet"
           }
          ],
          "scattergeo": [
           {
            "marker": {
             "colorbar": {
              "outlinewidth": 0,
              "ticks": ""
             }
            },
            "type": "scattergeo"
           }
          ],
          "scattergl": [
           {
            "marker": {
             "colorbar": {
              "outlinewidth": 0,
              "ticks": ""
             }
            },
            "type": "scattergl"
           }
          ],
          "scattermapbox": [
           {
            "marker": {
             "colorbar": {
              "outlinewidth": 0,
              "ticks": ""
             }
            },
            "type": "scattermapbox"
           }
          ],
          "scatterpolar": [
           {
            "marker": {
             "colorbar": {
              "outlinewidth": 0,
              "ticks": ""
             }
            },
            "type": "scatterpolar"
           }
          ],
          "scatterpolargl": [
           {
            "marker": {
             "colorbar": {
              "outlinewidth": 0,
              "ticks": ""
             }
            },
            "type": "scatterpolargl"
           }
          ],
          "scatterternary": [
           {
            "marker": {
             "colorbar": {
              "outlinewidth": 0,
              "ticks": ""
             }
            },
            "type": "scatterternary"
           }
          ],
          "surface": [
           {
            "colorbar": {
             "outlinewidth": 0,
             "ticks": ""
            },
            "colorscale": [
             [
              0,
              "#0d0887"
             ],
             [
              0.1111111111111111,
              "#46039f"
             ],
             [
              0.2222222222222222,
              "#7201a8"
             ],
             [
              0.3333333333333333,
              "#9c179e"
             ],
             [
              0.4444444444444444,
              "#bd3786"
             ],
             [
              0.5555555555555556,
              "#d8576b"
             ],
             [
              0.6666666666666666,
              "#ed7953"
             ],
             [
              0.7777777777777778,
              "#fb9f3a"
             ],
             [
              0.8888888888888888,
              "#fdca26"
             ],
             [
              1,
              "#f0f921"
             ]
            ],
            "type": "surface"
           }
          ],
          "table": [
           {
            "cells": {
             "fill": {
              "color": "#EBF0F8"
             },
             "line": {
              "color": "white"
             }
            },
            "header": {
             "fill": {
              "color": "#C8D4E3"
             },
             "line": {
              "color": "white"
             }
            },
            "type": "table"
           }
          ]
         },
         "layout": {
          "annotationdefaults": {
           "arrowcolor": "#2a3f5f",
           "arrowhead": 0,
           "arrowwidth": 1
          },
          "autotypenumbers": "strict",
          "coloraxis": {
           "colorbar": {
            "outlinewidth": 0,
            "ticks": ""
           }
          },
          "colorscale": {
           "diverging": [
            [
             0,
             "#8e0152"
            ],
            [
             0.1,
             "#c51b7d"
            ],
            [
             0.2,
             "#de77ae"
            ],
            [
             0.3,
             "#f1b6da"
            ],
            [
             0.4,
             "#fde0ef"
            ],
            [
             0.5,
             "#f7f7f7"
            ],
            [
             0.6,
             "#e6f5d0"
            ],
            [
             0.7,
             "#b8e186"
            ],
            [
             0.8,
             "#7fbc41"
            ],
            [
             0.9,
             "#4d9221"
            ],
            [
             1,
             "#276419"
            ]
           ],
           "sequential": [
            [
             0,
             "#0d0887"
            ],
            [
             0.1111111111111111,
             "#46039f"
            ],
            [
             0.2222222222222222,
             "#7201a8"
            ],
            [
             0.3333333333333333,
             "#9c179e"
            ],
            [
             0.4444444444444444,
             "#bd3786"
            ],
            [
             0.5555555555555556,
             "#d8576b"
            ],
            [
             0.6666666666666666,
             "#ed7953"
            ],
            [
             0.7777777777777778,
             "#fb9f3a"
            ],
            [
             0.8888888888888888,
             "#fdca26"
            ],
            [
             1,
             "#f0f921"
            ]
           ],
           "sequentialminus": [
            [
             0,
             "#0d0887"
            ],
            [
             0.1111111111111111,
             "#46039f"
            ],
            [
             0.2222222222222222,
             "#7201a8"
            ],
            [
             0.3333333333333333,
             "#9c179e"
            ],
            [
             0.4444444444444444,
             "#bd3786"
            ],
            [
             0.5555555555555556,
             "#d8576b"
            ],
            [
             0.6666666666666666,
             "#ed7953"
            ],
            [
             0.7777777777777778,
             "#fb9f3a"
            ],
            [
             0.8888888888888888,
             "#fdca26"
            ],
            [
             1,
             "#f0f921"
            ]
           ]
          },
          "colorway": [
           "#636efa",
           "#EF553B",
           "#00cc96",
           "#ab63fa",
           "#FFA15A",
           "#19d3f3",
           "#FF6692",
           "#B6E880",
           "#FF97FF",
           "#FECB52"
          ],
          "font": {
           "color": "#2a3f5f"
          },
          "geo": {
           "bgcolor": "white",
           "lakecolor": "white",
           "landcolor": "white",
           "showlakes": true,
           "showland": true,
           "subunitcolor": "#C8D4E3"
          },
          "hoverlabel": {
           "align": "left"
          },
          "hovermode": "closest",
          "mapbox": {
           "style": "light"
          },
          "paper_bgcolor": "white",
          "plot_bgcolor": "white",
          "polar": {
           "angularaxis": {
            "gridcolor": "#EBF0F8",
            "linecolor": "#EBF0F8",
            "ticks": ""
           },
           "bgcolor": "white",
           "radialaxis": {
            "gridcolor": "#EBF0F8",
            "linecolor": "#EBF0F8",
            "ticks": ""
           }
          },
          "scene": {
           "xaxis": {
            "backgroundcolor": "white",
            "gridcolor": "#DFE8F3",
            "gridwidth": 2,
            "linecolor": "#EBF0F8",
            "showbackground": true,
            "ticks": "",
            "zerolinecolor": "#EBF0F8"
           },
           "yaxis": {
            "backgroundcolor": "white",
            "gridcolor": "#DFE8F3",
            "gridwidth": 2,
            "linecolor": "#EBF0F8",
            "showbackground": true,
            "ticks": "",
            "zerolinecolor": "#EBF0F8"
           },
           "zaxis": {
            "backgroundcolor": "white",
            "gridcolor": "#DFE8F3",
            "gridwidth": 2,
            "linecolor": "#EBF0F8",
            "showbackground": true,
            "ticks": "",
            "zerolinecolor": "#EBF0F8"
           }
          },
          "shapedefaults": {
           "line": {
            "color": "#2a3f5f"
           }
          },
          "ternary": {
           "aaxis": {
            "gridcolor": "#DFE8F3",
            "linecolor": "#A2B1C6",
            "ticks": ""
           },
           "baxis": {
            "gridcolor": "#DFE8F3",
            "linecolor": "#A2B1C6",
            "ticks": ""
           },
           "bgcolor": "white",
           "caxis": {
            "gridcolor": "#DFE8F3",
            "linecolor": "#A2B1C6",
            "ticks": ""
           }
          },
          "title": {
           "x": 0.05
          },
          "xaxis": {
           "automargin": true,
           "gridcolor": "#EBF0F8",
           "linecolor": "#EBF0F8",
           "ticks": "",
           "title": {
            "standoff": 15
           },
           "zerolinecolor": "#EBF0F8",
           "zerolinewidth": 2
          },
          "yaxis": {
           "automargin": true,
           "gridcolor": "#EBF0F8",
           "linecolor": "#EBF0F8",
           "ticks": "",
           "title": {
            "standoff": 15
           },
           "zerolinecolor": "#EBF0F8",
           "zerolinewidth": 2
          }
         }
        },
        "xaxis": {
         "anchor": "y",
         "domain": [
          0,
          0.2125
         ]
        },
        "xaxis2": {
         "anchor": "y2",
         "domain": [
          0.2625,
          0.475
         ]
        },
        "xaxis3": {
         "anchor": "y3",
         "domain": [
          0.525,
          0.7375
         ]
        },
        "xaxis4": {
         "anchor": "y4",
         "domain": [
          0.7875,
          1
         ]
        },
        "yaxis": {
         "anchor": "x",
         "domain": [
          0,
          1
         ]
        },
        "yaxis2": {
         "anchor": "x2",
         "domain": [
          0,
          1
         ]
        },
        "yaxis3": {
         "anchor": "x3",
         "domain": [
          0,
          1
         ]
        },
        "yaxis4": {
         "anchor": "x4",
         "domain": [
          0,
          1
         ]
        }
       }
      },
      "text/html": [
       "<div>                            <div id=\"2188af51-059c-4315-a163-339aea7730e3\" class=\"plotly-graph-div\" style=\"height:525px; width:100%;\"></div>            <script type=\"text/javascript\">                require([\"plotly\"], function(Plotly) {                    window.PLOTLYENV=window.PLOTLYENV || {};                                    if (document.getElementById(\"2188af51-059c-4315-a163-339aea7730e3\")) {                    Plotly.newPlot(                        \"2188af51-059c-4315-a163-339aea7730e3\",                        [{\"colorscale\":[[0.0,\"rgb(0, 0, 0)\"],[0.09090909090909091,\"rgb(16, 16, 16)\"],[0.18181818181818182,\"rgb(38, 38, 38)\"],[0.2727272727272727,\"rgb(59, 59, 59)\"],[0.36363636363636365,\"rgb(81, 80, 80)\"],[0.45454545454545453,\"rgb(102, 101, 101)\"],[0.5454545454545454,\"rgb(124, 123, 122)\"],[0.6363636363636364,\"rgb(146, 146, 145)\"],[0.7272727272727273,\"rgb(171, 171, 170)\"],[0.8181818181818182,\"rgb(197, 197, 195)\"],[0.9090909090909091,\"rgb(224, 224, 223)\"],[1.0,\"rgb(254, 254, 253)\"]],\"z\":[[0.9098054518089079,0.4742145164460848,0.8780296384531203,0.47722251724411086],[0.6306283575039388,0.5227283396070308,0.13833429663684826,0.4469518045070869],[0.947980143233942,0.6971740488966995,0.6648488591454665,0.4841245624792792],[0.2707178713828442,0.4216804903165992,0.6345686111706045,0.4248630593150472],[0.6734606458730024,0.5099848609762323,1.0,0.4877912281679727],[0.8055500952056824,0.5868843537015793,0.2276919443376824,0.6656564204423763],[0.1605770725939661,0.16428774707268198,0.2225700546589172,0.10605751655463984],[0.2739569183284875,0.5410411306151548,0.8982091356380248,0.487663602676908],[0.8970311670250938,0.46025639521067,0.7559485214513512,0.48331113334369985],[0.6239999002467426,0.6235385414313419,0.1734657802318383,0.5846340375717709],[0.7757106686108772,0.556078934165784,0.45474062686120503,0.3371344703248729],[0.19558826549622846,0.32249934720294804,0.5786737804430805,0.3217783365264155],[0.2589748592452199,0.2941848251824164,0.1601479868912484,0.2888590281098812],[0.6110554481415088,0.5526308454675347,0.1139996361940025,0.5036270577776735],[0.7122793325920297,0.5880967958666945,0.7815029588576491,0.49122024639054573],[0.26943721559319445,0.4960905524863499,0.4687786973984937,0.4522475289064402]],\"type\":\"heatmap\",\"xaxis\":\"x\",\"yaxis\":\"y\"},{\"colorscale\":[[0.0,\"rgb(0, 0, 0)\"],[0.09090909090909091,\"rgb(16, 16, 16)\"],[0.18181818181818182,\"rgb(38, 38, 38)\"],[0.2727272727272727,\"rgb(59, 59, 59)\"],[0.36363636363636365,\"rgb(81, 80, 80)\"],[0.45454545454545453,\"rgb(102, 101, 101)\"],[0.5454545454545454,\"rgb(124, 123, 122)\"],[0.6363636363636364,\"rgb(146, 146, 145)\"],[0.7272727272727273,\"rgb(171, 171, 170)\"],[0.8181818181818182,\"rgb(197, 197, 195)\"],[0.9090909090909091,\"rgb(224, 224, 223)\"],[1.0,\"rgb(254, 254, 253)\"]],\"z\":[[0.6232598190945339,0.3498126692504716,0.6492550778808888,0.3142484325535954],[0.4631096317637843,0.4184216394154459,0.15832602298432408,0.3221106028910842],[0.7149337961102097,0.5828238093421859,0.5428029491757154,0.3448807508486362],[0.16916905536599178,0.320300374661499,0.4540724267326994,0.282414674290945],[0.4850032713200583,0.40702116236016206,0.8112653700699153,0.3579528284449348],[0.6327165745904982,0.5565600969366947,0.26066846418124584,0.5498898313289774],[0.16543197561326248,0.19861753720943195,0.25804627377574885,0.1092532881900945],[0.18925099973301332,0.45174069434134984,0.7326363318966908,0.37902497058745865],[0.66516425547396,0.3894697234194243,0.6312136744112358,0.35317640776784487],[0.5050485416953946,0.5750225178308948,0.1967977737420087,0.4892743243917252],[0.6467311737731083,0.5097890218606329,0.42120739582385924,0.26188604070519683],[0.13045745670268544,0.2611180873193073,0.45101601626564874,0.2234759022535434],[0.16314278505226776,0.2156621415850793,0.09370718311470745,0.1859342039249973],[0.46036421674622474,0.44982704545521224,0.11555608040112546,0.39137897142655964],[0.5119263820960506,0.4749127892477724,0.6175570133874739,0.35004738279725733],[0.17703636006231646,0.3839649572674649,0.32391496328199954,0.33921975349209754]],\"type\":\"heatmap\",\"xaxis\":\"x2\",\"yaxis\":\"y2\"},{\"colorscale\":[[0.0,\"rgb(0, 0, 0)\"],[0.09090909090909091,\"rgb(16, 16, 16)\"],[0.18181818181818182,\"rgb(38, 38, 38)\"],[0.2727272727272727,\"rgb(59, 59, 59)\"],[0.36363636363636365,\"rgb(81, 80, 80)\"],[0.45454545454545453,\"rgb(102, 101, 101)\"],[0.5454545454545454,\"rgb(124, 123, 122)\"],[0.6363636363636364,\"rgb(146, 146, 145)\"],[0.7272727272727273,\"rgb(171, 171, 170)\"],[0.8181818181818182,\"rgb(197, 197, 195)\"],[0.9090909090909091,\"rgb(224, 224, 223)\"],[1.0,\"rgb(254, 254, 253)\"]],\"z\":[[0.8076331779334058,0.41350732452961936,0.7751084816674051,0.4256596184144513],[0.5534501424417837,0.4393250811962176,0.10972051484416488,0.3920281010793889],[0.8305918302082202,0.6025976921790511,0.5632061577098999,0.4154466452099366],[0.24861298963446296,0.36754527771013457,0.5672784377466326,0.3783237638664363],[0.5995420151918343,0.4250537640718106,0.8674271874569079,0.42985879046241504],[0.6913025428278874,0.5002684536191362,0.18199028285916305,0.5733421155318755],[0.12936237131096318,0.12592455133038571,0.1778805953509114,0.0782967718085559],[0.23893178930938477,0.4759939385226542,0.7745796427073034,0.4362048579836345],[0.788854627230879,0.39679058563963837,0.6382352768592979,0.4303714928661751],[0.5388179532391936,0.5311604237753087,0.12973791298582035,0.5114789593974903],[0.6719819505282522,0.4706982141233009,0.38688640744511377,0.27430898864866615],[0.1609929556596771,0.2720550051196892,0.4846849410722301,0.272852297698927],[0.2258809826282636,0.2591706983608193,0.13107137932349688,0.2612193075363586],[0.5383140525934379,0.4761868437189188,0.09001557911166791,0.44885738511505363],[0.6223150970687212,0.5119747917650752,0.6759031337192415,0.422527659524529],[0.23657145120452056,0.4377899079042721,0.4130210273998726,0.4144527800352657]],\"type\":\"heatmap\",\"xaxis\":\"x3\",\"yaxis\":\"y3\"},{\"colorscale\":[[0.0,\"rgb(0, 0, 0)\"],[0.09090909090909091,\"rgb(16, 16, 16)\"],[0.18181818181818182,\"rgb(38, 38, 38)\"],[0.2727272727272727,\"rgb(59, 59, 59)\"],[0.36363636363636365,\"rgb(81, 80, 80)\"],[0.45454545454545453,\"rgb(102, 101, 101)\"],[0.5454545454545454,\"rgb(124, 123, 122)\"],[0.6363636363636364,\"rgb(146, 146, 145)\"],[0.7272727272727273,\"rgb(171, 171, 170)\"],[0.8181818181818182,\"rgb(197, 197, 195)\"],[0.9090909090909091,\"rgb(224, 224, 223)\"],[1.0,\"rgb(254, 254, 253)\"]],\"z\":[[0.6065320780070472,0.26572214023547636,0.5383558609439592,0.4452530652122251],[0.309841685712693,0.16253106287095742,0.03652729571853152,0.24938240998001998],[0.49912789247772427,0.2381278954116436,0.31231497971194777,0.2655703099098994],[0.2594134801857758,0.26875654630751583,0.47305048394999427,0.44836155274746875],[0.4964235523308522,0.1714479772093146,0.2740170636748514,0.31342766861967897],[0.28123597219818036,0.09916060567830749,0.02127898345562887,0.20478536913106113],[0.06660216933995618,0.0,0.029028197898726966,0.03257163897535801],[0.18188979612194542,0.23758658729436893,0.26144595280497357,0.3864705243794027],[0.5323303241100689,0.15606763857634498,0.35289401803186826,0.3886108185341553],[0.2789365129195138,0.1258710073025252,0.010556975246522568,0.2642449118503936],[0.3921315217359414,0.1565803409801051,0.1937369623959559,0.23575948902860866],[0.1323417663954747,0.1354583222088892,0.2551167553199292,0.31986688807977914],[0.22057205559190354,0.16504469826106602,0.14987340138070243,0.28765612118260425],[0.38529548968580657,0.2188982546113877,0.0598380183135245,0.3489772357198811],[0.4720419491786493,0.28489970396753916,0.4431281741339803,0.30888302757003994],[0.2581100865212812,0.37120534208032485,0.5253879374840468,0.4786263976458231]],\"type\":\"heatmap\",\"xaxis\":\"x4\",\"yaxis\":\"y4\"}],                        {\"template\":{\"data\":{\"histogram2dcontour\":[{\"type\":\"histogram2dcontour\",\"colorbar\":{\"outlinewidth\":0,\"ticks\":\"\"},\"colorscale\":[[0.0,\"#0d0887\"],[0.1111111111111111,\"#46039f\"],[0.2222222222222222,\"#7201a8\"],[0.3333333333333333,\"#9c179e\"],[0.4444444444444444,\"#bd3786\"],[0.5555555555555556,\"#d8576b\"],[0.6666666666666666,\"#ed7953\"],[0.7777777777777778,\"#fb9f3a\"],[0.8888888888888888,\"#fdca26\"],[1.0,\"#f0f921\"]]}],\"choropleth\":[{\"type\":\"choropleth\",\"colorbar\":{\"outlinewidth\":0,\"ticks\":\"\"}}],\"histogram2d\":[{\"type\":\"histogram2d\",\"colorbar\":{\"outlinewidth\":0,\"ticks\":\"\"},\"colorscale\":[[0.0,\"#0d0887\"],[0.1111111111111111,\"#46039f\"],[0.2222222222222222,\"#7201a8\"],[0.3333333333333333,\"#9c179e\"],[0.4444444444444444,\"#bd3786\"],[0.5555555555555556,\"#d8576b\"],[0.6666666666666666,\"#ed7953\"],[0.7777777777777778,\"#fb9f3a\"],[0.8888888888888888,\"#fdca26\"],[1.0,\"#f0f921\"]]}],\"heatmap\":[{\"type\":\"heatmap\",\"colorbar\":{\"outlinewidth\":0,\"ticks\":\"\"},\"colorscale\":[[0.0,\"#0d0887\"],[0.1111111111111111,\"#46039f\"],[0.2222222222222222,\"#7201a8\"],[0.3333333333333333,\"#9c179e\"],[0.4444444444444444,\"#bd3786\"],[0.5555555555555556,\"#d8576b\"],[0.6666666666666666,\"#ed7953\"],[0.7777777777777778,\"#fb9f3a\"],[0.8888888888888888,\"#fdca26\"],[1.0,\"#f0f921\"]]}],\"heatmapgl\":[{\"type\":\"heatmapgl\",\"colorbar\":{\"outlinewidth\":0,\"ticks\":\"\"},\"colorscale\":[[0.0,\"#0d0887\"],[0.1111111111111111,\"#46039f\"],[0.2222222222222222,\"#7201a8\"],[0.3333333333333333,\"#9c179e\"],[0.4444444444444444,\"#bd3786\"],[0.5555555555555556,\"#d8576b\"],[0.6666666666666666,\"#ed7953\"],[0.7777777777777778,\"#fb9f3a\"],[0.8888888888888888,\"#fdca26\"],[1.0,\"#f0f921\"]]}],\"contourcarpet\":[{\"type\":\"contourcarpet\",\"colorbar\":{\"outlinewidth\":0,\"ticks\":\"\"}}],\"contour\":[{\"type\":\"contour\",\"colorbar\":{\"outlinewidth\":0,\"ticks\":\"\"},\"colorscale\":[[0.0,\"#0d0887\"],[0.1111111111111111,\"#46039f\"],[0.2222222222222222,\"#7201a8\"],[0.3333333333333333,\"#9c179e\"],[0.4444444444444444,\"#bd3786\"],[0.5555555555555556,\"#d8576b\"],[0.6666666666666666,\"#ed7953\"],[0.7777777777777778,\"#fb9f3a\"],[0.8888888888888888,\"#fdca26\"],[1.0,\"#f0f921\"]]}],\"surface\":[{\"type\":\"surface\",\"colorbar\":{\"outlinewidth\":0,\"ticks\":\"\"},\"colorscale\":[[0.0,\"#0d0887\"],[0.1111111111111111,\"#46039f\"],[0.2222222222222222,\"#7201a8\"],[0.3333333333333333,\"#9c179e\"],[0.4444444444444444,\"#bd3786\"],[0.5555555555555556,\"#d8576b\"],[0.6666666666666666,\"#ed7953\"],[0.7777777777777778,\"#fb9f3a\"],[0.8888888888888888,\"#fdca26\"],[1.0,\"#f0f921\"]]}],\"mesh3d\":[{\"type\":\"mesh3d\",\"colorbar\":{\"outlinewidth\":0,\"ticks\":\"\"}}],\"scatter\":[{\"fillpattern\":{\"fillmode\":\"overlay\",\"size\":10,\"solidity\":0.2},\"type\":\"scatter\"}],\"parcoords\":[{\"type\":\"parcoords\",\"line\":{\"colorbar\":{\"outlinewidth\":0,\"ticks\":\"\"}}}],\"scatterpolargl\":[{\"type\":\"scatterpolargl\",\"marker\":{\"colorbar\":{\"outlinewidth\":0,\"ticks\":\"\"}}}],\"bar\":[{\"error_x\":{\"color\":\"#2a3f5f\"},\"error_y\":{\"color\":\"#2a3f5f\"},\"marker\":{\"line\":{\"color\":\"white\",\"width\":0.5},\"pattern\":{\"fillmode\":\"overlay\",\"size\":10,\"solidity\":0.2}},\"type\":\"bar\"}],\"scattergeo\":[{\"type\":\"scattergeo\",\"marker\":{\"colorbar\":{\"outlinewidth\":0,\"ticks\":\"\"}}}],\"scatterpolar\":[{\"type\":\"scatterpolar\",\"marker\":{\"colorbar\":{\"outlinewidth\":0,\"ticks\":\"\"}}}],\"histogram\":[{\"marker\":{\"pattern\":{\"fillmode\":\"overlay\",\"size\":10,\"solidity\":0.2}},\"type\":\"histogram\"}],\"scattergl\":[{\"type\":\"scattergl\",\"marker\":{\"colorbar\":{\"outlinewidth\":0,\"ticks\":\"\"}}}],\"scatter3d\":[{\"type\":\"scatter3d\",\"line\":{\"colorbar\":{\"outlinewidth\":0,\"ticks\":\"\"}},\"marker\":{\"colorbar\":{\"outlinewidth\":0,\"ticks\":\"\"}}}],\"scattermapbox\":[{\"type\":\"scattermapbox\",\"marker\":{\"colorbar\":{\"outlinewidth\":0,\"ticks\":\"\"}}}],\"scatterternary\":[{\"type\":\"scatterternary\",\"marker\":{\"colorbar\":{\"outlinewidth\":0,\"ticks\":\"\"}}}],\"scattercarpet\":[{\"type\":\"scattercarpet\",\"marker\":{\"colorbar\":{\"outlinewidth\":0,\"ticks\":\"\"}}}],\"carpet\":[{\"aaxis\":{\"endlinecolor\":\"#2a3f5f\",\"gridcolor\":\"#C8D4E3\",\"linecolor\":\"#C8D4E3\",\"minorgridcolor\":\"#C8D4E3\",\"startlinecolor\":\"#2a3f5f\"},\"baxis\":{\"endlinecolor\":\"#2a3f5f\",\"gridcolor\":\"#C8D4E3\",\"linecolor\":\"#C8D4E3\",\"minorgridcolor\":\"#C8D4E3\",\"startlinecolor\":\"#2a3f5f\"},\"type\":\"carpet\"}],\"table\":[{\"cells\":{\"fill\":{\"color\":\"#EBF0F8\"},\"line\":{\"color\":\"white\"}},\"header\":{\"fill\":{\"color\":\"#C8D4E3\"},\"line\":{\"color\":\"white\"}},\"type\":\"table\"}],\"barpolar\":[{\"marker\":{\"line\":{\"color\":\"white\",\"width\":0.5},\"pattern\":{\"fillmode\":\"overlay\",\"size\":10,\"solidity\":0.2}},\"type\":\"barpolar\"}],\"pie\":[{\"automargin\":true,\"type\":\"pie\"}]},\"layout\":{\"autotypenumbers\":\"strict\",\"colorway\":[\"#636efa\",\"#EF553B\",\"#00cc96\",\"#ab63fa\",\"#FFA15A\",\"#19d3f3\",\"#FF6692\",\"#B6E880\",\"#FF97FF\",\"#FECB52\"],\"font\":{\"color\":\"#2a3f5f\"},\"hovermode\":\"closest\",\"hoverlabel\":{\"align\":\"left\"},\"paper_bgcolor\":\"white\",\"plot_bgcolor\":\"white\",\"polar\":{\"bgcolor\":\"white\",\"angularaxis\":{\"gridcolor\":\"#EBF0F8\",\"linecolor\":\"#EBF0F8\",\"ticks\":\"\"},\"radialaxis\":{\"gridcolor\":\"#EBF0F8\",\"linecolor\":\"#EBF0F8\",\"ticks\":\"\"}},\"ternary\":{\"bgcolor\":\"white\",\"aaxis\":{\"gridcolor\":\"#DFE8F3\",\"linecolor\":\"#A2B1C6\",\"ticks\":\"\"},\"baxis\":{\"gridcolor\":\"#DFE8F3\",\"linecolor\":\"#A2B1C6\",\"ticks\":\"\"},\"caxis\":{\"gridcolor\":\"#DFE8F3\",\"linecolor\":\"#A2B1C6\",\"ticks\":\"\"}},\"coloraxis\":{\"colorbar\":{\"outlinewidth\":0,\"ticks\":\"\"}},\"colorscale\":{\"sequential\":[[0.0,\"#0d0887\"],[0.1111111111111111,\"#46039f\"],[0.2222222222222222,\"#7201a8\"],[0.3333333333333333,\"#9c179e\"],[0.4444444444444444,\"#bd3786\"],[0.5555555555555556,\"#d8576b\"],[0.6666666666666666,\"#ed7953\"],[0.7777777777777778,\"#fb9f3a\"],[0.8888888888888888,\"#fdca26\"],[1.0,\"#f0f921\"]],\"sequentialminus\":[[0.0,\"#0d0887\"],[0.1111111111111111,\"#46039f\"],[0.2222222222222222,\"#7201a8\"],[0.3333333333333333,\"#9c179e\"],[0.4444444444444444,\"#bd3786\"],[0.5555555555555556,\"#d8576b\"],[0.6666666666666666,\"#ed7953\"],[0.7777777777777778,\"#fb9f3a\"],[0.8888888888888888,\"#fdca26\"],[1.0,\"#f0f921\"]],\"diverging\":[[0,\"#8e0152\"],[0.1,\"#c51b7d\"],[0.2,\"#de77ae\"],[0.3,\"#f1b6da\"],[0.4,\"#fde0ef\"],[0.5,\"#f7f7f7\"],[0.6,\"#e6f5d0\"],[0.7,\"#b8e186\"],[0.8,\"#7fbc41\"],[0.9,\"#4d9221\"],[1,\"#276419\"]]},\"xaxis\":{\"gridcolor\":\"#EBF0F8\",\"linecolor\":\"#EBF0F8\",\"ticks\":\"\",\"title\":{\"standoff\":15},\"zerolinecolor\":\"#EBF0F8\",\"automargin\":true,\"zerolinewidth\":2},\"yaxis\":{\"gridcolor\":\"#EBF0F8\",\"linecolor\":\"#EBF0F8\",\"ticks\":\"\",\"title\":{\"standoff\":15},\"zerolinecolor\":\"#EBF0F8\",\"automargin\":true,\"zerolinewidth\":2},\"scene\":{\"xaxis\":{\"backgroundcolor\":\"white\",\"gridcolor\":\"#DFE8F3\",\"linecolor\":\"#EBF0F8\",\"showbackground\":true,\"ticks\":\"\",\"zerolinecolor\":\"#EBF0F8\",\"gridwidth\":2},\"yaxis\":{\"backgroundcolor\":\"white\",\"gridcolor\":\"#DFE8F3\",\"linecolor\":\"#EBF0F8\",\"showbackground\":true,\"ticks\":\"\",\"zerolinecolor\":\"#EBF0F8\",\"gridwidth\":2},\"zaxis\":{\"backgroundcolor\":\"white\",\"gridcolor\":\"#DFE8F3\",\"linecolor\":\"#EBF0F8\",\"showbackground\":true,\"ticks\":\"\",\"zerolinecolor\":\"#EBF0F8\",\"gridwidth\":2}},\"shapedefaults\":{\"line\":{\"color\":\"#2a3f5f\"}},\"annotationdefaults\":{\"arrowcolor\":\"#2a3f5f\",\"arrowhead\":0,\"arrowwidth\":1},\"geo\":{\"bgcolor\":\"white\",\"landcolor\":\"white\",\"subunitcolor\":\"#C8D4E3\",\"showland\":true,\"showlakes\":true,\"lakecolor\":\"white\"},\"title\":{\"x\":0.05},\"mapbox\":{\"style\":\"light\"}}},\"xaxis\":{\"anchor\":\"y\",\"domain\":[0.0,0.2125]},\"yaxis\":{\"anchor\":\"x\",\"domain\":[0.0,1.0]},\"xaxis2\":{\"anchor\":\"y2\",\"domain\":[0.2625,0.475]},\"yaxis2\":{\"anchor\":\"x2\",\"domain\":[0.0,1.0]},\"xaxis3\":{\"anchor\":\"y3\",\"domain\":[0.525,0.7375]},\"yaxis3\":{\"anchor\":\"x3\",\"domain\":[0.0,1.0]},\"xaxis4\":{\"anchor\":\"y4\",\"domain\":[0.7875,1.0]},\"yaxis4\":{\"anchor\":\"x4\",\"domain\":[0.0,1.0]},\"annotations\":[{\"showarrow\":false,\"text\":\"AAA\",\"x\":0,\"xref\":\"x\",\"y\":0,\"yref\":\"y\"},{\"showarrow\":false,\"text\":\"AAC\",\"x\":1,\"xref\":\"x\",\"y\":0,\"yref\":\"y\"},{\"showarrow\":false,\"text\":\"AAG\",\"x\":2,\"xref\":\"x\",\"y\":0,\"yref\":\"y\"},{\"showarrow\":false,\"text\":\"AAT\",\"x\":3,\"xref\":\"x\",\"y\":0,\"yref\":\"y\"},{\"showarrow\":false,\"text\":\"ACA\",\"x\":0,\"xref\":\"x\",\"y\":1,\"yref\":\"y\"},{\"showarrow\":false,\"text\":\"ACC\",\"x\":1,\"xref\":\"x\",\"y\":1,\"yref\":\"y\"},{\"showarrow\":false,\"text\":\"ACG\",\"x\":2,\"xref\":\"x\",\"y\":1,\"yref\":\"y\"},{\"showarrow\":false,\"text\":\"ACT\",\"x\":3,\"xref\":\"x\",\"y\":1,\"yref\":\"y\"},{\"showarrow\":false,\"text\":\"AGA\",\"x\":0,\"xref\":\"x\",\"y\":2,\"yref\":\"y\"},{\"showarrow\":false,\"text\":\"AGC\",\"x\":1,\"xref\":\"x\",\"y\":2,\"yref\":\"y\"},{\"showarrow\":false,\"text\":\"AGG\",\"x\":2,\"xref\":\"x\",\"y\":2,\"yref\":\"y\"},{\"showarrow\":false,\"text\":\"AGT\",\"x\":3,\"xref\":\"x\",\"y\":2,\"yref\":\"y\"},{\"showarrow\":false,\"text\":\"ATA\",\"x\":0,\"xref\":\"x\",\"y\":3,\"yref\":\"y\"},{\"showarrow\":false,\"text\":\"ATC\",\"x\":1,\"xref\":\"x\",\"y\":3,\"yref\":\"y\"},{\"showarrow\":false,\"text\":\"ATG\",\"x\":2,\"xref\":\"x\",\"y\":3,\"yref\":\"y\"},{\"showarrow\":false,\"text\":\"ATT\",\"x\":3,\"xref\":\"x\",\"y\":3,\"yref\":\"y\"},{\"showarrow\":false,\"text\":\"CAA\",\"x\":0,\"xref\":\"x\",\"y\":4,\"yref\":\"y\"},{\"showarrow\":false,\"text\":\"CAC\",\"x\":1,\"xref\":\"x\",\"y\":4,\"yref\":\"y\"},{\"showarrow\":false,\"text\":\"CAG\",\"x\":2,\"xref\":\"x\",\"y\":4,\"yref\":\"y\"},{\"showarrow\":false,\"text\":\"CAT\",\"x\":3,\"xref\":\"x\",\"y\":4,\"yref\":\"y\"},{\"showarrow\":false,\"text\":\"CCA\",\"x\":0,\"xref\":\"x\",\"y\":5,\"yref\":\"y\"},{\"showarrow\":false,\"text\":\"CCC\",\"x\":1,\"xref\":\"x\",\"y\":5,\"yref\":\"y\"},{\"showarrow\":false,\"text\":\"CCG\",\"x\":2,\"xref\":\"x\",\"y\":5,\"yref\":\"y\"},{\"showarrow\":false,\"text\":\"CCT\",\"x\":3,\"xref\":\"x\",\"y\":5,\"yref\":\"y\"},{\"showarrow\":false,\"text\":\"CGA\",\"x\":0,\"xref\":\"x\",\"y\":6,\"yref\":\"y\"},{\"showarrow\":false,\"text\":\"CGC\",\"x\":1,\"xref\":\"x\",\"y\":6,\"yref\":\"y\"},{\"showarrow\":false,\"text\":\"CGG\",\"x\":2,\"xref\":\"x\",\"y\":6,\"yref\":\"y\"},{\"showarrow\":false,\"text\":\"CGT\",\"x\":3,\"xref\":\"x\",\"y\":6,\"yref\":\"y\"},{\"showarrow\":false,\"text\":\"CTA\",\"x\":0,\"xref\":\"x\",\"y\":7,\"yref\":\"y\"},{\"showarrow\":false,\"text\":\"CTC\",\"x\":1,\"xref\":\"x\",\"y\":7,\"yref\":\"y\"},{\"showarrow\":false,\"text\":\"CTG\",\"x\":2,\"xref\":\"x\",\"y\":7,\"yref\":\"y\"},{\"showarrow\":false,\"text\":\"CTT\",\"x\":3,\"xref\":\"x\",\"y\":7,\"yref\":\"y\"},{\"showarrow\":false,\"text\":\"GAA\",\"x\":0,\"xref\":\"x\",\"y\":8,\"yref\":\"y\"},{\"showarrow\":false,\"text\":\"GAC\",\"x\":1,\"xref\":\"x\",\"y\":8,\"yref\":\"y\"},{\"showarrow\":false,\"text\":\"GAG\",\"x\":2,\"xref\":\"x\",\"y\":8,\"yref\":\"y\"},{\"showarrow\":false,\"text\":\"GAT\",\"x\":3,\"xref\":\"x\",\"y\":8,\"yref\":\"y\"},{\"showarrow\":false,\"text\":\"GCA\",\"x\":0,\"xref\":\"x\",\"y\":9,\"yref\":\"y\"},{\"showarrow\":false,\"text\":\"GCC\",\"x\":1,\"xref\":\"x\",\"y\":9,\"yref\":\"y\"},{\"showarrow\":false,\"text\":\"GCG\",\"x\":2,\"xref\":\"x\",\"y\":9,\"yref\":\"y\"},{\"showarrow\":false,\"text\":\"GCT\",\"x\":3,\"xref\":\"x\",\"y\":9,\"yref\":\"y\"},{\"showarrow\":false,\"text\":\"GGA\",\"x\":0,\"xref\":\"x\",\"y\":10,\"yref\":\"y\"},{\"showarrow\":false,\"text\":\"GGC\",\"x\":1,\"xref\":\"x\",\"y\":10,\"yref\":\"y\"},{\"showarrow\":false,\"text\":\"GGG\",\"x\":2,\"xref\":\"x\",\"y\":10,\"yref\":\"y\"},{\"showarrow\":false,\"text\":\"GGT\",\"x\":3,\"xref\":\"x\",\"y\":10,\"yref\":\"y\"},{\"showarrow\":false,\"text\":\"GTA\",\"x\":0,\"xref\":\"x\",\"y\":11,\"yref\":\"y\"},{\"showarrow\":false,\"text\":\"GTC\",\"x\":1,\"xref\":\"x\",\"y\":11,\"yref\":\"y\"},{\"showarrow\":false,\"text\":\"GTG\",\"x\":2,\"xref\":\"x\",\"y\":11,\"yref\":\"y\"},{\"showarrow\":false,\"text\":\"GTT\",\"x\":3,\"xref\":\"x\",\"y\":11,\"yref\":\"y\"},{\"showarrow\":false,\"text\":\"TAA\",\"x\":0,\"xref\":\"x\",\"y\":12,\"yref\":\"y\"},{\"showarrow\":false,\"text\":\"TAC\",\"x\":1,\"xref\":\"x\",\"y\":12,\"yref\":\"y\"},{\"showarrow\":false,\"text\":\"TAG\",\"x\":2,\"xref\":\"x\",\"y\":12,\"yref\":\"y\"},{\"showarrow\":false,\"text\":\"TAT\",\"x\":3,\"xref\":\"x\",\"y\":12,\"yref\":\"y\"},{\"showarrow\":false,\"text\":\"TCA\",\"x\":0,\"xref\":\"x\",\"y\":13,\"yref\":\"y\"},{\"showarrow\":false,\"text\":\"TCC\",\"x\":1,\"xref\":\"x\",\"y\":13,\"yref\":\"y\"},{\"showarrow\":false,\"text\":\"TCG\",\"x\":2,\"xref\":\"x\",\"y\":13,\"yref\":\"y\"},{\"showarrow\":false,\"text\":\"TCT\",\"x\":3,\"xref\":\"x\",\"y\":13,\"yref\":\"y\"},{\"showarrow\":false,\"text\":\"TGA\",\"x\":0,\"xref\":\"x\",\"y\":14,\"yref\":\"y\"},{\"showarrow\":false,\"text\":\"TGC\",\"x\":1,\"xref\":\"x\",\"y\":14,\"yref\":\"y\"},{\"showarrow\":false,\"text\":\"TGG\",\"x\":2,\"xref\":\"x\",\"y\":14,\"yref\":\"y\"},{\"showarrow\":false,\"text\":\"TGT\",\"x\":3,\"xref\":\"x\",\"y\":14,\"yref\":\"y\"},{\"showarrow\":false,\"text\":\"TTA\",\"x\":0,\"xref\":\"x\",\"y\":15,\"yref\":\"y\"},{\"showarrow\":false,\"text\":\"TTC\",\"x\":1,\"xref\":\"x\",\"y\":15,\"yref\":\"y\"},{\"showarrow\":false,\"text\":\"TTG\",\"x\":2,\"xref\":\"x\",\"y\":15,\"yref\":\"y\"},{\"showarrow\":false,\"text\":\"TTT\",\"x\":3,\"xref\":\"x\",\"y\":15,\"yref\":\"y\"},{\"showarrow\":false,\"text\":\"AAA\",\"x\":0,\"xref\":\"x2\",\"y\":0,\"yref\":\"y2\"},{\"showarrow\":false,\"text\":\"AAC\",\"x\":1,\"xref\":\"x2\",\"y\":0,\"yref\":\"y2\"},{\"showarrow\":false,\"text\":\"AAG\",\"x\":2,\"xref\":\"x2\",\"y\":0,\"yref\":\"y2\"},{\"showarrow\":false,\"text\":\"AAT\",\"x\":3,\"xref\":\"x2\",\"y\":0,\"yref\":\"y2\"},{\"showarrow\":false,\"text\":\"ACA\",\"x\":0,\"xref\":\"x2\",\"y\":1,\"yref\":\"y2\"},{\"showarrow\":false,\"text\":\"ACC\",\"x\":1,\"xref\":\"x2\",\"y\":1,\"yref\":\"y2\"},{\"showarrow\":false,\"text\":\"ACG\",\"x\":2,\"xref\":\"x2\",\"y\":1,\"yref\":\"y2\"},{\"showarrow\":false,\"text\":\"ACT\",\"x\":3,\"xref\":\"x2\",\"y\":1,\"yref\":\"y2\"},{\"showarrow\":false,\"text\":\"AGA\",\"x\":0,\"xref\":\"x2\",\"y\":2,\"yref\":\"y2\"},{\"showarrow\":false,\"text\":\"AGC\",\"x\":1,\"xref\":\"x2\",\"y\":2,\"yref\":\"y2\"},{\"showarrow\":false,\"text\":\"AGG\",\"x\":2,\"xref\":\"x2\",\"y\":2,\"yref\":\"y2\"},{\"showarrow\":false,\"text\":\"AGT\",\"x\":3,\"xref\":\"x2\",\"y\":2,\"yref\":\"y2\"},{\"showarrow\":false,\"text\":\"ATA\",\"x\":0,\"xref\":\"x2\",\"y\":3,\"yref\":\"y2\"},{\"showarrow\":false,\"text\":\"ATC\",\"x\":1,\"xref\":\"x2\",\"y\":3,\"yref\":\"y2\"},{\"showarrow\":false,\"text\":\"ATG\",\"x\":2,\"xref\":\"x2\",\"y\":3,\"yref\":\"y2\"},{\"showarrow\":false,\"text\":\"ATT\",\"x\":3,\"xref\":\"x2\",\"y\":3,\"yref\":\"y2\"},{\"showarrow\":false,\"text\":\"CAA\",\"x\":0,\"xref\":\"x2\",\"y\":4,\"yref\":\"y2\"},{\"showarrow\":false,\"text\":\"CAC\",\"x\":1,\"xref\":\"x2\",\"y\":4,\"yref\":\"y2\"},{\"showarrow\":false,\"text\":\"CAG\",\"x\":2,\"xref\":\"x2\",\"y\":4,\"yref\":\"y2\"},{\"showarrow\":false,\"text\":\"CAT\",\"x\":3,\"xref\":\"x2\",\"y\":4,\"yref\":\"y2\"},{\"showarrow\":false,\"text\":\"CCA\",\"x\":0,\"xref\":\"x2\",\"y\":5,\"yref\":\"y2\"},{\"showarrow\":false,\"text\":\"CCC\",\"x\":1,\"xref\":\"x2\",\"y\":5,\"yref\":\"y2\"},{\"showarrow\":false,\"text\":\"CCG\",\"x\":2,\"xref\":\"x2\",\"y\":5,\"yref\":\"y2\"},{\"showarrow\":false,\"text\":\"CCT\",\"x\":3,\"xref\":\"x2\",\"y\":5,\"yref\":\"y2\"},{\"showarrow\":false,\"text\":\"CGA\",\"x\":0,\"xref\":\"x2\",\"y\":6,\"yref\":\"y2\"},{\"showarrow\":false,\"text\":\"CGC\",\"x\":1,\"xref\":\"x2\",\"y\":6,\"yref\":\"y2\"},{\"showarrow\":false,\"text\":\"CGG\",\"x\":2,\"xref\":\"x2\",\"y\":6,\"yref\":\"y2\"},{\"showarrow\":false,\"text\":\"CGT\",\"x\":3,\"xref\":\"x2\",\"y\":6,\"yref\":\"y2\"},{\"showarrow\":false,\"text\":\"CTA\",\"x\":0,\"xref\":\"x2\",\"y\":7,\"yref\":\"y2\"},{\"showarrow\":false,\"text\":\"CTC\",\"x\":1,\"xref\":\"x2\",\"y\":7,\"yref\":\"y2\"},{\"showarrow\":false,\"text\":\"CTG\",\"x\":2,\"xref\":\"x2\",\"y\":7,\"yref\":\"y2\"},{\"showarrow\":false,\"text\":\"CTT\",\"x\":3,\"xref\":\"x2\",\"y\":7,\"yref\":\"y2\"},{\"showarrow\":false,\"text\":\"GAA\",\"x\":0,\"xref\":\"x2\",\"y\":8,\"yref\":\"y2\"},{\"showarrow\":false,\"text\":\"GAC\",\"x\":1,\"xref\":\"x2\",\"y\":8,\"yref\":\"y2\"},{\"showarrow\":false,\"text\":\"GAG\",\"x\":2,\"xref\":\"x2\",\"y\":8,\"yref\":\"y2\"},{\"showarrow\":false,\"text\":\"GAT\",\"x\":3,\"xref\":\"x2\",\"y\":8,\"yref\":\"y2\"},{\"showarrow\":false,\"text\":\"GCA\",\"x\":0,\"xref\":\"x2\",\"y\":9,\"yref\":\"y2\"},{\"showarrow\":false,\"text\":\"GCC\",\"x\":1,\"xref\":\"x2\",\"y\":9,\"yref\":\"y2\"},{\"showarrow\":false,\"text\":\"GCG\",\"x\":2,\"xref\":\"x2\",\"y\":9,\"yref\":\"y2\"},{\"showarrow\":false,\"text\":\"GCT\",\"x\":3,\"xref\":\"x2\",\"y\":9,\"yref\":\"y2\"},{\"showarrow\":false,\"text\":\"GGA\",\"x\":0,\"xref\":\"x2\",\"y\":10,\"yref\":\"y2\"},{\"showarrow\":false,\"text\":\"GGC\",\"x\":1,\"xref\":\"x2\",\"y\":10,\"yref\":\"y2\"},{\"showarrow\":false,\"text\":\"GGG\",\"x\":2,\"xref\":\"x2\",\"y\":10,\"yref\":\"y2\"},{\"showarrow\":false,\"text\":\"GGT\",\"x\":3,\"xref\":\"x2\",\"y\":10,\"yref\":\"y2\"},{\"showarrow\":false,\"text\":\"GTA\",\"x\":0,\"xref\":\"x2\",\"y\":11,\"yref\":\"y2\"},{\"showarrow\":false,\"text\":\"GTC\",\"x\":1,\"xref\":\"x2\",\"y\":11,\"yref\":\"y2\"},{\"showarrow\":false,\"text\":\"GTG\",\"x\":2,\"xref\":\"x2\",\"y\":11,\"yref\":\"y2\"},{\"showarrow\":false,\"text\":\"GTT\",\"x\":3,\"xref\":\"x2\",\"y\":11,\"yref\":\"y2\"},{\"showarrow\":false,\"text\":\"TAA\",\"x\":0,\"xref\":\"x2\",\"y\":12,\"yref\":\"y2\"},{\"showarrow\":false,\"text\":\"TAC\",\"x\":1,\"xref\":\"x2\",\"y\":12,\"yref\":\"y2\"},{\"showarrow\":false,\"text\":\"TAG\",\"x\":2,\"xref\":\"x2\",\"y\":12,\"yref\":\"y2\"},{\"showarrow\":false,\"text\":\"TAT\",\"x\":3,\"xref\":\"x2\",\"y\":12,\"yref\":\"y2\"},{\"showarrow\":false,\"text\":\"TCA\",\"x\":0,\"xref\":\"x2\",\"y\":13,\"yref\":\"y2\"},{\"showarrow\":false,\"text\":\"TCC\",\"x\":1,\"xref\":\"x2\",\"y\":13,\"yref\":\"y2\"},{\"showarrow\":false,\"text\":\"TCG\",\"x\":2,\"xref\":\"x2\",\"y\":13,\"yref\":\"y2\"},{\"showarrow\":false,\"text\":\"TCT\",\"x\":3,\"xref\":\"x2\",\"y\":13,\"yref\":\"y2\"},{\"showarrow\":false,\"text\":\"TGA\",\"x\":0,\"xref\":\"x2\",\"y\":14,\"yref\":\"y2\"},{\"showarrow\":false,\"text\":\"TGC\",\"x\":1,\"xref\":\"x2\",\"y\":14,\"yref\":\"y2\"},{\"showarrow\":false,\"text\":\"TGG\",\"x\":2,\"xref\":\"x2\",\"y\":14,\"yref\":\"y2\"},{\"showarrow\":false,\"text\":\"TGT\",\"x\":3,\"xref\":\"x2\",\"y\":14,\"yref\":\"y2\"},{\"showarrow\":false,\"text\":\"TTA\",\"x\":0,\"xref\":\"x2\",\"y\":15,\"yref\":\"y2\"},{\"showarrow\":false,\"text\":\"TTC\",\"x\":1,\"xref\":\"x2\",\"y\":15,\"yref\":\"y2\"},{\"showarrow\":false,\"text\":\"TTG\",\"x\":2,\"xref\":\"x2\",\"y\":15,\"yref\":\"y2\"},{\"showarrow\":false,\"text\":\"TTT\",\"x\":3,\"xref\":\"x2\",\"y\":15,\"yref\":\"y2\"},{\"showarrow\":false,\"text\":\"AAA\",\"x\":0,\"xref\":\"x3\",\"y\":0,\"yref\":\"y3\"},{\"showarrow\":false,\"text\":\"AAC\",\"x\":1,\"xref\":\"x3\",\"y\":0,\"yref\":\"y3\"},{\"showarrow\":false,\"text\":\"AAG\",\"x\":2,\"xref\":\"x3\",\"y\":0,\"yref\":\"y3\"},{\"showarrow\":false,\"text\":\"AAT\",\"x\":3,\"xref\":\"x3\",\"y\":0,\"yref\":\"y3\"},{\"showarrow\":false,\"text\":\"ACA\",\"x\":0,\"xref\":\"x3\",\"y\":1,\"yref\":\"y3\"},{\"showarrow\":false,\"text\":\"ACC\",\"x\":1,\"xref\":\"x3\",\"y\":1,\"yref\":\"y3\"},{\"showarrow\":false,\"text\":\"ACG\",\"x\":2,\"xref\":\"x3\",\"y\":1,\"yref\":\"y3\"},{\"showarrow\":false,\"text\":\"ACT\",\"x\":3,\"xref\":\"x3\",\"y\":1,\"yref\":\"y3\"},{\"showarrow\":false,\"text\":\"AGA\",\"x\":0,\"xref\":\"x3\",\"y\":2,\"yref\":\"y3\"},{\"showarrow\":false,\"text\":\"AGC\",\"x\":1,\"xref\":\"x3\",\"y\":2,\"yref\":\"y3\"},{\"showarrow\":false,\"text\":\"AGG\",\"x\":2,\"xref\":\"x3\",\"y\":2,\"yref\":\"y3\"},{\"showarrow\":false,\"text\":\"AGT\",\"x\":3,\"xref\":\"x3\",\"y\":2,\"yref\":\"y3\"},{\"showarrow\":false,\"text\":\"ATA\",\"x\":0,\"xref\":\"x3\",\"y\":3,\"yref\":\"y3\"},{\"showarrow\":false,\"text\":\"ATC\",\"x\":1,\"xref\":\"x3\",\"y\":3,\"yref\":\"y3\"},{\"showarrow\":false,\"text\":\"ATG\",\"x\":2,\"xref\":\"x3\",\"y\":3,\"yref\":\"y3\"},{\"showarrow\":false,\"text\":\"ATT\",\"x\":3,\"xref\":\"x3\",\"y\":3,\"yref\":\"y3\"},{\"showarrow\":false,\"text\":\"CAA\",\"x\":0,\"xref\":\"x3\",\"y\":4,\"yref\":\"y3\"},{\"showarrow\":false,\"text\":\"CAC\",\"x\":1,\"xref\":\"x3\",\"y\":4,\"yref\":\"y3\"},{\"showarrow\":false,\"text\":\"CAG\",\"x\":2,\"xref\":\"x3\",\"y\":4,\"yref\":\"y3\"},{\"showarrow\":false,\"text\":\"CAT\",\"x\":3,\"xref\":\"x3\",\"y\":4,\"yref\":\"y3\"},{\"showarrow\":false,\"text\":\"CCA\",\"x\":0,\"xref\":\"x3\",\"y\":5,\"yref\":\"y3\"},{\"showarrow\":false,\"text\":\"CCC\",\"x\":1,\"xref\":\"x3\",\"y\":5,\"yref\":\"y3\"},{\"showarrow\":false,\"text\":\"CCG\",\"x\":2,\"xref\":\"x3\",\"y\":5,\"yref\":\"y3\"},{\"showarrow\":false,\"text\":\"CCT\",\"x\":3,\"xref\":\"x3\",\"y\":5,\"yref\":\"y3\"},{\"showarrow\":false,\"text\":\"CGA\",\"x\":0,\"xref\":\"x3\",\"y\":6,\"yref\":\"y3\"},{\"showarrow\":false,\"text\":\"CGC\",\"x\":1,\"xref\":\"x3\",\"y\":6,\"yref\":\"y3\"},{\"showarrow\":false,\"text\":\"CGG\",\"x\":2,\"xref\":\"x3\",\"y\":6,\"yref\":\"y3\"},{\"showarrow\":false,\"text\":\"CGT\",\"x\":3,\"xref\":\"x3\",\"y\":6,\"yref\":\"y3\"},{\"showarrow\":false,\"text\":\"CTA\",\"x\":0,\"xref\":\"x3\",\"y\":7,\"yref\":\"y3\"},{\"showarrow\":false,\"text\":\"CTC\",\"x\":1,\"xref\":\"x3\",\"y\":7,\"yref\":\"y3\"},{\"showarrow\":false,\"text\":\"CTG\",\"x\":2,\"xref\":\"x3\",\"y\":7,\"yref\":\"y3\"},{\"showarrow\":false,\"text\":\"CTT\",\"x\":3,\"xref\":\"x3\",\"y\":7,\"yref\":\"y3\"},{\"showarrow\":false,\"text\":\"GAA\",\"x\":0,\"xref\":\"x3\",\"y\":8,\"yref\":\"y3\"},{\"showarrow\":false,\"text\":\"GAC\",\"x\":1,\"xref\":\"x3\",\"y\":8,\"yref\":\"y3\"},{\"showarrow\":false,\"text\":\"GAG\",\"x\":2,\"xref\":\"x3\",\"y\":8,\"yref\":\"y3\"},{\"showarrow\":false,\"text\":\"GAT\",\"x\":3,\"xref\":\"x3\",\"y\":8,\"yref\":\"y3\"},{\"showarrow\":false,\"text\":\"GCA\",\"x\":0,\"xref\":\"x3\",\"y\":9,\"yref\":\"y3\"},{\"showarrow\":false,\"text\":\"GCC\",\"x\":1,\"xref\":\"x3\",\"y\":9,\"yref\":\"y3\"},{\"showarrow\":false,\"text\":\"GCG\",\"x\":2,\"xref\":\"x3\",\"y\":9,\"yref\":\"y3\"},{\"showarrow\":false,\"text\":\"GCT\",\"x\":3,\"xref\":\"x3\",\"y\":9,\"yref\":\"y3\"},{\"showarrow\":false,\"text\":\"GGA\",\"x\":0,\"xref\":\"x3\",\"y\":10,\"yref\":\"y3\"},{\"showarrow\":false,\"text\":\"GGC\",\"x\":1,\"xref\":\"x3\",\"y\":10,\"yref\":\"y3\"},{\"showarrow\":false,\"text\":\"GGG\",\"x\":2,\"xref\":\"x3\",\"y\":10,\"yref\":\"y3\"},{\"showarrow\":false,\"text\":\"GGT\",\"x\":3,\"xref\":\"x3\",\"y\":10,\"yref\":\"y3\"},{\"showarrow\":false,\"text\":\"GTA\",\"x\":0,\"xref\":\"x3\",\"y\":11,\"yref\":\"y3\"},{\"showarrow\":false,\"text\":\"GTC\",\"x\":1,\"xref\":\"x3\",\"y\":11,\"yref\":\"y3\"},{\"showarrow\":false,\"text\":\"GTG\",\"x\":2,\"xref\":\"x3\",\"y\":11,\"yref\":\"y3\"},{\"showarrow\":false,\"text\":\"GTT\",\"x\":3,\"xref\":\"x3\",\"y\":11,\"yref\":\"y3\"},{\"showarrow\":false,\"text\":\"TAA\",\"x\":0,\"xref\":\"x3\",\"y\":12,\"yref\":\"y3\"},{\"showarrow\":false,\"text\":\"TAC\",\"x\":1,\"xref\":\"x3\",\"y\":12,\"yref\":\"y3\"},{\"showarrow\":false,\"text\":\"TAG\",\"x\":2,\"xref\":\"x3\",\"y\":12,\"yref\":\"y3\"},{\"showarrow\":false,\"text\":\"TAT\",\"x\":3,\"xref\":\"x3\",\"y\":12,\"yref\":\"y3\"},{\"showarrow\":false,\"text\":\"TCA\",\"x\":0,\"xref\":\"x3\",\"y\":13,\"yref\":\"y3\"},{\"showarrow\":false,\"text\":\"TCC\",\"x\":1,\"xref\":\"x3\",\"y\":13,\"yref\":\"y3\"},{\"showarrow\":false,\"text\":\"TCG\",\"x\":2,\"xref\":\"x3\",\"y\":13,\"yref\":\"y3\"},{\"showarrow\":false,\"text\":\"TCT\",\"x\":3,\"xref\":\"x3\",\"y\":13,\"yref\":\"y3\"},{\"showarrow\":false,\"text\":\"TGA\",\"x\":0,\"xref\":\"x3\",\"y\":14,\"yref\":\"y3\"},{\"showarrow\":false,\"text\":\"TGC\",\"x\":1,\"xref\":\"x3\",\"y\":14,\"yref\":\"y3\"},{\"showarrow\":false,\"text\":\"TGG\",\"x\":2,\"xref\":\"x3\",\"y\":14,\"yref\":\"y3\"},{\"showarrow\":false,\"text\":\"TGT\",\"x\":3,\"xref\":\"x3\",\"y\":14,\"yref\":\"y3\"},{\"showarrow\":false,\"text\":\"TTA\",\"x\":0,\"xref\":\"x3\",\"y\":15,\"yref\":\"y3\"},{\"showarrow\":false,\"text\":\"TTC\",\"x\":1,\"xref\":\"x3\",\"y\":15,\"yref\":\"y3\"},{\"showarrow\":false,\"text\":\"TTG\",\"x\":2,\"xref\":\"x3\",\"y\":15,\"yref\":\"y3\"},{\"showarrow\":false,\"text\":\"TTT\",\"x\":3,\"xref\":\"x3\",\"y\":15,\"yref\":\"y3\"},{\"showarrow\":false,\"text\":\"AAA\",\"x\":0,\"xref\":\"x4\",\"y\":0,\"yref\":\"y4\"},{\"showarrow\":false,\"text\":\"AAC\",\"x\":1,\"xref\":\"x4\",\"y\":0,\"yref\":\"y4\"},{\"showarrow\":false,\"text\":\"AAG\",\"x\":2,\"xref\":\"x4\",\"y\":0,\"yref\":\"y4\"},{\"showarrow\":false,\"text\":\"AAT\",\"x\":3,\"xref\":\"x4\",\"y\":0,\"yref\":\"y4\"},{\"showarrow\":false,\"text\":\"ACA\",\"x\":0,\"xref\":\"x4\",\"y\":1,\"yref\":\"y4\"},{\"showarrow\":false,\"text\":\"ACC\",\"x\":1,\"xref\":\"x4\",\"y\":1,\"yref\":\"y4\"},{\"showarrow\":false,\"text\":\"ACG\",\"x\":2,\"xref\":\"x4\",\"y\":1,\"yref\":\"y4\"},{\"showarrow\":false,\"text\":\"ACT\",\"x\":3,\"xref\":\"x4\",\"y\":1,\"yref\":\"y4\"},{\"showarrow\":false,\"text\":\"AGA\",\"x\":0,\"xref\":\"x4\",\"y\":2,\"yref\":\"y4\"},{\"showarrow\":false,\"text\":\"AGC\",\"x\":1,\"xref\":\"x4\",\"y\":2,\"yref\":\"y4\"},{\"showarrow\":false,\"text\":\"AGG\",\"x\":2,\"xref\":\"x4\",\"y\":2,\"yref\":\"y4\"},{\"showarrow\":false,\"text\":\"AGT\",\"x\":3,\"xref\":\"x4\",\"y\":2,\"yref\":\"y4\"},{\"showarrow\":false,\"text\":\"ATA\",\"x\":0,\"xref\":\"x4\",\"y\":3,\"yref\":\"y4\"},{\"showarrow\":false,\"text\":\"ATC\",\"x\":1,\"xref\":\"x4\",\"y\":3,\"yref\":\"y4\"},{\"showarrow\":false,\"text\":\"ATG\",\"x\":2,\"xref\":\"x4\",\"y\":3,\"yref\":\"y4\"},{\"showarrow\":false,\"text\":\"ATT\",\"x\":3,\"xref\":\"x4\",\"y\":3,\"yref\":\"y4\"},{\"showarrow\":false,\"text\":\"CAA\",\"x\":0,\"xref\":\"x4\",\"y\":4,\"yref\":\"y4\"},{\"showarrow\":false,\"text\":\"CAC\",\"x\":1,\"xref\":\"x4\",\"y\":4,\"yref\":\"y4\"},{\"showarrow\":false,\"text\":\"CAG\",\"x\":2,\"xref\":\"x4\",\"y\":4,\"yref\":\"y4\"},{\"showarrow\":false,\"text\":\"CAT\",\"x\":3,\"xref\":\"x4\",\"y\":4,\"yref\":\"y4\"},{\"showarrow\":false,\"text\":\"CCA\",\"x\":0,\"xref\":\"x4\",\"y\":5,\"yref\":\"y4\"},{\"showarrow\":false,\"text\":\"CCC\",\"x\":1,\"xref\":\"x4\",\"y\":5,\"yref\":\"y4\"},{\"showarrow\":false,\"text\":\"CCG\",\"x\":2,\"xref\":\"x4\",\"y\":5,\"yref\":\"y4\"},{\"showarrow\":false,\"text\":\"CCT\",\"x\":3,\"xref\":\"x4\",\"y\":5,\"yref\":\"y4\"},{\"showarrow\":false,\"text\":\"CGA\",\"x\":0,\"xref\":\"x4\",\"y\":6,\"yref\":\"y4\"},{\"showarrow\":false,\"text\":\"CGC\",\"x\":1,\"xref\":\"x4\",\"y\":6,\"yref\":\"y4\"},{\"showarrow\":false,\"text\":\"CGG\",\"x\":2,\"xref\":\"x4\",\"y\":6,\"yref\":\"y4\"},{\"showarrow\":false,\"text\":\"CGT\",\"x\":3,\"xref\":\"x4\",\"y\":6,\"yref\":\"y4\"},{\"showarrow\":false,\"text\":\"CTA\",\"x\":0,\"xref\":\"x4\",\"y\":7,\"yref\":\"y4\"},{\"showarrow\":false,\"text\":\"CTC\",\"x\":1,\"xref\":\"x4\",\"y\":7,\"yref\":\"y4\"},{\"showarrow\":false,\"text\":\"CTG\",\"x\":2,\"xref\":\"x4\",\"y\":7,\"yref\":\"y4\"},{\"showarrow\":false,\"text\":\"CTT\",\"x\":3,\"xref\":\"x4\",\"y\":7,\"yref\":\"y4\"},{\"showarrow\":false,\"text\":\"GAA\",\"x\":0,\"xref\":\"x4\",\"y\":8,\"yref\":\"y4\"},{\"showarrow\":false,\"text\":\"GAC\",\"x\":1,\"xref\":\"x4\",\"y\":8,\"yref\":\"y4\"},{\"showarrow\":false,\"text\":\"GAG\",\"x\":2,\"xref\":\"x4\",\"y\":8,\"yref\":\"y4\"},{\"showarrow\":false,\"text\":\"GAT\",\"x\":3,\"xref\":\"x4\",\"y\":8,\"yref\":\"y4\"},{\"showarrow\":false,\"text\":\"GCA\",\"x\":0,\"xref\":\"x4\",\"y\":9,\"yref\":\"y4\"},{\"showarrow\":false,\"text\":\"GCC\",\"x\":1,\"xref\":\"x4\",\"y\":9,\"yref\":\"y4\"},{\"showarrow\":false,\"text\":\"GCG\",\"x\":2,\"xref\":\"x4\",\"y\":9,\"yref\":\"y4\"},{\"showarrow\":false,\"text\":\"GCT\",\"x\":3,\"xref\":\"x4\",\"y\":9,\"yref\":\"y4\"},{\"showarrow\":false,\"text\":\"GGA\",\"x\":0,\"xref\":\"x4\",\"y\":10,\"yref\":\"y4\"},{\"showarrow\":false,\"text\":\"GGC\",\"x\":1,\"xref\":\"x4\",\"y\":10,\"yref\":\"y4\"},{\"showarrow\":false,\"text\":\"GGG\",\"x\":2,\"xref\":\"x4\",\"y\":10,\"yref\":\"y4\"},{\"showarrow\":false,\"text\":\"GGT\",\"x\":3,\"xref\":\"x4\",\"y\":10,\"yref\":\"y4\"},{\"showarrow\":false,\"text\":\"GTA\",\"x\":0,\"xref\":\"x4\",\"y\":11,\"yref\":\"y4\"},{\"showarrow\":false,\"text\":\"GTC\",\"x\":1,\"xref\":\"x4\",\"y\":11,\"yref\":\"y4\"},{\"showarrow\":false,\"text\":\"GTG\",\"x\":2,\"xref\":\"x4\",\"y\":11,\"yref\":\"y4\"},{\"showarrow\":false,\"text\":\"GTT\",\"x\":3,\"xref\":\"x4\",\"y\":11,\"yref\":\"y4\"},{\"showarrow\":false,\"text\":\"TAA\",\"x\":0,\"xref\":\"x4\",\"y\":12,\"yref\":\"y4\"},{\"showarrow\":false,\"text\":\"TAC\",\"x\":1,\"xref\":\"x4\",\"y\":12,\"yref\":\"y4\"},{\"showarrow\":false,\"text\":\"TAG\",\"x\":2,\"xref\":\"x4\",\"y\":12,\"yref\":\"y4\"},{\"showarrow\":false,\"text\":\"TAT\",\"x\":3,\"xref\":\"x4\",\"y\":12,\"yref\":\"y4\"},{\"showarrow\":false,\"text\":\"TCA\",\"x\":0,\"xref\":\"x4\",\"y\":13,\"yref\":\"y4\"},{\"showarrow\":false,\"text\":\"TCC\",\"x\":1,\"xref\":\"x4\",\"y\":13,\"yref\":\"y4\"},{\"showarrow\":false,\"text\":\"TCG\",\"x\":2,\"xref\":\"x4\",\"y\":13,\"yref\":\"y4\"},{\"showarrow\":false,\"text\":\"TCT\",\"x\":3,\"xref\":\"x4\",\"y\":13,\"yref\":\"y4\"},{\"showarrow\":false,\"text\":\"TGA\",\"x\":0,\"xref\":\"x4\",\"y\":14,\"yref\":\"y4\"},{\"showarrow\":false,\"text\":\"TGC\",\"x\":1,\"xref\":\"x4\",\"y\":14,\"yref\":\"y4\"},{\"showarrow\":false,\"text\":\"TGG\",\"x\":2,\"xref\":\"x4\",\"y\":14,\"yref\":\"y4\"},{\"showarrow\":false,\"text\":\"TGT\",\"x\":3,\"xref\":\"x4\",\"y\":14,\"yref\":\"y4\"},{\"showarrow\":false,\"text\":\"TTA\",\"x\":0,\"xref\":\"x4\",\"y\":15,\"yref\":\"y4\"},{\"showarrow\":false,\"text\":\"TTC\",\"x\":1,\"xref\":\"x4\",\"y\":15,\"yref\":\"y4\"},{\"showarrow\":false,\"text\":\"TTG\",\"x\":2,\"xref\":\"x4\",\"y\":15,\"yref\":\"y4\"},{\"showarrow\":false,\"text\":\"TTT\",\"x\":3,\"xref\":\"x4\",\"y\":15,\"yref\":\"y4\"}]},                        {\"responsive\": true}                    ).then(function(){\n",
       "                            \n",
       "var gd = document.getElementById('2188af51-059c-4315-a163-339aea7730e3');\n",
       "var x = new MutationObserver(function (mutations, observer) {{\n",
       "        var display = window.getComputedStyle(gd).display;\n",
       "        if (!display || display === 'none') {{\n",
       "            console.log([gd, 'removed!']);\n",
       "            Plotly.purge(gd);\n",
       "            observer.disconnect();\n",
       "        }}\n",
       "}});\n",
       "\n",
       "// Listen for the removal of the full notebook cells\n",
       "var notebookContainer = gd.closest('#notebook-container');\n",
       "if (notebookContainer) {{\n",
       "    x.observe(notebookContainer, {childList: true});\n",
       "}}\n",
       "\n",
       "// Listen for the clearing of the current output cell\n",
       "var outputEl = gd.closest('.output');\n",
       "if (outputEl) {{\n",
       "    x.observe(outputEl, {childList: true});\n",
       "}}\n",
       "\n",
       "                        })                };                });            </script>        </div>"
      ]
     },
     "metadata": {},
     "output_type": "display_data"
    }
   ],
   "source": [
    "import plotly.graph_objs as go\n",
    "from plotly.subplots import make_subplots\n",
    "\n",
    "fig = make_subplots(rows=1, cols=4)\n",
    "\n",
    "\n",
    "mean_agg = kmer_matrix.groupby('target').agg(['mean'])\n",
    "mean_max = mean_agg.max().max()\n",
    "mean_min = mean_agg.min().min()\n",
    "mean_agg_index = mean_agg.index\n",
    "kmer_index = np.array([x[0] for x in mean_agg.columns]).reshape(16,4)\n",
    "mean_agg = (np.array(mean_agg) - mean_min) / (mean_max - mean_min)\n",
    "\n",
    "i = 1\n",
    "for index in range(len(mean_agg)):\n",
    "    array = np.array(mean_agg[index]).astype(float).reshape(16,4)\n",
    "    fig.add_trace(\n",
    "        go.Heatmap(\n",
    "            z=array,\n",
    "            colorscale='gray',\n",
    "        ),\n",
    "        row= 1, col= i,\n",
    "    )\n",
    "    for k in range(16):\n",
    "        for j in range(4):\n",
    "            fig.add_annotation(text=np.array(kmer_index).reshape(16,4)[k][j], x=j, y=k, showarrow=False, row=1, col=i)\n",
    "    i+=1\n",
    "fig.show()"
   ]
  },
  {
   "cell_type": "markdown",
   "metadata": {},
   "source": [
    "# Train Test Split"
   ]
  },
  {
   "cell_type": "markdown",
   "metadata": {},
   "source": [
    "We will want to do a multi-class model later on, but I will start with a 2 class dataframe to create a baseline model."
   ]
  },
  {
   "cell_type": "code",
   "execution_count": null,
   "metadata": {},
   "outputs": [],
   "source": [
    "baseline_df = pd.concat([human_df, oak_df], axis=0).reset_index(drop=True)"
   ]
  },
  {
   "cell_type": "code",
   "execution_count": 30,
   "metadata": {},
   "outputs": [],
   "source": [
    "labeler = LabelEncoder()\n",
    "\n",
    "X = baseline_df.drop(columns='target')\n",
    "y = labeler.fit_transform(baseline_df['target'])\n",
    "\n",
    "X_train, X_test, y_train, y_test = train_test_split(X, y, random_state=42)"
   ]
  },
  {
   "cell_type": "markdown",
   "metadata": {},
   "source": [
    "Now that we have defined this custom transformer, and split the data into training and testing sets, I can transform the X's into the dataframe's we will use in the model. We will start the baseline model with k=3."
   ]
  },
  {
   "cell_type": "code",
   "execution_count": 31,
   "metadata": {},
   "outputs": [
    {
     "name": "stdout",
     "output_type": "stream",
     "text": [
      "CPU times: user 11.4 s, sys: 82.9 ms, total: 11.4 s\n",
      "Wall time: 11.4 s\n",
      "CPU times: user 4.21 s, sys: 27.7 ms, total: 4.24 s\n",
      "Wall time: 4.24 s\n"
     ]
    }
   ],
   "source": [
    "kmer_transformer = KMerTransformer(k=3)\n",
    "%time X_train_trans = kmer_transformer.fit_transform(X_train)\n",
    "%time X_test_trans = kmer_transformer.transform(X_test)"
   ]
  },
  {
   "cell_type": "markdown",
   "metadata": {},
   "source": [
    "# Baseline Model"
   ]
  },
  {
   "cell_type": "code",
   "execution_count": 18,
   "metadata": {},
   "outputs": [
    {
     "data": {
      "text/html": [
       "<style>div.sk-top-container {color: black;background-color: white;}div.sk-toggleable {background-color: white;}label.sk-toggleable__label {cursor: pointer;display: block;width: 100%;margin-bottom: 0;padding: 0.2em 0.3em;box-sizing: border-box;text-align: center;}div.sk-toggleable__content {max-height: 0;max-width: 0;overflow: hidden;text-align: left;background-color: #f0f8ff;}div.sk-toggleable__content pre {margin: 0.2em;color: black;border-radius: 0.25em;background-color: #f0f8ff;}input.sk-toggleable__control:checked~div.sk-toggleable__content {max-height: 200px;max-width: 100%;overflow: auto;}div.sk-estimator input.sk-toggleable__control:checked~label.sk-toggleable__label {background-color: #d4ebff;}div.sk-label input.sk-toggleable__control:checked~label.sk-toggleable__label {background-color: #d4ebff;}input.sk-hidden--visually {border: 0;clip: rect(1px 1px 1px 1px);clip: rect(1px, 1px, 1px, 1px);height: 1px;margin: -1px;overflow: hidden;padding: 0;position: absolute;width: 1px;}div.sk-estimator {font-family: monospace;background-color: #f0f8ff;margin: 0.25em 0.25em;border: 1px dotted black;border-radius: 0.25em;box-sizing: border-box;}div.sk-estimator:hover {background-color: #d4ebff;}div.sk-parallel-item::after {content: \"\";width: 100%;border-bottom: 1px solid gray;flex-grow: 1;}div.sk-label:hover label.sk-toggleable__label {background-color: #d4ebff;}div.sk-serial::before {content: \"\";position: absolute;border-left: 1px solid gray;box-sizing: border-box;top: 2em;bottom: 0;left: 50%;}div.sk-serial {display: flex;flex-direction: column;align-items: center;background-color: white;}div.sk-item {z-index: 1;}div.sk-parallel {display: flex;align-items: stretch;justify-content: center;background-color: white;}div.sk-parallel-item {display: flex;flex-direction: column;position: relative;background-color: white;}div.sk-parallel-item:first-child::after {align-self: flex-end;width: 50%;}div.sk-parallel-item:last-child::after {align-self: flex-start;width: 50%;}div.sk-parallel-item:only-child::after {width: 0;}div.sk-dashed-wrapped {border: 1px dashed gray;margin: 0.2em;box-sizing: border-box;padding-bottom: 0.1em;background-color: white;position: relative;}div.sk-label label {font-family: monospace;font-weight: bold;background-color: white;display: inline-block;line-height: 1.2em;}div.sk-label-container {position: relative;z-index: 2;text-align: center;}div.sk-container {display: inline-block;position: relative;}</style><div class=\"sk-top-container\"><div class=\"sk-container\"><div class=\"sk-item sk-dashed-wrapped\"><div class=\"sk-label-container\"><div class=\"sk-label sk-toggleable\"><input class=\"sk-toggleable__control sk-hidden--visually\" id=\"80b6a271-c65c-41e5-930f-690f437880f8\" type=\"checkbox\" ><label class=\"sk-toggleable__label\" for=\"80b6a271-c65c-41e5-930f-690f437880f8\">Pipeline</label><div class=\"sk-toggleable__content\"><pre>Pipeline(steps=[('scaler', StandardScaler()),\n",
       "                ('classifier', LogisticRegression(random_state=42))],\n",
       "         verbose=True)</pre></div></div></div><div class=\"sk-serial\"><div class=\"sk-item\"><div class=\"sk-estimator sk-toggleable\"><input class=\"sk-toggleable__control sk-hidden--visually\" id=\"beba6d6a-d9da-4ef2-9691-aef4a551ec0b\" type=\"checkbox\" ><label class=\"sk-toggleable__label\" for=\"beba6d6a-d9da-4ef2-9691-aef4a551ec0b\">StandardScaler</label><div class=\"sk-toggleable__content\"><pre>StandardScaler()</pre></div></div></div><div class=\"sk-item\"><div class=\"sk-estimator sk-toggleable\"><input class=\"sk-toggleable__control sk-hidden--visually\" id=\"10a702df-3fff-48a4-a079-b2c9895a8a0f\" type=\"checkbox\" ><label class=\"sk-toggleable__label\" for=\"10a702df-3fff-48a4-a079-b2c9895a8a0f\">LogisticRegression</label><div class=\"sk-toggleable__content\"><pre>LogisticRegression(random_state=42)</pre></div></div></div></div></div></div></div>"
      ],
      "text/plain": [
       "Pipeline(steps=[('scaler', StandardScaler()),\n",
       "                ('classifier', LogisticRegression(random_state=42))],\n",
       "         verbose=True)"
      ]
     },
     "execution_count": 18,
     "metadata": {},
     "output_type": "execute_result"
    }
   ],
   "source": [
    "baseline_model = Pipeline(steps=[\n",
    "    ('scaler', StandardScaler()),\n",
    "    ('classifier', LogisticRegression(random_state=42))\n",
    "], verbose=True)\n",
    "baseline_model"
   ]
  },
  {
   "cell_type": "code",
   "execution_count": 19,
   "metadata": {},
   "outputs": [
    {
     "name": "stdout",
     "output_type": "stream",
     "text": [
      "[Pipeline] ............ (step 1 of 2) Processing scaler, total=   0.0s\n",
      "[Pipeline] ........ (step 2 of 2) Processing classifier, total=   0.4s\n"
     ]
    }
   ],
   "source": [
    "baseline_model.fit(X_train_trans, y_train)\n",
    "y_preds = baseline_model.predict(X_test_trans)"
   ]
  },
  {
   "cell_type": "code",
   "execution_count": 25,
   "metadata": {},
   "outputs": [
    {
     "name": "stdout",
     "output_type": "stream",
     "text": [
      "              precision    recall  f1-score   support\n",
      "\n",
      "       human       0.97      0.96      0.96      5021\n",
      "         oak       0.96      0.97      0.97      4979\n",
      "\n",
      "    accuracy                           0.96     10000\n",
      "   macro avg       0.97      0.97      0.96     10000\n",
      "weighted avg       0.97      0.96      0.96     10000\n",
      "\n"
     ]
    },
    {
     "data": {
      "image/png": "[encoded data removed]",
      "text/plain": [
       "<Figure size 432x288 with 2 Axes>"
      ]
     },
     "metadata": {
      "needs_background": "light"
     },
     "output_type": "display_data"
    }
   ],
   "source": [
    "print(classification_report(labeler.inverse_transform(y_test), labeler.inverse_transform(y_preds)))\n",
    "plot_confusion_matrix(baseline_model, X_test_trans, y_test)\n",
    "plt.show()"
   ]
  },
  {
   "cell_type": "code",
   "execution_count": 26,
   "metadata": {},
   "outputs": [
    {
     "data": {
      "text/plain": [
       "<sklearn.metrics._plot.roc_curve.RocCurveDisplay at 0x7f92ab9c8790>"
      ]
     },
     "execution_count": 26,
     "metadata": {},
     "output_type": "execute_result"
    },
    {
     "data": {
      "image/png": "[encoded data removed]",
      "text/plain": [
       "<Figure size 432x288 with 1 Axes>"
      ]
     },
     "metadata": {
      "needs_background": "light"
     },
     "output_type": "display_data"
    }
   ],
   "source": [
    "plot_roc_curve(baseline_model, X_test_trans, y_test)"
   ]
  },
  {
   "cell_type": "markdown",
   "metadata": {},
   "source": [
    "This baseline model is working"
   ]
  }
 ],
 "metadata": {
  "kernelspec": {
   "display_name": "Python (learn-env)",
   "language": "python",
   "name": "learn-env"
  },
  "language_info": {
   "codemirror_mode": {
    "name": "ipython",
    "version": 3
   },
   "file_extension": ".py",
   "mimetype": "text/x-python",
   "name": "python",
   "nbconvert_exporter": "python",
   "pygments_lexer": "ipython3",
   "version": "3.8.5"
  }
 },
 "nbformat": 4,
 "nbformat_minor": 4
}
