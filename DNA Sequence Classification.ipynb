{
 "cells": [
  {
   "cell_type": "markdown",
   "metadata": {},
   "source": [
    "# DNA Sequence Classification for Species Prediction"
   ]
  },
  {
   "cell_type": "markdown",
   "metadata": {},
   "source": [
    "![](img/DNA_intro_background.jpg)\n",
    "\n",
    "\n",
    "# Project Introduction\n",
    "\n",
    "For this project, my main focus is going to be on demonstrating classification models and methods. To pick an example, I decided to research DNA sequencing analysis, because I thought it would be interesting, and the data that is available publicly is astonishingly immense.\n",
    "\n",
    "DNA is found in the cells of every living thing on Earth. Scientists can study the DNA of organisms to understand more about the function of an organism or analyze the DNA to determine if they have found a new species.\n",
    "\n",
    "DNA classification has many uses - from species identification to differentiation, research can provide insights on how different one species is from another, or how one species evolved. Genetic sequence analysis can identify the differences in genes, insertions, and deletions within subsets of the DNA, or identify the change in phenotypes from species to species. Analysis of the differences in the sequences from different species can tell us a lot about the differences between species, but also how similar all organisms are.\n",
    "\n",
    "Through optimization of the modeling in DNA sequence analysis, genomic researchers can make more accurate and faster results for classifying and differentiating species from DNA samples.\n",
    "\n",
    "### Hypothesis:\n",
    "\n",
    "What if I could take DNA information from a certain genome and compare it to other genomes? Would there be a signal in the noise? Of course, there would be and there is, but I started with a null hypothesis in question: Could these genomes be unrelated or random sequences next when compared?\n",
    "\n",
    "Alternatively, I hope to find the pattern of similarity, and I hope that will be measured in the metrics of my model. I am no biologist, but as a data scientist, I will be viewing this problem as one of loss - observing the similarities between genomes and explaining the variance between them by predicting their respective class. From a technical point of view, this project will use machine learning methods to analyze and classify the DNA sequences from different species. The results of this model will be used to predict the species of a given set of classes based on the genetic sequence alone. This project will focus primarily on the mathematical differences between sequences in genetic code, rather than any special genetic analysis of genes and phenotypes between species. I am interested in the problem of how similar or different two species may be from one other, from a generalized and statistical point of view."
   ]
  },
  {
   "cell_type": "markdown",
   "metadata": {},
   "source": [
    "# What is DNA?\n",
    "\n",
    "DNA, or deoxyribonucleic acid, is a molecule that contains the inherited code used by cells in an organism to generate proteins. It is found in the nucleus of cells. DNA consists of four bases: adenine or A, cytosine or C, guanine or G, and thymine or T. Each strand of DNA is composed of two strands that are held together by a sugar-based structure in the shape of a double helix. Each base is connected to the opposite strand by its complementary base: A always connects to T, C always connects to G, G always connects to C, and T always connects to A. This means that each complementary strand of DNA is like a reflection of the other. When DNA is sequenced into a string composed of the four bases, only one string has been cataloged in the data I am reading, without its complement.\n",
    "\n",
    "![](img/DNA.jpeg)\n",
    "\n",
    "Through complicated biological and molecular processes, DNA replicates or creates copies of itself known as mRNA. mRNA strands are short segmented copies of the DNA that can recombine with other segments of mRNA and in turn create combinations that are code for creating proteins. Different combinations create different proteins and these proteins are then used throughout the cell and the organism. DNA acts like computer code for creating the proteins like a program and thus why it is referred to as genetic code or the building blocks of life. Subsets of DNA strands can be identified for creating specific proteins and these are known as genes.\n",
    "\n",
    "The DNA in every cell is coiled up tightly together, and although it takes up a microscopic amount of space, it is very long. If you carefully unraveled an entire strand of Human DNA it would be about 1.8 meters long and contains 3 billion base pairs i.e. combinations of A, C, G, and T.\n",
    "\n",
    "Advances in technology have allowed scientists to sequence microscopic data within a small margin of error. The total number of genes in one species is known as that species' genome. The Human Genome Project, ongoing from 1990 to completion in 2003, mapped the entire human genome across about 20,000 non-overlapping samples. Today, there are many different species genomes mapped and publicly available to download for research and analysis."
   ]
  },
  {
   "cell_type": "markdown",
   "metadata": {},
   "source": [
    "# Common DNA sequence feature engineering methods\n",
    "\n",
    "Genomics is a broad field of study that classifies, analyzes, and maps genomes of organisms. Within genomic data science, there are many ways that machine learning can be used to analyse sequence data.\n",
    "\n",
    "If taking a strand of DNA as input, a string may appear as a combination of A, C, G, and T character, such as:\n",
    "'ATGAAGAAGGTAACTGCAGAGGCTATTTCCTGGAAT...'\n",
    "\n",
    "This strand may identify a specific gene in the selected genome and/or may be a variable length. There are few common ways that genomic data scientists encode this sequence as features in a model.\n",
    "\n",
    "One way is to one-hot encode each character in the sequence. One-hot encoding creates 4 features for every character where A may equal [1,0,0,0] and C may equal [0,1,0,0] and so on. Those 4 features are created for every character in the sequence.\n",
    "\n",
    "Another common method to use, especially if the length of the sequence is variable, is called minhash. [Minhashing](https://en.wikipedia.org/wiki/MinHash) is a computer science method of comparing the similarity between two sets. In bioinformatics, minhashing can be used to transform a sequence into a frequency dictionary of k-length substrings called [k-mers](https://en.wikipedia.org/wiki/K-mer) of a given integer k. First, columns are created for all possible k-mers of genetic code and then populated on every index in the string. For example a string 'gtatca' could be converted in k-mer of k=2 by extracting all substrings of length 2 along the string: from 'gtatca' would populate 'gt', 'ta', 'at', 'tc', and 'ca' columns.\n",
    "\n",
    "Below is an animation that illustrates this method for k=3.\n",
    "\n",
    "![](img/kmer_animation.gif)\n",
    "\n",
    "In this project, I will only use the minhashing method to create all of our features used in the model.\n"
   ]
  },
  {
   "cell_type": "markdown",
   "metadata": {},
   "source": [
    "# Import libraries"
   ]
  },
  {
   "cell_type": "code",
   "execution_count": 1,
   "metadata": {},
   "outputs": [],
   "source": [
    "def warn(*args, **kwargs):\n",
    "    pass\n",
    "import warnings\n",
    "warnings.warn = warn"
   ]
  },
  {
   "cell_type": "code",
   "execution_count": 2,
   "metadata": {},
   "outputs": [],
   "source": [
    "import pandas as pd\n",
    "import numpy as np\n",
    "import matplotlib.pyplot as plt\n",
    "import seaborn as sns\n",
    "import plotly.express as px\n",
    "import re\n",
    "from tqdm import tqdm\n",
    "from joblib import parallel_backend\n",
    "from Bio import SeqIO\n",
    "from sklearn.base import BaseEstimator, TransformerMixin\n",
    "from itertools import permutations\n",
    "import plotly.graph_objs as go\n",
    "from plotly.subplots import make_subplots\n",
    "from sklearn.model_selection import train_test_split\n",
    "from sklearn.preprocessing import LabelEncoder\n",
    "from sklearn.linear_model import LogisticRegression\n",
    "from sklearn.preprocessing import StandardScaler\n",
    "from sklearn.pipeline import Pipeline\n",
    "from sklearn import set_config\n",
    "set_config(display= 'diagram')\n",
    "from sklearn.metrics import classification_report, plot_roc_curve, plot_confusion_matrix\n",
    "from sklearn.model_selection import GridSearchCV\n",
    "from xgboost import XGBClassifier\n",
    "from sklearn.neighbors import KNeighborsClassifier\n",
    "from sklearn.naive_bayes import GaussianNB\n",
    "from sklearn.ensemble import RandomForestClassifier, ExtraTreesClassifier, GradientBoostingClassifier\n",
    "from sklearn.pipeline import FeatureUnion\n",
    "from sklearn.svm import SVC\n",
    "from src.KMerTransformers import *"
   ]
  },
  {
   "cell_type": "markdown",
   "metadata": {},
   "source": [
    "# Import DNA sequences\n",
    "\n",
    "I will be using the BioPython library to parse through fasta files found on the [RefSeq database](https://www.ncbi.nlm.nih.gov/refseq/). \n",
    "\n",
    "Each file contains sequences from the genome of a species. They are each tens of thousands of rows long, but I will limit each dataframe to 20000 rows per species.\n",
    "\n",
    "Let's look at one record as an example of the data that is being parsed in."
   ]
  },
  {
   "cell_type": "code",
   "execution_count": 3,
   "metadata": {},
   "outputs": [
    {
     "name": "stdout",
     "output_type": "stream",
     "text": [
      "ID: lcl|NC_000001.11_cds_NP_001005484.2_1\n",
      "Name: lcl|NC_000001.11_cds_NP_001005484.2_1\n",
      "Description: lcl|NC_000001.11_cds_NP_001005484.2_1 [gene=OR4F5] [db_xref=CCDS:CCDS30547.1,Ensembl:ENSP00000493376.2,GeneID:79501] [protein=olfactory receptor 4F5] [protein_id=NP_001005484.2] [location=join(65565..65573,69037..70008)] [gbkey=CDS]\n",
      "Number of features: 0\n",
      "Seq('ATGAAGAAGGTAACTGCAGAGGCTATTTCCTGGAATGAATCAACGAGTGAAACG...TAG')\n"
     ]
    }
   ],
   "source": [
    "for seq_record in SeqIO.parse(\"data/GCF_000001405.40_GRCh38.p14_cds_from_genomic.fna\", \"fasta\"): #human fasta file\n",
    "    print(seq_record)\n",
    "    break #break after printing one record"
   ]
  },
  {
   "cell_type": "markdown",
   "metadata": {},
   "source": [
    "This project will be using using the sequence (Seq) as data in the model, but let's define a helper function that will collect a few more columns of data, just in case I want to reference them later."
   ]
  },
  {
   "cell_type": "code",
   "execution_count": 4,
   "metadata": {},
   "outputs": [],
   "source": [
    "def parse_from_genome_file(filename, target_name, n=None):\n",
    "    \n",
    "    i=0\n",
    "    seqs = []\n",
    "    genes = []\n",
    "    proteins = []\n",
    "    target = []\n",
    "    \n",
    "    for seq_record in SeqIO.parse(filename, \"fasta\"):\n",
    "        \n",
    "        seqs.append(''.join(seq_record.seq)) #append the sequence data\n",
    "        genes.append(seq_record.description.split('[')[1][5:-2]) #append gene name\n",
    "        proteins.append(seq_record.description.split('[')[3][8:-2]) #append protein description\n",
    "        target.append(target_name) #append the class name ('human' or otherwise)\n",
    "        \n",
    "        if n != None:\n",
    "            if i < n:\n",
    "                i+=1\n",
    "            if i >= n:\n",
    "                break\n",
    "            \n",
    "    df = pd.concat([pd.DataFrame(seqs),pd.DataFrame(genes), pd.DataFrame(proteins), pd.DataFrame(target)], axis=1)\n",
    "    df.columns = ['seq','gene','protein', 'target']\n",
    "    \n",
    "    return df"
   ]
  },
  {
   "cell_type": "code",
   "execution_count": 5,
   "metadata": {},
   "outputs": [],
   "source": [
    "#create dataframes for each genome file\n",
    "human_df = parse_from_genome_file(\"data/GCF_000001405.40_GRCh38.p14_cds_from_genomic.fna\", 'human', n=20000)\n",
    "chimp_df = parse_from_genome_file('data/GCF_002880755.1_Clint_PTRv2_cds_from_genomic.fna', 'chimp', n=20000)\n",
    "dolphin_df = parse_from_genome_file('data/GCF_011762595.1_mTurTru1.mat.Y_cds_from_genomic.fna', 'dolphin', n=20000)\n",
    "oak_df = parse_from_genome_file('data/GCF_001633185.2_ValleyOak3.2_cds_from_genomic.fna', 'oak', n=20000)\n",
    "mushroom_df = parse_from_genome_file('data/GCF_017499595.1_MGC_Penvy_1_cds_from_genomic.fna', 'mushroom', n=20000)"
   ]
  },
  {
   "cell_type": "code",
   "execution_count": 6,
   "metadata": {},
   "outputs": [
    {
     "data": {
      "text/html": [
       "<div>\n",
       "<style scoped>\n",
       "    .dataframe tbody tr th:only-of-type {\n",
       "        vertical-align: middle;\n",
       "    }\n",
       "\n",
       "    .dataframe tbody tr th {\n",
       "        vertical-align: top;\n",
       "    }\n",
       "\n",
       "    .dataframe thead th {\n",
       "        text-align: right;\n",
       "    }\n",
       "</style>\n",
       "<table border=\"1\" class=\"dataframe\">\n",
       "  <thead>\n",
       "    <tr style=\"text-align: right;\">\n",
       "      <th></th>\n",
       "      <th>seq</th>\n",
       "      <th>gene</th>\n",
       "      <th>protein</th>\n",
       "      <th>target</th>\n",
       "    </tr>\n",
       "  </thead>\n",
       "  <tbody>\n",
       "    <tr>\n",
       "      <th>0</th>\n",
       "      <td>ATGAAGAAGGTAACTGCAGAGGCTATTTCCTGGAATGAATCAACGA...</td>\n",
       "      <td>OR4F5</td>\n",
       "      <td>olfactory receptor 4F5</td>\n",
       "      <td>human</td>\n",
       "    </tr>\n",
       "    <tr>\n",
       "      <th>1</th>\n",
       "      <td>ATGCCTAGACACACACATCCTTACTCTGCGTGCATCCCTGGCCTGG...</td>\n",
       "      <td>LOC112268260</td>\n",
       "      <td>uncharacterized protein LOC112268260</td>\n",
       "      <td>human</td>\n",
       "    </tr>\n",
       "    <tr>\n",
       "      <th>2</th>\n",
       "      <td>ATGGATGGAGAGAATCACTCAGTGGTATCTGAGTTTTTGTTTCTGG...</td>\n",
       "      <td>OR4F29</td>\n",
       "      <td>olfactory receptor 4F3/4F16/4F29</td>\n",
       "      <td>human</td>\n",
       "    </tr>\n",
       "    <tr>\n",
       "      <th>3</th>\n",
       "      <td>ATGCGTAGACACACACATCCTTACTCTGCGCGCATCCCTGGCCTGG...</td>\n",
       "      <td>LOC105378947</td>\n",
       "      <td>proline-rich extensin-like protein EPR1 isofor...</td>\n",
       "      <td>human</td>\n",
       "    </tr>\n",
       "    <tr>\n",
       "      <th>4</th>\n",
       "      <td>ATGGATGGAGAGAATCACTCAGTGGTATCTGAGTTTTTGTTTCTGG...</td>\n",
       "      <td>OR4F16</td>\n",
       "      <td>olfactory receptor 4F3/4F16/4F29 isoform X1</td>\n",
       "      <td>human</td>\n",
       "    </tr>\n",
       "  </tbody>\n",
       "</table>\n",
       "</div>"
      ],
      "text/plain": [
       "                                                 seq          gene  \\\n",
       "0  ATGAAGAAGGTAACTGCAGAGGCTATTTCCTGGAATGAATCAACGA...         OR4F5   \n",
       "1  ATGCCTAGACACACACATCCTTACTCTGCGTGCATCCCTGGCCTGG...  LOC112268260   \n",
       "2  ATGGATGGAGAGAATCACTCAGTGGTATCTGAGTTTTTGTTTCTGG...        OR4F29   \n",
       "3  ATGCGTAGACACACACATCCTTACTCTGCGCGCATCCCTGGCCTGG...  LOC105378947   \n",
       "4  ATGGATGGAGAGAATCACTCAGTGGTATCTGAGTTTTTGTTTCTGG...        OR4F16   \n",
       "\n",
       "                                             protein target  \n",
       "0                             olfactory receptor 4F5  human  \n",
       "1               uncharacterized protein LOC112268260  human  \n",
       "2                   olfactory receptor 4F3/4F16/4F29  human  \n",
       "3  proline-rich extensin-like protein EPR1 isofor...  human  \n",
       "4        olfactory receptor 4F3/4F16/4F29 isoform X1  human  "
      ]
     },
     "execution_count": 6,
     "metadata": {},
     "output_type": "execute_result"
    }
   ],
   "source": [
    "human_df.head()"
   ]
  },
  {
   "cell_type": "markdown",
   "metadata": {},
   "source": [
    "Let's look a the first DNA sequence in its total length."
   ]
  },
  {
   "cell_type": "code",
   "execution_count": 7,
   "metadata": {},
   "outputs": [
    {
     "data": {
      "text/plain": [
       "'ATGAAGAAGGTAACTGCAGAGGCTATTTCCTGGAATGAATCAACGAGTGAAACGAATAACTCTATGGTGACTGAATTCATTTTTCTGGGTCTCTCTGATTCTCAGGAACTCCAGACCTTCCTATTTATGTTGTTTTTTGTATTCTATGGAGGAATCGTGTTTGGAAACCTTCTTATTGTCATAACAGTGGTATCTGACTCCCACCTTCACTCTCCCATGTACTTCCTGCTAGCCAACCTCTCACTCATTGATCTGTCTCTGTCTTCAGTCACAGCCCCCAAGATGATTACTGACTTTTTCAGCCAGCGCAAAGTCATCTCTTTCAAGGGCTGCCTTGTTCAGATATTTCTCCTTCACTTCTTTGGTGGGAGTGAGATGGTGATCCTCATAGCCATGGGCTTTGACAGATATATAGCAATATGCAAGCCCCTACACTACACTACAATTATGTGTGGCAACGCATGTGTCGGCATTATGGCTGTCACATGGGGAATTGGCTTTCTCCATTCGGTGAGCCAGTTGGCGTTTGCCGTGCACTTACTCTTCTGTGGTCCCAATGAGGTCGATAGTTTTTATTGTGACCTTCCTAGGGTAATCAAACTTGCCTGTACAGATACCTACAGGCTAGATATTATGGTCATTGCTAACAGTGGTGTGCTCACTGTGTGTTCTTTTGTTCTTCTAATCATCTCATACACTATCATCCTAATGACCATCCAGCATCGCCCTTTAGATAAGTCGTCCAAAGCTCTGTCCACTTTGACTGCTCACATTACAGTAGTTCTTTTGTTCTTTGGACCATGTGTCTTTATTTATGCCTGGCCATTCCCCATCAAGTCATTAGATAAATTCCTTGCTGTATTTTATTCTGTGATCACCCCTCTCTTGAACCCAATTATATACACACTGAGGAACAAAGACATGAAGACGGCAATAAGACAGCTGAGAAAATGGGATGCACATTCTAGTGTAAAGTTTTAG'"
      ]
     },
     "execution_count": 7,
     "metadata": {},
     "output_type": "execute_result"
    }
   ],
   "source": [
    "human_df.loc[0,'seq']"
   ]
  },
  {
   "cell_type": "markdown",
   "metadata": {},
   "source": [
    "I want to create all the features in my model from all the sequences like this. I have written a custom TransformerMixin class here to transform the 'seq' column to the k-mer frequency dictionaries and then convert this to a pandas dataframe. This function is called KMerTransformer and is imported at the beginning of the notebook."
   ]
  },
  {
   "cell_type": "markdown",
   "metadata": {},
   "source": [
    "# EDA"
   ]
  },
  {
   "cell_type": "markdown",
   "metadata": {},
   "source": [
    "Before I do any analysis, I will add all of the species from the DNA sequence data I collected into one dataframe."
   ]
  },
  {
   "cell_type": "code",
   "execution_count": 8,
   "metadata": {},
   "outputs": [],
   "source": [
    "species_compare_df = pd.concat([human_df, chimp_df, dolphin_df, oak_df, mushroom_df], axis=0)"
   ]
  },
  {
   "cell_type": "code",
   "execution_count": 9,
   "metadata": {},
   "outputs": [
    {
     "data": {
      "text/html": [
       "<div>\n",
       "<style scoped>\n",
       "    .dataframe tbody tr th:only-of-type {\n",
       "        vertical-align: middle;\n",
       "    }\n",
       "\n",
       "    .dataframe tbody tr th {\n",
       "        vertical-align: top;\n",
       "    }\n",
       "\n",
       "    .dataframe thead th {\n",
       "        text-align: right;\n",
       "    }\n",
       "</style>\n",
       "<table border=\"1\" class=\"dataframe\">\n",
       "  <thead>\n",
       "    <tr style=\"text-align: right;\">\n",
       "      <th></th>\n",
       "      <th>seq</th>\n",
       "      <th>gene</th>\n",
       "      <th>protein</th>\n",
       "      <th>target</th>\n",
       "    </tr>\n",
       "  </thead>\n",
       "  <tbody>\n",
       "    <tr>\n",
       "      <th>0</th>\n",
       "      <td>ATGAAGAAGGTAACTGCAGAGGCTATTTCCTGGAATGAATCAACGA...</td>\n",
       "      <td>OR4F5</td>\n",
       "      <td>olfactory receptor 4F5</td>\n",
       "      <td>human</td>\n",
       "    </tr>\n",
       "    <tr>\n",
       "      <th>1</th>\n",
       "      <td>ATGCCTAGACACACACATCCTTACTCTGCGTGCATCCCTGGCCTGG...</td>\n",
       "      <td>LOC112268260</td>\n",
       "      <td>uncharacterized protein LOC112268260</td>\n",
       "      <td>human</td>\n",
       "    </tr>\n",
       "    <tr>\n",
       "      <th>2</th>\n",
       "      <td>ATGGATGGAGAGAATCACTCAGTGGTATCTGAGTTTTTGTTTCTGG...</td>\n",
       "      <td>OR4F29</td>\n",
       "      <td>olfactory receptor 4F3/4F16/4F29</td>\n",
       "      <td>human</td>\n",
       "    </tr>\n",
       "    <tr>\n",
       "      <th>3</th>\n",
       "      <td>ATGCGTAGACACACACATCCTTACTCTGCGCGCATCCCTGGCCTGG...</td>\n",
       "      <td>LOC105378947</td>\n",
       "      <td>proline-rich extensin-like protein EPR1 isofor...</td>\n",
       "      <td>human</td>\n",
       "    </tr>\n",
       "    <tr>\n",
       "      <th>4</th>\n",
       "      <td>ATGGATGGAGAGAATCACTCAGTGGTATCTGAGTTTTTGTTTCTGG...</td>\n",
       "      <td>OR4F16</td>\n",
       "      <td>olfactory receptor 4F3/4F16/4F29 isoform X1</td>\n",
       "      <td>human</td>\n",
       "    </tr>\n",
       "  </tbody>\n",
       "</table>\n",
       "</div>"
      ],
      "text/plain": [
       "                                                 seq          gene  \\\n",
       "0  ATGAAGAAGGTAACTGCAGAGGCTATTTCCTGGAATGAATCAACGA...         OR4F5   \n",
       "1  ATGCCTAGACACACACATCCTTACTCTGCGTGCATCCCTGGCCTGG...  LOC112268260   \n",
       "2  ATGGATGGAGAGAATCACTCAGTGGTATCTGAGTTTTTGTTTCTGG...        OR4F29   \n",
       "3  ATGCGTAGACACACACATCCTTACTCTGCGCGCATCCCTGGCCTGG...  LOC105378947   \n",
       "4  ATGGATGGAGAGAATCACTCAGTGGTATCTGAGTTTTTGTTTCTGG...        OR4F16   \n",
       "\n",
       "                                             protein target  \n",
       "0                             olfactory receptor 4F5  human  \n",
       "1               uncharacterized protein LOC112268260  human  \n",
       "2                   olfactory receptor 4F3/4F16/4F29  human  \n",
       "3  proline-rich extensin-like protein EPR1 isofor...  human  \n",
       "4        olfactory receptor 4F3/4F16/4F29 isoform X1  human  "
      ]
     },
     "execution_count": 9,
     "metadata": {},
     "output_type": "execute_result"
    }
   ],
   "source": [
    "species_compare_df.head()"
   ]
  },
  {
   "cell_type": "code",
   "execution_count": 10,
   "metadata": {},
   "outputs": [
    {
     "name": "stdout",
     "output_type": "stream",
     "text": [
      "<class 'pandas.core.frame.DataFrame'>\n",
      "Int64Index: 93330 entries, 0 to 13329\n",
      "Data columns (total 4 columns):\n",
      " #   Column   Non-Null Count  Dtype \n",
      "---  ------   --------------  ----- \n",
      " 0   seq      93330 non-null  object\n",
      " 1   gene     93330 non-null  object\n",
      " 2   protein  93330 non-null  object\n",
      " 3   target   93330 non-null  object\n",
      "dtypes: object(4)\n",
      "memory usage: 3.6+ MB\n"
     ]
    }
   ],
   "source": [
    "species_compare_df.info()"
   ]
  },
  {
   "cell_type": "markdown",
   "metadata": {},
   "source": [
    "The first thing we will want to see are the metrics of the DNA sequence itself. Let's look at the length of the sequence, grouped by species."
   ]
  },
  {
   "cell_type": "code",
   "execution_count": 11,
   "metadata": {},
   "outputs": [
    {
     "name": "stdout",
     "output_type": "stream",
     "text": [
      "DNA Sequence Length Info by Species\n"
     ]
    },
    {
     "data": {
      "text/html": [
       "<div>\n",
       "<style scoped>\n",
       "    .dataframe tbody tr th:only-of-type {\n",
       "        vertical-align: middle;\n",
       "    }\n",
       "\n",
       "    .dataframe tbody tr th {\n",
       "        vertical-align: top;\n",
       "    }\n",
       "\n",
       "    .dataframe thead th {\n",
       "        text-align: right;\n",
       "    }\n",
       "</style>\n",
       "<table border=\"1\" class=\"dataframe\">\n",
       "  <thead>\n",
       "    <tr style=\"text-align: right;\">\n",
       "      <th>target</th>\n",
       "      <th>chimp</th>\n",
       "      <th>dolphin</th>\n",
       "      <th>human</th>\n",
       "      <th>mushroom</th>\n",
       "      <th>oak</th>\n",
       "    </tr>\n",
       "  </thead>\n",
       "  <tbody>\n",
       "    <tr>\n",
       "      <th>count</th>\n",
       "      <td>20000.000000</td>\n",
       "      <td>20000.000000</td>\n",
       "      <td>20000.000000</td>\n",
       "      <td>13330.000000</td>\n",
       "      <td>20000.000000</td>\n",
       "    </tr>\n",
       "    <tr>\n",
       "      <th>mean</th>\n",
       "      <td>2517.103150</td>\n",
       "      <td>2053.371500</td>\n",
       "      <td>2223.870600</td>\n",
       "      <td>1459.588297</td>\n",
       "      <td>1516.557900</td>\n",
       "    </tr>\n",
       "    <tr>\n",
       "      <th>std</th>\n",
       "      <td>5673.450049</td>\n",
       "      <td>1784.546128</td>\n",
       "      <td>3788.036344</td>\n",
       "      <td>1114.727843</td>\n",
       "      <td>1368.491338</td>\n",
       "    </tr>\n",
       "    <tr>\n",
       "      <th>min</th>\n",
       "      <td>108.000000</td>\n",
       "      <td>108.000000</td>\n",
       "      <td>37.000000</td>\n",
       "      <td>153.000000</td>\n",
       "      <td>93.000000</td>\n",
       "    </tr>\n",
       "    <tr>\n",
       "      <th>25%</th>\n",
       "      <td>996.000000</td>\n",
       "      <td>969.000000</td>\n",
       "      <td>939.000000</td>\n",
       "      <td>729.000000</td>\n",
       "      <td>753.000000</td>\n",
       "    </tr>\n",
       "    <tr>\n",
       "      <th>50%</th>\n",
       "      <td>1612.500000</td>\n",
       "      <td>1554.000000</td>\n",
       "      <td>1515.000000</td>\n",
       "      <td>1167.000000</td>\n",
       "      <td>1209.000000</td>\n",
       "    </tr>\n",
       "    <tr>\n",
       "      <th>75%</th>\n",
       "      <td>2763.000000</td>\n",
       "      <td>2568.000000</td>\n",
       "      <td>2592.000000</td>\n",
       "      <td>1806.000000</td>\n",
       "      <td>1875.000000</td>\n",
       "    </tr>\n",
       "    <tr>\n",
       "      <th>max</th>\n",
       "      <td>106962.000000</td>\n",
       "      <td>28215.000000</td>\n",
       "      <td>107976.000000</td>\n",
       "      <td>13854.000000</td>\n",
       "      <td>23319.000000</td>\n",
       "    </tr>\n",
       "  </tbody>\n",
       "</table>\n",
       "</div>"
      ],
      "text/plain": [
       "target          chimp       dolphin          human      mushroom           oak\n",
       "count    20000.000000  20000.000000   20000.000000  13330.000000  20000.000000\n",
       "mean      2517.103150   2053.371500    2223.870600   1459.588297   1516.557900\n",
       "std       5673.450049   1784.546128    3788.036344   1114.727843   1368.491338\n",
       "min        108.000000    108.000000      37.000000    153.000000     93.000000\n",
       "25%        996.000000    969.000000     939.000000    729.000000    753.000000\n",
       "50%       1612.500000   1554.000000    1515.000000   1167.000000   1209.000000\n",
       "75%       2763.000000   2568.000000    2592.000000   1806.000000   1875.000000\n",
       "max     106962.000000  28215.000000  107976.000000  13854.000000  23319.000000"
      ]
     },
     "execution_count": 11,
     "metadata": {},
     "output_type": "execute_result"
    }
   ],
   "source": [
    "species_compare_df['seq_length'] = species_compare_df.seq.apply(lambda x: len(x))\n",
    "print('DNA Sequence Length Info by Species')\n",
    "species_compare_df.groupby('target').seq_length.describe().T"
   ]
  },
  {
   "cell_type": "markdown",
   "metadata": {},
   "source": [
    "We can now determine that the mean length of each sequence between targets is relatively the same, apart from the Oak Tree  and Mushroom genomic data."
   ]
  },
  {
   "cell_type": "markdown",
   "metadata": {},
   "source": [
    "Using the custom KMerTransformer function that I imported, I can transform the data and do some basic visual analysis. I will start with k=3 so I don't have too many columns and I can see the data together easily."
   ]
  },
  {
   "cell_type": "code",
   "execution_count": 12,
   "metadata": {},
   "outputs": [
    {
     "name": "stdout",
     "output_type": "stream",
     "text": [
      "Finding all kmer permutations for k=3\n"
     ]
    },
    {
     "data": {
      "application/vnd.jupyter.widget-view+json": {
       "model_id": "ea487a58b5274b1492baf59d928daf51",
       "version_major": 2,
       "version_minor": 0
      },
      "text/plain": [
       "  0%|          | 0/93330 [00:00<?, ?it/s]"
      ]
     },
     "metadata": {},
     "output_type": "display_data"
    }
   ],
   "source": [
    "kmer_transformer = KMerTransformer(k=3)\n",
    "kmer_matrix = kmer_transformer.fit_transform(species_compare_df)\n",
    "kmer_matrix = pd.concat([kmer_matrix, species_compare_df.target], axis=1)"
   ]
  },
  {
   "cell_type": "markdown",
   "metadata": {},
   "source": [
    "Let's quickly inspect that the data is populating in the columns correctly."
   ]
  },
  {
   "cell_type": "code",
   "execution_count": 13,
   "metadata": {},
   "outputs": [
    {
     "data": {
      "text/html": [
       "<div>\n",
       "<style scoped>\n",
       "    .dataframe tbody tr th:only-of-type {\n",
       "        vertical-align: middle;\n",
       "    }\n",
       "\n",
       "    .dataframe tbody tr th {\n",
       "        vertical-align: top;\n",
       "    }\n",
       "\n",
       "    .dataframe thead th {\n",
       "        text-align: right;\n",
       "    }\n",
       "</style>\n",
       "<table border=\"1\" class=\"dataframe\">\n",
       "  <thead>\n",
       "    <tr style=\"text-align: right;\">\n",
       "      <th></th>\n",
       "      <th>AAA</th>\n",
       "      <th>AAC</th>\n",
       "      <th>AAG</th>\n",
       "      <th>AAT</th>\n",
       "      <th>ACA</th>\n",
       "      <th>ACC</th>\n",
       "      <th>ACG</th>\n",
       "      <th>ACT</th>\n",
       "      <th>AGA</th>\n",
       "      <th>AGC</th>\n",
       "      <th>...</th>\n",
       "      <th>TCT</th>\n",
       "      <th>TGA</th>\n",
       "      <th>TGC</th>\n",
       "      <th>TGG</th>\n",
       "      <th>TGT</th>\n",
       "      <th>TTA</th>\n",
       "      <th>TTC</th>\n",
       "      <th>TTG</th>\n",
       "      <th>TTT</th>\n",
       "      <th>target</th>\n",
       "    </tr>\n",
       "  </thead>\n",
       "  <tbody>\n",
       "    <tr>\n",
       "      <th>0</th>\n",
       "      <td>10</td>\n",
       "      <td>13</td>\n",
       "      <td>13</td>\n",
       "      <td>16</td>\n",
       "      <td>19</td>\n",
       "      <td>10</td>\n",
       "      <td>4</td>\n",
       "      <td>21</td>\n",
       "      <td>15</td>\n",
       "      <td>11</td>\n",
       "      <td>...</td>\n",
       "      <td>34</td>\n",
       "      <td>23</td>\n",
       "      <td>13</td>\n",
       "      <td>21</td>\n",
       "      <td>29</td>\n",
       "      <td>16</td>\n",
       "      <td>29</td>\n",
       "      <td>20</td>\n",
       "      <td>35</td>\n",
       "      <td>human</td>\n",
       "    </tr>\n",
       "    <tr>\n",
       "      <th>1</th>\n",
       "      <td>9</td>\n",
       "      <td>20</td>\n",
       "      <td>14</td>\n",
       "      <td>4</td>\n",
       "      <td>30</td>\n",
       "      <td>18</td>\n",
       "      <td>14</td>\n",
       "      <td>13</td>\n",
       "      <td>41</td>\n",
       "      <td>19</td>\n",
       "      <td>...</td>\n",
       "      <td>25</td>\n",
       "      <td>10</td>\n",
       "      <td>45</td>\n",
       "      <td>44</td>\n",
       "      <td>12</td>\n",
       "      <td>5</td>\n",
       "      <td>7</td>\n",
       "      <td>9</td>\n",
       "      <td>9</td>\n",
       "      <td>human</td>\n",
       "    </tr>\n",
       "    <tr>\n",
       "      <th>2</th>\n",
       "      <td>7</td>\n",
       "      <td>5</td>\n",
       "      <td>12</td>\n",
       "      <td>10</td>\n",
       "      <td>17</td>\n",
       "      <td>10</td>\n",
       "      <td>3</td>\n",
       "      <td>22</td>\n",
       "      <td>15</td>\n",
       "      <td>14</td>\n",
       "      <td>...</td>\n",
       "      <td>31</td>\n",
       "      <td>14</td>\n",
       "      <td>10</td>\n",
       "      <td>30</td>\n",
       "      <td>33</td>\n",
       "      <td>11</td>\n",
       "      <td>33</td>\n",
       "      <td>17</td>\n",
       "      <td>33</td>\n",
       "      <td>human</td>\n",
       "    </tr>\n",
       "    <tr>\n",
       "      <th>3</th>\n",
       "      <td>8</td>\n",
       "      <td>30</td>\n",
       "      <td>15</td>\n",
       "      <td>4</td>\n",
       "      <td>44</td>\n",
       "      <td>34</td>\n",
       "      <td>13</td>\n",
       "      <td>15</td>\n",
       "      <td>64</td>\n",
       "      <td>30</td>\n",
       "      <td>...</td>\n",
       "      <td>52</td>\n",
       "      <td>9</td>\n",
       "      <td>84</td>\n",
       "      <td>70</td>\n",
       "      <td>14</td>\n",
       "      <td>4</td>\n",
       "      <td>10</td>\n",
       "      <td>6</td>\n",
       "      <td>7</td>\n",
       "      <td>human</td>\n",
       "    </tr>\n",
       "    <tr>\n",
       "      <th>4</th>\n",
       "      <td>7</td>\n",
       "      <td>5</td>\n",
       "      <td>12</td>\n",
       "      <td>10</td>\n",
       "      <td>17</td>\n",
       "      <td>10</td>\n",
       "      <td>3</td>\n",
       "      <td>22</td>\n",
       "      <td>15</td>\n",
       "      <td>14</td>\n",
       "      <td>...</td>\n",
       "      <td>31</td>\n",
       "      <td>14</td>\n",
       "      <td>10</td>\n",
       "      <td>30</td>\n",
       "      <td>33</td>\n",
       "      <td>11</td>\n",
       "      <td>33</td>\n",
       "      <td>17</td>\n",
       "      <td>33</td>\n",
       "      <td>human</td>\n",
       "    </tr>\n",
       "  </tbody>\n",
       "</table>\n",
       "<p>5 rows × 65 columns</p>\n",
       "</div>"
      ],
      "text/plain": [
       "   AAA  AAC  AAG  AAT  ACA  ACC  ACG  ACT  AGA  AGC  ...  TCT  TGA  TGC  TGG  \\\n",
       "0   10   13   13   16   19   10    4   21   15   11  ...   34   23   13   21   \n",
       "1    9   20   14    4   30   18   14   13   41   19  ...   25   10   45   44   \n",
       "2    7    5   12   10   17   10    3   22   15   14  ...   31   14   10   30   \n",
       "3    8   30   15    4   44   34   13   15   64   30  ...   52    9   84   70   \n",
       "4    7    5   12   10   17   10    3   22   15   14  ...   31   14   10   30   \n",
       "\n",
       "   TGT  TTA  TTC  TTG  TTT  target  \n",
       "0   29   16   29   20   35   human  \n",
       "1   12    5    7    9    9   human  \n",
       "2   33   11   33   17   33   human  \n",
       "3   14    4   10    6    7   human  \n",
       "4   33   11   33   17   33   human  \n",
       "\n",
       "[5 rows x 65 columns]"
      ]
     },
     "execution_count": 13,
     "metadata": {},
     "output_type": "execute_result"
    }
   ],
   "source": [
    "kmer_matrix.head()"
   ]
  },
  {
   "cell_type": "code",
   "execution_count": 14,
   "metadata": {},
   "outputs": [
    {
     "data": {
      "image/png": "[encoded data removed]",
      "text/plain": [
       "<Figure size 720x576 with 2 Axes>"
      ]
     },
     "metadata": {
      "needs_background": "light"
     },
     "output_type": "display_data"
    }
   ],
   "source": [
    "#plot a heatmap of correlation between features\n",
    "kmer_corr = kmer_matrix.corr()\n",
    "fig = plt.figure(figsize=(10,8))\n",
    "plt.title('Correlation between trimers', fontdict={'fontsize': 20})\n",
    "sns.set(font_scale=.6)\n",
    "sns.heatmap(kmer_corr, cmap=\"vlag\")\n",
    "plt.tight_layout()\n",
    "plt.show()"
   ]
  },
  {
   "cell_type": "markdown",
   "metadata": {},
   "source": [
    "This heatmap shows that there is high correlation between most of our features. This will affect our model, and I may be able to find a way to extract features that have no correlation in common, or classifiers that can deal with a high levele of colinearity."
   ]
  },
  {
   "cell_type": "markdown",
   "metadata": {},
   "source": [
    "### Mean Values for each trimer grouped by species\n",
    "\n",
    "Now, let's take a look at the mean values for every column group by the 4 species' DNA I added to this dataframe as an example."
   ]
  },
  {
   "cell_type": "code",
   "execution_count": 15,
   "metadata": {},
   "outputs": [
    {
     "data": {
      "text/html": [
       "<div>\n",
       "<style scoped>\n",
       "    .dataframe tbody tr th:only-of-type {\n",
       "        vertical-align: middle;\n",
       "    }\n",
       "\n",
       "    .dataframe tbody tr th {\n",
       "        vertical-align: top;\n",
       "    }\n",
       "\n",
       "    .dataframe thead tr th {\n",
       "        text-align: left;\n",
       "    }\n",
       "\n",
       "    .dataframe thead tr:last-of-type th {\n",
       "        text-align: right;\n",
       "    }\n",
       "</style>\n",
       "<table border=\"1\" class=\"dataframe\">\n",
       "  <thead>\n",
       "    <tr>\n",
       "      <th></th>\n",
       "      <th>AAA</th>\n",
       "      <th>AAC</th>\n",
       "      <th>AAG</th>\n",
       "      <th>AAT</th>\n",
       "      <th>ACA</th>\n",
       "      <th>ACC</th>\n",
       "      <th>ACG</th>\n",
       "      <th>ACT</th>\n",
       "      <th>AGA</th>\n",
       "      <th>AGC</th>\n",
       "      <th>...</th>\n",
       "      <th>TCG</th>\n",
       "      <th>TCT</th>\n",
       "      <th>TGA</th>\n",
       "      <th>TGC</th>\n",
       "      <th>TGG</th>\n",
       "      <th>TGT</th>\n",
       "      <th>TTA</th>\n",
       "      <th>TTC</th>\n",
       "      <th>TTG</th>\n",
       "      <th>TTT</th>\n",
       "    </tr>\n",
       "    <tr>\n",
       "      <th></th>\n",
       "      <th>mean</th>\n",
       "      <th>mean</th>\n",
       "      <th>mean</th>\n",
       "      <th>mean</th>\n",
       "      <th>mean</th>\n",
       "      <th>mean</th>\n",
       "      <th>mean</th>\n",
       "      <th>mean</th>\n",
       "      <th>mean</th>\n",
       "      <th>mean</th>\n",
       "      <th>...</th>\n",
       "      <th>mean</th>\n",
       "      <th>mean</th>\n",
       "      <th>mean</th>\n",
       "      <th>mean</th>\n",
       "      <th>mean</th>\n",
       "      <th>mean</th>\n",
       "      <th>mean</th>\n",
       "      <th>mean</th>\n",
       "      <th>mean</th>\n",
       "      <th>mean</th>\n",
       "    </tr>\n",
       "    <tr>\n",
       "      <th>target</th>\n",
       "      <th></th>\n",
       "      <th></th>\n",
       "      <th></th>\n",
       "      <th></th>\n",
       "      <th></th>\n",
       "      <th></th>\n",
       "      <th></th>\n",
       "      <th></th>\n",
       "      <th></th>\n",
       "      <th></th>\n",
       "      <th></th>\n",
       "      <th></th>\n",
       "      <th></th>\n",
       "      <th></th>\n",
       "      <th></th>\n",
       "      <th></th>\n",
       "      <th></th>\n",
       "      <th></th>\n",
       "      <th></th>\n",
       "      <th></th>\n",
       "      <th></th>\n",
       "    </tr>\n",
       "  </thead>\n",
       "  <tbody>\n",
       "    <tr>\n",
       "      <th>human</th>\n",
       "      <td>60.229400</td>\n",
       "      <td>33.362550</td>\n",
       "      <td>58.012250</td>\n",
       "      <td>34.190950</td>\n",
       "      <td>42.902200</td>\n",
       "      <td>35.12250</td>\n",
       "      <td>12.653950</td>\n",
       "      <td>31.898350</td>\n",
       "      <td>61.794450</td>\n",
       "      <td>46.252500</td>\n",
       "      <td>...</td>\n",
       "      <td>11.310700</td>\n",
       "      <td>35.77230</td>\n",
       "      <td>47.596600</td>\n",
       "      <td>40.074900</td>\n",
       "      <td>51.249600</td>\n",
       "      <td>33.977450</td>\n",
       "      <td>21.301150</td>\n",
       "      <td>35.017850</td>\n",
       "      <td>33.329400</td>\n",
       "      <td>33.42700</td>\n",
       "    </tr>\n",
       "    <tr>\n",
       "      <th>chimp</th>\n",
       "      <td>67.194300</td>\n",
       "      <td>37.500850</td>\n",
       "      <td>65.028200</td>\n",
       "      <td>37.705900</td>\n",
       "      <td>48.163300</td>\n",
       "      <td>40.80795</td>\n",
       "      <td>14.604500</td>\n",
       "      <td>35.642400</td>\n",
       "      <td>69.796600</td>\n",
       "      <td>52.699600</td>\n",
       "      <td>...</td>\n",
       "      <td>12.945650</td>\n",
       "      <td>39.50585</td>\n",
       "      <td>53.729300</td>\n",
       "      <td>45.264000</td>\n",
       "      <td>58.448150</td>\n",
       "      <td>38.660100</td>\n",
       "      <td>23.541550</td>\n",
       "      <td>38.992100</td>\n",
       "      <td>37.130300</td>\n",
       "      <td>36.00340</td>\n",
       "    </tr>\n",
       "    <tr>\n",
       "      <th>dolphin</th>\n",
       "      <td>47.661000</td>\n",
       "      <td>29.020600</td>\n",
       "      <td>49.433050</td>\n",
       "      <td>26.596250</td>\n",
       "      <td>36.743850</td>\n",
       "      <td>33.69755</td>\n",
       "      <td>15.967300</td>\n",
       "      <td>27.132200</td>\n",
       "      <td>53.910250</td>\n",
       "      <td>44.904550</td>\n",
       "      <td>...</td>\n",
       "      <td>13.051750</td>\n",
       "      <td>31.85410</td>\n",
       "      <td>40.071600</td>\n",
       "      <td>37.548450</td>\n",
       "      <td>47.272250</td>\n",
       "      <td>29.036600</td>\n",
       "      <td>17.242750</td>\n",
       "      <td>31.348700</td>\n",
       "      <td>27.255200</td>\n",
       "      <td>28.29850</td>\n",
       "    </tr>\n",
       "    <tr>\n",
       "      <th>oak</th>\n",
       "      <td>46.520700</td>\n",
       "      <td>23.288300</td>\n",
       "      <td>41.873250</td>\n",
       "      <td>35.526600</td>\n",
       "      <td>26.295850</td>\n",
       "      <td>16.25395</td>\n",
       "      <td>7.664500</td>\n",
       "      <td>22.174450</td>\n",
       "      <td>39.199150</td>\n",
       "      <td>21.407250</td>\n",
       "      <td>...</td>\n",
       "      <td>9.253550</td>\n",
       "      <td>28.96365</td>\n",
       "      <td>37.352750</td>\n",
       "      <td>24.595600</td>\n",
       "      <td>35.381750</td>\n",
       "      <td>26.230500</td>\n",
       "      <td>22.769400</td>\n",
       "      <td>30.478900</td>\n",
       "      <td>40.989250</td>\n",
       "      <td>37.80160</td>\n",
       "    </tr>\n",
       "    <tr>\n",
       "      <th>mushroom</th>\n",
       "      <td>31.000975</td>\n",
       "      <td>24.464066</td>\n",
       "      <td>29.259715</td>\n",
       "      <td>23.088972</td>\n",
       "      <td>25.872618</td>\n",
       "      <td>23.17802</td>\n",
       "      <td>21.090998</td>\n",
       "      <td>19.591673</td>\n",
       "      <td>27.279295</td>\n",
       "      <td>22.428207</td>\n",
       "      <td>...</td>\n",
       "      <td>24.247187</td>\n",
       "      <td>26.01928</td>\n",
       "      <td>22.885971</td>\n",
       "      <td>24.272693</td>\n",
       "      <td>28.102626</td>\n",
       "      <td>19.113878</td>\n",
       "      <td>13.412528</td>\n",
       "      <td>28.245236</td>\n",
       "      <td>26.103601</td>\n",
       "      <td>23.72078</td>\n",
       "    </tr>\n",
       "  </tbody>\n",
       "</table>\n",
       "<p>5 rows × 64 columns</p>\n",
       "</div>"
      ],
      "text/plain": [
       "                AAA        AAC        AAG        AAT        ACA       ACC  \\\n",
       "               mean       mean       mean       mean       mean      mean   \n",
       "target                                                                      \n",
       "human     60.229400  33.362550  58.012250  34.190950  42.902200  35.12250   \n",
       "chimp     67.194300  37.500850  65.028200  37.705900  48.163300  40.80795   \n",
       "dolphin   47.661000  29.020600  49.433050  26.596250  36.743850  33.69755   \n",
       "oak       46.520700  23.288300  41.873250  35.526600  26.295850  16.25395   \n",
       "mushroom  31.000975  24.464066  29.259715  23.088972  25.872618  23.17802   \n",
       "\n",
       "                ACG        ACT        AGA        AGC  ...        TCG  \\\n",
       "               mean       mean       mean       mean  ...       mean   \n",
       "target                                                ...              \n",
       "human     12.653950  31.898350  61.794450  46.252500  ...  11.310700   \n",
       "chimp     14.604500  35.642400  69.796600  52.699600  ...  12.945650   \n",
       "dolphin   15.967300  27.132200  53.910250  44.904550  ...  13.051750   \n",
       "oak        7.664500  22.174450  39.199150  21.407250  ...   9.253550   \n",
       "mushroom  21.090998  19.591673  27.279295  22.428207  ...  24.247187   \n",
       "\n",
       "               TCT        TGA        TGC        TGG        TGT        TTA  \\\n",
       "              mean       mean       mean       mean       mean       mean   \n",
       "target                                                                      \n",
       "human     35.77230  47.596600  40.074900  51.249600  33.977450  21.301150   \n",
       "chimp     39.50585  53.729300  45.264000  58.448150  38.660100  23.541550   \n",
       "dolphin   31.85410  40.071600  37.548450  47.272250  29.036600  17.242750   \n",
       "oak       28.96365  37.352750  24.595600  35.381750  26.230500  22.769400   \n",
       "mushroom  26.01928  22.885971  24.272693  28.102626  19.113878  13.412528   \n",
       "\n",
       "                TTC        TTG       TTT  \n",
       "               mean       mean      mean  \n",
       "target                                    \n",
       "human     35.017850  33.329400  33.42700  \n",
       "chimp     38.992100  37.130300  36.00340  \n",
       "dolphin   31.348700  27.255200  28.29850  \n",
       "oak       30.478900  40.989250  37.80160  \n",
       "mushroom  28.245236  26.103601  23.72078  \n",
       "\n",
       "[5 rows x 64 columns]"
      ]
     },
     "execution_count": 15,
     "metadata": {},
     "output_type": "execute_result"
    }
   ],
   "source": [
    "mean_agg_df = kmer_matrix.groupby('target', sort=False).agg(['mean'])\n",
    "mean_agg_df"
   ]
  },
  {
   "cell_type": "code",
   "execution_count": 16,
   "metadata": {
    "scrolled": true
   },
   "outputs": [],
   "source": [
    "\n",
    "#set up the dimension of each subplot and the final graph\n",
    "rows = 16\n",
    "cols = 4\n",
    "fig_cols = 5\n",
    "fig_rows = 1\n",
    "\n",
    "#get the total max and min for scaling later\n",
    "mean_agg = mean_agg_df\n",
    "mean_max = mean_agg.max().max()\n",
    "mean_min = mean_agg.min().min()\n",
    "\n",
    "#Extract the title for each subplot, and the trimers in each matrix\n",
    "mean_agg_index = [f'{x.title()} Genome' for x in mean_agg.index]\n",
    "kmer_index = np.array([x[0] for x in mean_agg.columns]).reshape(rows, cols)\n",
    "#scale the data with MinMax\n",
    "mean_agg = (np.array(mean_agg) - mean_min) / (mean_max - mean_min)\n",
    "\n",
    "#plot the graph\n",
    "fig = make_subplots(rows=fig_rows, cols=fig_cols, subplot_titles=mean_agg_index)\n",
    "layout = {'title':'Scaled Mean Values of Each Trimer Grouped by Genome', 'width':1200, 'height':600}\n",
    "for row_index in range(fig_rows):\n",
    "    for col_index in range(fig_cols):\n",
    "        index = col_index + fig_rows*row_index\n",
    "        array = np.array(mean_agg[index]).astype(float).reshape(rows, cols)\n",
    "        #draw a heatmap for genome\n",
    "        fig.add_trace(go.Heatmap(z=array, coloraxis='coloraxis'), row=row_index+1, col=col_index+1)\n",
    "        #draw each trimer over each square in each subplot\n",
    "        for k in range(rows):\n",
    "            for j in range(cols):\n",
    "                fig.add_annotation(text=np.array(kmer_index).reshape(rows, cols)[k][j], \n",
    "                                   x=j, y=k, showarrow=False, row=row_index+1, col=col_index+1, font=dict(size=9, color=\"#222299\"))\n",
    "        layout[f'xaxis{index+1 if index > 0 else \"\"}'] = dict(visible=False)\n",
    "        layout[f'yaxis{index+1 if index > 0 else \"\"}'] = dict(autorange='reversed',visible=False)\n",
    "\n",
    "fig.update_layout(layout)\n",
    "fig.update_coloraxes(colorscale = 'bupu')\n",
    "plt.show()"
   ]
  },
  {
   "cell_type": "markdown",
   "metadata": {},
   "source": [
    "In this graph, we are visualizing those mean values for every columns arranged as a 2-dimensional grid. Each subplot is one of the four species, and now we can visually compare the means of their values together. It looks like there are some patterns emerging already. For the mammalian genomes (human, chimp, and dolphin) there are a lot of areas that are visually similiar. Even some parts of the Oak genome are related to the three others, but for the most part it is easy to distinguish already that it is different."
   ]
  },
  {
   "cell_type": "code",
   "execution_count": 17,
   "metadata": {},
   "outputs": [
    {
     "data": {
      "image/png": "[encoded data removed]",
      "text/plain": [
       "<Figure size 576x360 with 2 Axes>"
      ]
     },
     "metadata": {},
     "output_type": "display_data"
    }
   ],
   "source": [
    "from sklearn.metrics.pairwise import cosine_similarity\n",
    "\n",
    "cosine_similiarity_map = pd.DataFrame(cosine_similarity(np.array(mean_agg_df),np.array(mean_agg_df)), index=mean_agg_df.index, columns=mean_agg_df.index)\n",
    "fig = plt.figure(figsize=(8,5))\n",
    "sns.set(font_scale=1)\n",
    "sns.set_style(\"whitegrid\")\n",
    "sns.heatmap(cosine_similiarity_map)\n",
    "plt.suptitle('Cosine Similarity between Genomes (Mean Values)')\n",
    "plt.show()"
   ]
  },
  {
   "cell_type": "markdown",
   "metadata": {},
   "source": [
    "We have visually seen the similiarity between our features in different classes, but I also compute the cosine similiarity between each class. Note that the bottom of this scale is still a value of high similiarity. It seems that all of our classes have a high value of cosine similiarity."
   ]
  },
  {
   "cell_type": "markdown",
   "metadata": {},
   "source": [
    "Now let's take a look at a visualization of the variance in each genome's features."
   ]
  },
  {
   "cell_type": "code",
   "execution_count": 18,
   "metadata": {},
   "outputs": [
    {
     "data": {
      "text/html": [
       "<div>\n",
       "<style scoped>\n",
       "    .dataframe tbody tr th:only-of-type {\n",
       "        vertical-align: middle;\n",
       "    }\n",
       "\n",
       "    .dataframe tbody tr th {\n",
       "        vertical-align: top;\n",
       "    }\n",
       "\n",
       "    .dataframe thead tr th {\n",
       "        text-align: left;\n",
       "    }\n",
       "\n",
       "    .dataframe thead tr:last-of-type th {\n",
       "        text-align: right;\n",
       "    }\n",
       "</style>\n",
       "<table border=\"1\" class=\"dataframe\">\n",
       "  <thead>\n",
       "    <tr>\n",
       "      <th></th>\n",
       "      <th>AAA</th>\n",
       "      <th>AAC</th>\n",
       "      <th>AAG</th>\n",
       "      <th>AAT</th>\n",
       "      <th>ACA</th>\n",
       "      <th>ACC</th>\n",
       "      <th>ACG</th>\n",
       "      <th>ACT</th>\n",
       "      <th>AGA</th>\n",
       "      <th>AGC</th>\n",
       "      <th>...</th>\n",
       "      <th>TCG</th>\n",
       "      <th>TCT</th>\n",
       "      <th>TGA</th>\n",
       "      <th>TGC</th>\n",
       "      <th>TGG</th>\n",
       "      <th>TGT</th>\n",
       "      <th>TTA</th>\n",
       "      <th>TTC</th>\n",
       "      <th>TTG</th>\n",
       "      <th>TTT</th>\n",
       "    </tr>\n",
       "    <tr>\n",
       "      <th></th>\n",
       "      <th>std</th>\n",
       "      <th>std</th>\n",
       "      <th>std</th>\n",
       "      <th>std</th>\n",
       "      <th>std</th>\n",
       "      <th>std</th>\n",
       "      <th>std</th>\n",
       "      <th>std</th>\n",
       "      <th>std</th>\n",
       "      <th>std</th>\n",
       "      <th>...</th>\n",
       "      <th>std</th>\n",
       "      <th>std</th>\n",
       "      <th>std</th>\n",
       "      <th>std</th>\n",
       "      <th>std</th>\n",
       "      <th>std</th>\n",
       "      <th>std</th>\n",
       "      <th>std</th>\n",
       "      <th>std</th>\n",
       "      <th>std</th>\n",
       "    </tr>\n",
       "    <tr>\n",
       "      <th>target</th>\n",
       "      <th></th>\n",
       "      <th></th>\n",
       "      <th></th>\n",
       "      <th></th>\n",
       "      <th></th>\n",
       "      <th></th>\n",
       "      <th></th>\n",
       "      <th></th>\n",
       "      <th></th>\n",
       "      <th></th>\n",
       "      <th></th>\n",
       "      <th></th>\n",
       "      <th></th>\n",
       "      <th></th>\n",
       "      <th></th>\n",
       "      <th></th>\n",
       "      <th></th>\n",
       "      <th></th>\n",
       "      <th></th>\n",
       "      <th></th>\n",
       "      <th></th>\n",
       "    </tr>\n",
       "  </thead>\n",
       "  <tbody>\n",
       "    <tr>\n",
       "      <th>human</th>\n",
       "      <td>152.290764</td>\n",
       "      <td>67.642467</td>\n",
       "      <td>125.621148</td>\n",
       "      <td>79.096607</td>\n",
       "      <td>82.123832</td>\n",
       "      <td>65.184829</td>\n",
       "      <td>18.903554</td>\n",
       "      <td>62.487751</td>\n",
       "      <td>122.173205</td>\n",
       "      <td>68.280781</td>\n",
       "      <td>...</td>\n",
       "      <td>15.059505</td>\n",
       "      <td>55.404058</td>\n",
       "      <td>100.345189</td>\n",
       "      <td>61.190007</td>\n",
       "      <td>84.801428</td>\n",
       "      <td>67.115566</td>\n",
       "      <td>48.823667</td>\n",
       "      <td>54.837686</td>\n",
       "      <td>68.444691</td>\n",
       "      <td>53.748604</td>\n",
       "    </tr>\n",
       "    <tr>\n",
       "      <th>chimp</th>\n",
       "      <td>234.256728</td>\n",
       "      <td>100.790536</td>\n",
       "      <td>194.826161</td>\n",
       "      <td>113.137705</td>\n",
       "      <td>115.188170</td>\n",
       "      <td>100.610751</td>\n",
       "      <td>27.481160</td>\n",
       "      <td>91.197753</td>\n",
       "      <td>186.499926</td>\n",
       "      <td>100.648139</td>\n",
       "      <td>...</td>\n",
       "      <td>21.016296</td>\n",
       "      <td>77.806438</td>\n",
       "      <td>150.166717</td>\n",
       "      <td>89.787638</td>\n",
       "      <td>125.387824</td>\n",
       "      <td>102.385897</td>\n",
       "      <td>69.439293</td>\n",
       "      <td>80.573712</td>\n",
       "      <td>100.987289</td>\n",
       "      <td>68.932645</td>\n",
       "    </tr>\n",
       "    <tr>\n",
       "      <th>dolphin</th>\n",
       "      <td>64.107743</td>\n",
       "      <td>29.643241</td>\n",
       "      <td>51.848806</td>\n",
       "      <td>33.370277</td>\n",
       "      <td>35.684144</td>\n",
       "      <td>30.359520</td>\n",
       "      <td>16.704505</td>\n",
       "      <td>26.367703</td>\n",
       "      <td>57.280346</td>\n",
       "      <td>43.470443</td>\n",
       "      <td>...</td>\n",
       "      <td>12.231314</td>\n",
       "      <td>30.718642</td>\n",
       "      <td>40.474772</td>\n",
       "      <td>34.388602</td>\n",
       "      <td>41.216353</td>\n",
       "      <td>27.953127</td>\n",
       "      <td>22.330187</td>\n",
       "      <td>29.380003</td>\n",
       "      <td>29.172702</td>\n",
       "      <td>32.614920</td>\n",
       "    </tr>\n",
       "    <tr>\n",
       "      <th>oak</th>\n",
       "      <td>67.254613</td>\n",
       "      <td>29.056121</td>\n",
       "      <td>55.483528</td>\n",
       "      <td>36.632032</td>\n",
       "      <td>35.589864</td>\n",
       "      <td>13.775788</td>\n",
       "      <td>7.173159</td>\n",
       "      <td>20.372660</td>\n",
       "      <td>62.033049</td>\n",
       "      <td>21.573970</td>\n",
       "      <td>...</td>\n",
       "      <td>7.586042</td>\n",
       "      <td>25.275893</td>\n",
       "      <td>44.364118</td>\n",
       "      <td>19.880798</td>\n",
       "      <td>27.105133</td>\n",
       "      <td>21.680115</td>\n",
       "      <td>20.768748</td>\n",
       "      <td>25.435811</td>\n",
       "      <td>35.695604</td>\n",
       "      <td>32.168291</td>\n",
       "    </tr>\n",
       "    <tr>\n",
       "      <th>mushroom</th>\n",
       "      <td>27.519239</td>\n",
       "      <td>19.969099</td>\n",
       "      <td>25.391396</td>\n",
       "      <td>19.881351</td>\n",
       "      <td>20.695307</td>\n",
       "      <td>18.666483</td>\n",
       "      <td>17.513898</td>\n",
       "      <td>15.329258</td>\n",
       "      <td>23.976195</td>\n",
       "      <td>19.428896</td>\n",
       "      <td>...</td>\n",
       "      <td>20.425386</td>\n",
       "      <td>21.431633</td>\n",
       "      <td>19.790858</td>\n",
       "      <td>19.798527</td>\n",
       "      <td>22.784046</td>\n",
       "      <td>15.766749</td>\n",
       "      <td>11.787164</td>\n",
       "      <td>22.950091</td>\n",
       "      <td>22.093303</td>\n",
       "      <td>20.889599</td>\n",
       "    </tr>\n",
       "  </tbody>\n",
       "</table>\n",
       "<p>5 rows × 64 columns</p>\n",
       "</div>"
      ],
      "text/plain": [
       "                 AAA         AAC         AAG         AAT         ACA  \\\n",
       "                 std         std         std         std         std   \n",
       "target                                                                 \n",
       "human     152.290764   67.642467  125.621148   79.096607   82.123832   \n",
       "chimp     234.256728  100.790536  194.826161  113.137705  115.188170   \n",
       "dolphin    64.107743   29.643241   51.848806   33.370277   35.684144   \n",
       "oak        67.254613   29.056121   55.483528   36.632032   35.589864   \n",
       "mushroom   27.519239   19.969099   25.391396   19.881351   20.695307   \n",
       "\n",
       "                 ACC        ACG        ACT         AGA         AGC  ...  \\\n",
       "                 std        std        std         std         std  ...   \n",
       "target                                                              ...   \n",
       "human      65.184829  18.903554  62.487751  122.173205   68.280781  ...   \n",
       "chimp     100.610751  27.481160  91.197753  186.499926  100.648139  ...   \n",
       "dolphin    30.359520  16.704505  26.367703   57.280346   43.470443  ...   \n",
       "oak        13.775788   7.173159  20.372660   62.033049   21.573970  ...   \n",
       "mushroom   18.666483  17.513898  15.329258   23.976195   19.428896  ...   \n",
       "\n",
       "                TCG        TCT         TGA        TGC         TGG         TGT  \\\n",
       "                std        std         std        std         std         std   \n",
       "target                                                                          \n",
       "human     15.059505  55.404058  100.345189  61.190007   84.801428   67.115566   \n",
       "chimp     21.016296  77.806438  150.166717  89.787638  125.387824  102.385897   \n",
       "dolphin   12.231314  30.718642   40.474772  34.388602   41.216353   27.953127   \n",
       "oak        7.586042  25.275893   44.364118  19.880798   27.105133   21.680115   \n",
       "mushroom  20.425386  21.431633   19.790858  19.798527   22.784046   15.766749   \n",
       "\n",
       "                TTA        TTC         TTG        TTT  \n",
       "                std        std         std        std  \n",
       "target                                                 \n",
       "human     48.823667  54.837686   68.444691  53.748604  \n",
       "chimp     69.439293  80.573712  100.987289  68.932645  \n",
       "dolphin   22.330187  29.380003   29.172702  32.614920  \n",
       "oak       20.768748  25.435811   35.695604  32.168291  \n",
       "mushroom  11.787164  22.950091   22.093303  20.889599  \n",
       "\n",
       "[5 rows x 64 columns]"
      ]
     },
     "execution_count": 18,
     "metadata": {},
     "output_type": "execute_result"
    }
   ],
   "source": [
    "var_agg_df = kmer_matrix.groupby('target', sort=False).agg(['std'])\n",
    "var_agg_df"
   ]
  },
  {
   "cell_type": "code",
   "execution_count": 19,
   "metadata": {
    "scrolled": true
   },
   "outputs": [],
   "source": [
    "#set up the dimension of each subplot and the final graph\n",
    "rows = 16\n",
    "cols = 4\n",
    "fig_cols = 5\n",
    "fig_rows = 1\n",
    "\n",
    "#Extract the title for each subplot, and the trimers in each matrix\n",
    "var_agg = var_agg_df\n",
    "var_agg_index = [f'{x.title()} Genome' for x in var_agg.index]\n",
    "kmer_index = np.array([x[0] for x in var_agg.columns]).reshape(rows, cols)\n",
    "var_agg = np.array(var_agg)\n",
    "           \n",
    "#plot the graph\n",
    "fig = make_subplots(rows=fig_rows, cols=fig_cols, subplot_titles=var_agg_index)\n",
    "layout = {'title':'Scaled Variance of Each Trimer Column Grouped by Genome', 'width':1200, 'height':600}\n",
    "for row_index in range(fig_rows):\n",
    "    for col_index in range(fig_cols):\n",
    "        index = col_index + fig_rows*row_index\n",
    "        array = np.array(var_agg[index]).astype(float).reshape(rows, cols)\n",
    "        #draw a heatmap for genome\n",
    "        fig.add_trace(go.Heatmap(z=array, coloraxis='coloraxis'), row=row_index+1, col=col_index+1)\n",
    "        #draw each trimer over each square in each subplot\n",
    "        for k in range(rows):\n",
    "            for j in range(cols):\n",
    "                fig.add_annotation(text=np.array(kmer_index).reshape(rows, cols)[k][j], \n",
    "                                   x=j, y=k, showarrow=False, row=row_index+1, col=col_index+1, font=dict(size=9, color=\"#222299\"))\n",
    "        layout[f'xaxis{index+1 if index > 0 else \"\"}'] = dict(visible=False)\n",
    "        layout[f'yaxis{index+1 if index > 0 else \"\"}'] = dict(autorange='reversed',visible=False)\n",
    "\n",
    "fig.update_layout(layout)\n",
    "fig.update_coloraxes(colorscale = 'tempo')\n",
    "plt.show()"
   ]
  },
  {
   "cell_type": "markdown",
   "metadata": {},
   "source": [
    "Based on this visualization, we can see that some genomes have higher variance than others. It will be interesting to see if this has an impact on multiclass models, or could be explained during binary classification of two classes that have different levels of variance."
   ]
  },
  {
   "cell_type": "markdown",
   "metadata": {},
   "source": [
    "# Train Test Split"
   ]
  },
  {
   "cell_type": "markdown",
   "metadata": {},
   "source": [
    "I will want to do a multi-class model later on, but I will start with a 2 class dataframe to create a baseline model."
   ]
  },
  {
   "cell_type": "code",
   "execution_count": 20,
   "metadata": {},
   "outputs": [],
   "source": [
    "baseline_df = pd.concat([human_df, oak_df], axis=0).reset_index(drop=True)"
   ]
  },
  {
   "cell_type": "code",
   "execution_count": 21,
   "metadata": {},
   "outputs": [],
   "source": [
    "\n",
    "labeler = LabelEncoder()\n",
    "\n",
    "X = baseline_df.drop(columns='target')\n",
    "y = labeler.fit_transform(baseline_df['target'])\n",
    "\n",
    "X_train, X_test, y_train, y_test = train_test_split(X, y, random_state=42)"
   ]
  },
  {
   "cell_type": "markdown",
   "metadata": {},
   "source": [
    "Now that I have split the data into training and testing sets, I can transform the X's into the dataframe's we will use in the model using the custom KMerTransformer that was imported. I will start the baseline model with k=3."
   ]
  },
  {
   "cell_type": "code",
   "execution_count": 22,
   "metadata": {},
   "outputs": [],
   "source": [
    "kmer_transformer = KMerTransformer(k=3, verbose=False)\n",
    "X_train_trans = kmer_transformer.fit_transform(X_train)\n",
    "X_test_trans = kmer_transformer.transform(X_test)"
   ]
  },
  {
   "cell_type": "markdown",
   "metadata": {},
   "source": [
    "# Baseline Model for Binary Classification"
   ]
  },
  {
   "cell_type": "code",
   "execution_count": 23,
   "metadata": {},
   "outputs": [
    {
     "data": {
      "text/html": [
       "<style>#sk-container-id-1 {color: black;background-color: white;}#sk-container-id-1 pre{padding: 0;}#sk-container-id-1 div.sk-toggleable {background-color: white;}#sk-container-id-1 label.sk-toggleable__label {cursor: pointer;display: block;width: 100%;margin-bottom: 0;padding: 0.3em;box-sizing: border-box;text-align: center;}#sk-container-id-1 label.sk-toggleable__label-arrow:before {content: \"▸\";float: left;margin-right: 0.25em;color: #696969;}#sk-container-id-1 label.sk-toggleable__label-arrow:hover:before {color: black;}#sk-container-id-1 div.sk-estimator:hover label.sk-toggleable__label-arrow:before {color: black;}#sk-container-id-1 div.sk-toggleable__content {max-height: 0;max-width: 0;overflow: hidden;text-align: left;background-color: #f0f8ff;}#sk-container-id-1 div.sk-toggleable__content pre {margin: 0.2em;color: black;border-radius: 0.25em;background-color: #f0f8ff;}#sk-container-id-1 input.sk-toggleable__control:checked~div.sk-toggleable__content {max-height: 200px;max-width: 100%;overflow: auto;}#sk-container-id-1 input.sk-toggleable__control:checked~label.sk-toggleable__label-arrow:before {content: \"▾\";}#sk-container-id-1 div.sk-estimator input.sk-toggleable__control:checked~label.sk-toggleable__label {background-color: #d4ebff;}#sk-container-id-1 div.sk-label input.sk-toggleable__control:checked~label.sk-toggleable__label {background-color: #d4ebff;}#sk-container-id-1 input.sk-hidden--visually {border: 0;clip: rect(1px 1px 1px 1px);clip: rect(1px, 1px, 1px, 1px);height: 1px;margin: -1px;overflow: hidden;padding: 0;position: absolute;width: 1px;}#sk-container-id-1 div.sk-estimator {font-family: monospace;background-color: #f0f8ff;border: 1px dotted black;border-radius: 0.25em;box-sizing: border-box;margin-bottom: 0.5em;}#sk-container-id-1 div.sk-estimator:hover {background-color: #d4ebff;}#sk-container-id-1 div.sk-parallel-item::after {content: \"\";width: 100%;border-bottom: 1px solid gray;flex-grow: 1;}#sk-container-id-1 div.sk-label:hover label.sk-toggleable__label {background-color: #d4ebff;}#sk-container-id-1 div.sk-serial::before {content: \"\";position: absolute;border-left: 1px solid gray;box-sizing: border-box;top: 0;bottom: 0;left: 50%;z-index: 0;}#sk-container-id-1 div.sk-serial {display: flex;flex-direction: column;align-items: center;background-color: white;padding-right: 0.2em;padding-left: 0.2em;position: relative;}#sk-container-id-1 div.sk-item {position: relative;z-index: 1;}#sk-container-id-1 div.sk-parallel {display: flex;align-items: stretch;justify-content: center;background-color: white;position: relative;}#sk-container-id-1 div.sk-item::before, #sk-container-id-1 div.sk-parallel-item::before {content: \"\";position: absolute;border-left: 1px solid gray;box-sizing: border-box;top: 0;bottom: 0;left: 50%;z-index: -1;}#sk-container-id-1 div.sk-parallel-item {display: flex;flex-direction: column;z-index: 1;position: relative;background-color: white;}#sk-container-id-1 div.sk-parallel-item:first-child::after {align-self: flex-end;width: 50%;}#sk-container-id-1 div.sk-parallel-item:last-child::after {align-self: flex-start;width: 50%;}#sk-container-id-1 div.sk-parallel-item:only-child::after {width: 0;}#sk-container-id-1 div.sk-dashed-wrapped {border: 1px dashed gray;margin: 0 0.4em 0.5em 0.4em;box-sizing: border-box;padding-bottom: 0.4em;background-color: white;}#sk-container-id-1 div.sk-label label {font-family: monospace;font-weight: bold;display: inline-block;line-height: 1.2em;}#sk-container-id-1 div.sk-label-container {text-align: center;}#sk-container-id-1 div.sk-container {/* jupyter's `normalize.less` sets `[hidden] { display: none; }` but bootstrap.min.css set `[hidden] { display: none !important; }` so we also need the `!important` here to be able to override the default hidden behavior on the sphinx rendered scikit-learn.org. See: https://github.com/scikit-learn/scikit-learn/issues/21755 */display: inline-block !important;position: relative;}#sk-container-id-1 div.sk-text-repr-fallback {display: none;}</style><div id=\"sk-container-id-1\" class=\"sk-top-container\"><div class=\"sk-text-repr-fallback\"><pre>Pipeline(steps=[(&#x27;scaler&#x27;, StandardScaler()),\n",
       "                (&#x27;classifier&#x27;, LogisticRegression(random_state=42))],\n",
       "         verbose=True)</pre><b>In a Jupyter environment, please rerun this cell to show the HTML representation or trust the notebook. <br />On GitHub, the HTML representation is unable to render, please try loading this page with nbviewer.org.</b></div><div class=\"sk-container\" hidden><div class=\"sk-item sk-dashed-wrapped\"><div class=\"sk-label-container\"><div class=\"sk-label sk-toggleable\"><input class=\"sk-toggleable__control sk-hidden--visually\" id=\"sk-estimator-id-1\" type=\"checkbox\" ><label for=\"sk-estimator-id-1\" class=\"sk-toggleable__label sk-toggleable__label-arrow\">Pipeline</label><div class=\"sk-toggleable__content\"><pre>Pipeline(steps=[(&#x27;scaler&#x27;, StandardScaler()),\n",
       "                (&#x27;classifier&#x27;, LogisticRegression(random_state=42))],\n",
       "         verbose=True)</pre></div></div></div><div class=\"sk-serial\"><div class=\"sk-item\"><div class=\"sk-estimator sk-toggleable\"><input class=\"sk-toggleable__control sk-hidden--visually\" id=\"sk-estimator-id-2\" type=\"checkbox\" ><label for=\"sk-estimator-id-2\" class=\"sk-toggleable__label sk-toggleable__label-arrow\">StandardScaler</label><div class=\"sk-toggleable__content\"><pre>StandardScaler()</pre></div></div></div><div class=\"sk-item\"><div class=\"sk-estimator sk-toggleable\"><input class=\"sk-toggleable__control sk-hidden--visually\" id=\"sk-estimator-id-3\" type=\"checkbox\" ><label for=\"sk-estimator-id-3\" class=\"sk-toggleable__label sk-toggleable__label-arrow\">LogisticRegression</label><div class=\"sk-toggleable__content\"><pre>LogisticRegression(random_state=42)</pre></div></div></div></div></div></div></div>"
      ],
      "text/plain": [
       "Pipeline(steps=[('scaler', StandardScaler()),\n",
       "                ('classifier', LogisticRegression(random_state=42))],\n",
       "         verbose=True)"
      ]
     },
     "execution_count": 23,
     "metadata": {},
     "output_type": "execute_result"
    }
   ],
   "source": [
    "\n",
    "baseline_model = Pipeline(steps=[\n",
    "    ('scaler', StandardScaler()),\n",
    "    ('classifier', LogisticRegression(random_state=42))\n",
    "], verbose=True)\n",
    "baseline_model"
   ]
  },
  {
   "cell_type": "code",
   "execution_count": 24,
   "metadata": {},
   "outputs": [
    {
     "name": "stdout",
     "output_type": "stream",
     "text": [
      "[Pipeline] ............ (step 1 of 2) Processing scaler, total=   0.0s\n",
      "[Pipeline] ........ (step 2 of 2) Processing classifier, total=   0.4s\n"
     ]
    }
   ],
   "source": [
    "baseline_model.fit(X_train_trans, y_train)\n",
    "y_preds = baseline_model.predict(X_test_trans)"
   ]
  },
  {
   "cell_type": "code",
   "execution_count": 25,
   "metadata": {},
   "outputs": [
    {
     "name": "stdout",
     "output_type": "stream",
     "text": [
      "              precision    recall  f1-score   support\n",
      "\n",
      "       human       0.97      0.96      0.96      5021\n",
      "         oak       0.96      0.97      0.96      4979\n",
      "\n",
      "    accuracy                           0.96     10000\n",
      "   macro avg       0.96      0.96      0.96     10000\n",
      "weighted avg       0.96      0.96      0.96     10000\n",
      "\n"
     ]
    },
    {
     "data": {
      "image/png": "[encoded data removed]",
      "text/plain": [
       "<Figure size 432x288 with 2 Axes>"
      ]
     },
     "metadata": {},
     "output_type": "display_data"
    },
    {
     "data": {
      "image/png": "[encoded data removed]",
      "text/plain": [
       "<Figure size 432x288 with 1 Axes>"
      ]
     },
     "metadata": {},
     "output_type": "display_data"
    }
   ],
   "source": [
    "\n",
    "print(classification_report(labeler.inverse_transform(y_test), labeler.inverse_transform(y_preds)))\n",
    "\n",
    "plot_confusion_matrix(baseline_model, X_test_trans, y_test)\n",
    "plt.show()\n",
    "\n",
    "plot_roc_curve(baseline_model, X_test_trans, y_test)\n",
    "plt.show()"
   ]
  },
  {
   "cell_type": "markdown",
   "metadata": {},
   "source": [
    "This baseline model is working"
   ]
  },
  {
   "cell_type": "markdown",
   "metadata": {},
   "source": [
    "# Human vs Chimpanzee DNA Binary Classifier"
   ]
  },
  {
   "cell_type": "markdown",
   "metadata": {},
   "source": [
    "We can assume that Human and Chimpanzee DNA is much more similar than Human and Oak DNA from our intial EDA and cosine similiarity tests. I will try to run the same LogisiticRegression classifier on just Human and Chimapanzee DNA"
   ]
  },
  {
   "cell_type": "code",
   "execution_count": 26,
   "metadata": {},
   "outputs": [
    {
     "name": "stdout",
     "output_type": "stream",
     "text": [
      "Finding all kmer permutations for k=3\n"
     ]
    },
    {
     "data": {
      "application/vnd.jupyter.widget-view+json": {
       "model_id": "3210f03854cb43c3ab53dd0a44ac56c9",
       "version_major": 2,
       "version_minor": 0
      },
      "text/plain": [
       "  0%|          | 0/30000 [00:00<?, ?it/s]"
      ]
     },
     "metadata": {},
     "output_type": "display_data"
    },
    {
     "data": {
      "application/vnd.jupyter.widget-view+json": {
       "model_id": "c6de4166ce4944a3a21915ba600a99dd",
       "version_major": 2,
       "version_minor": 0
      },
      "text/plain": [
       "  0%|          | 0/10000 [00:00<?, ?it/s]"
      ]
     },
     "metadata": {},
     "output_type": "display_data"
    },
    {
     "name": "stdout",
     "output_type": "stream",
     "text": [
      "[Pipeline] ............ (step 1 of 2) Processing scaler, total=   0.0s\n",
      "[Pipeline] ........ (step 2 of 2) Processing classifier, total=   0.5s\n",
      "              precision    recall  f1-score   support\n",
      "\n",
      "       chimp       0.53      0.49      0.51      4979\n",
      "       human       0.53      0.57      0.55      5021\n",
      "\n",
      "    accuracy                           0.53     10000\n",
      "   macro avg       0.53      0.53      0.53     10000\n",
      "weighted avg       0.53      0.53      0.53     10000\n",
      "\n"
     ]
    }
   ],
   "source": [
    "human_chimp_df = pd.concat([human_df, chimp_df], axis=0).reset_index(drop=True)\n",
    "\n",
    "labeler = LabelEncoder()\n",
    "\n",
    "X = human_chimp_df.drop(columns='target')\n",
    "y = labeler.fit_transform(human_chimp_df['target'])\n",
    "\n",
    "X_train, X_test, y_train, y_test = train_test_split(X, y, random_state=42)\n",
    "\n",
    "kmer_transformer = KMerTransformer(k=3)\n",
    "X_train_trans = kmer_transformer.fit_transform(X_train)\n",
    "X_test_trans = kmer_transformer.transform(X_test)\n",
    "\n",
    "human_chimp_model = Pipeline(steps=[\n",
    "    ('scaler', StandardScaler()),\n",
    "    ('classifier', LogisticRegression(random_state=42))\n",
    "], verbose=True)\n",
    "\n",
    "human_chimp_model.fit(X_train_trans, y_train)\n",
    "y_preds = human_chimp_model.predict(X_test_trans)\n",
    "\n",
    "print(classification_report(labeler.inverse_transform(y_test), labeler.inverse_transform(y_preds)))"
   ]
  },
  {
   "cell_type": "code",
   "execution_count": 27,
   "metadata": {},
   "outputs": [
    {
     "data": {
      "image/png": "[encoded data removed]",
      "text/plain": [
       "<Figure size 432x288 with 2 Axes>"
      ]
     },
     "metadata": {},
     "output_type": "display_data"
    }
   ],
   "source": [
    "plot_confusion_matrix(human_chimp_model, X_test_trans, y_test)\n",
    "plt.suptitle('Human DNA vs Chimpanzee DNA Logisitic Regression Confusion Matrix')\n",
    "\n",
    "plt.show()"
   ]
  },
  {
   "cell_type": "code",
   "execution_count": 28,
   "metadata": {},
   "outputs": [
    {
     "data": {
      "image/png": "[encoded data removed]",
      "text/plain": [
       "<Figure size 432x288 with 1 Axes>"
      ]
     },
     "metadata": {},
     "output_type": "display_data"
    }
   ],
   "source": [
    "plot_roc_curve(human_chimp_model, X_test_trans, y_test)\n",
    "plt.show()"
   ]
  },
  {
   "cell_type": "markdown",
   "metadata": {},
   "source": [
    "The untuned Logisitic Regression is not accurate at all. A 53% accuracy score is barely more than just random chance because the two classes in the test set are balanced. This may be due to the high colinearity of our features. Since I am sticking with this feature set for now, I will try out different classifiers that may work better with high colinearity."
   ]
  },
  {
   "cell_type": "markdown",
   "metadata": {},
   "source": [
    "# Grid Search for Best Binary Classifier, k=3"
   ]
  },
  {
   "cell_type": "markdown",
   "metadata": {},
   "source": [
    "Since Logisitic Regression does not seem to be a good classifier for our data, I will implement a grid search on different parameters for many different classifiers to see if we can find one that will fit the data better. The model is still using the same training and testing data trimers (k=3) from the KMerTransformer. I will assume that with a higher k, we will see a better accuracy score, but it will also take longer to fit each model. If this grid search finds good classifiers, I could increase the k in another grid search, but on a smaller set of parameters. First let's just try the untuned classifiers."
   ]
  },
  {
   "cell_type": "code",
   "execution_count": 29,
   "metadata": {},
   "outputs": [
    {
     "name": "stdout",
     "output_type": "stream",
     "text": [
      "Fitting 3 folds for each of 8 candidates, totalling 24 fits\n",
      "Best Estimator:\n",
      "Pipeline(steps=[('scaler', StandardScaler()),\n",
      "                ('classifier', ExtraTreesClassifier(random_state=42))])\n",
      "              precision    recall  f1-score   support\n",
      "\n",
      "       chimp       0.78      0.80      0.79      4979\n",
      "       human       0.80      0.78      0.79      5021\n",
      "\n",
      "    accuracy                           0.79     10000\n",
      "   macro avg       0.79      0.79      0.79     10000\n",
      "weighted avg       0.79      0.79      0.79     10000\n",
      "\n"
     ]
    }
   ],
   "source": [
    "\n",
    "num_features = len(X_train_trans.columns)\n",
    "\n",
    "human_chimp_model = Pipeline(steps=[\n",
    "    ('scaler', StandardScaler()),\n",
    "    ('classifier', LogisticRegression(random_state=42))\n",
    "])\n",
    "\n",
    "RANDOM_STATE = 42\n",
    "\n",
    "params = [\n",
    "    {'classifier':[LogisticRegression(random_state=RANDOM_STATE)]},\n",
    "    {'classifier':[GaussianNB()]},\n",
    "    {'classifier':[KNeighborsClassifier()]},\n",
    "    {'classifier':[RandomForestClassifier(random_state=RANDOM_STATE)]},\n",
    "    {'classifier':[ExtraTreesClassifier(random_state=RANDOM_STATE)]},\n",
    "    {'classifier':[XGBClassifier(random_state=RANDOM_STATE)]},\n",
    "    {'classifier':[GradientBoostingClassifier(random_state=RANDOM_STATE)]},\n",
    "    {'classifier':[SVC(random_state=RANDOM_STATE)]}\n",
    "]\n",
    "\n",
    "grid_searcher_clf = GridSearchCV(human_chimp_model, params, cv=3, scoring='accuracy', verbose=1)\n",
    "\n",
    "with parallel_backend('threading', n_jobs=-1):\n",
    "    grid_searcher_clf.fit(X_train_trans, y_train)\n",
    "    best_est = grid_searcher_clf.best_estimator_\n",
    "    y_preds = best_est.predict(X_test_trans)\n",
    "    \n",
    "print('Best Estimator:')\n",
    "print(best_est)\n",
    "\n",
    "print(classification_report(labeler.inverse_transform(y_test), labeler.inverse_transform(y_preds)))"
   ]
  },
  {
   "cell_type": "code",
   "execution_count": 30,
   "metadata": {},
   "outputs": [
    {
     "data": {
      "image/png": "[encoded data removed]",
      "text/plain": [
       "<Figure size 1080x360 with 1 Axes>"
      ]
     },
     "metadata": {},
     "output_type": "display_data"
    }
   ],
   "source": [
    "fig, ax = plt.subplots(figsize=(15,5))\n",
    "sns.set(font_scale = .7)\n",
    "cv_results = list(grid_searcher_clf.cv_results_['mean_test_score'])\n",
    "cv_params = [re.sub(r'\\(.*?\\)', \"\", str(x['classifier']).replace(\"\\n\", \"\")) for x in grid_searcher_clf.cv_results_['params']]\n",
    "sns.barplot(cv_params, cv_results)\n",
    "fig.suptitle('Accuracy of Different Classifiers in GridSearchCV ')\n",
    "plt.show()"
   ]
  },
  {
   "cell_type": "markdown",
   "metadata": {},
   "source": [
    "With the baseline scores for each untuned classifier, ExtraTreesClassifier had the highest accuracy so we will continue to tune with that model. First, let's look at the accuracy and metrics for an untuned ExtraTreesClassifier when k=6."
   ]
  },
  {
   "cell_type": "code",
   "execution_count": 31,
   "metadata": {},
   "outputs": [
    {
     "name": "stdout",
     "output_type": "stream",
     "text": [
      "              precision    recall  f1-score   support\n",
      "\n",
      "       chimp       0.87      0.88      0.88      4979\n",
      "       human       0.88      0.87      0.88      5021\n",
      "\n",
      "    accuracy                           0.88     10000\n",
      "   macro avg       0.88      0.88      0.88     10000\n",
      "weighted avg       0.88      0.88      0.88     10000\n",
      "\n"
     ]
    }
   ],
   "source": [
    "human_chimp_model = Pipeline(steps=[\n",
    "    ('kmer_transformer', KMerTransformer(k=6, verbose=False)),\n",
    "    ('scaler', StandardScaler()),\n",
    "    ('classifier', ExtraTreesClassifier())\n",
    "])\n",
    "\n",
    "human_chimp_model.fit(X_train, y_train)\n",
    "y_preds = human_chimp_model.predict(X_test)\n",
    "\n",
    "print(classification_report(labeler.inverse_transform(y_test), labeler.inverse_transform(y_preds)))"
   ]
  },
  {
   "cell_type": "code",
   "execution_count": 32,
   "metadata": {},
   "outputs": [
    {
     "data": {
      "image/png": "[encoded data removed]",
      "text/plain": [
       "<Figure size 432x288 with 2 Axes>"
      ]
     },
     "metadata": {},
     "output_type": "display_data"
    }
   ],
   "source": [
    "sns.set(font_scale = 1)\n",
    "plot_confusion_matrix(human_chimp_model, X_test, y_test)\n",
    "plt.suptitle('Human DNA vs Chimpanzee DNA ExtraTrees Confusion Matrix')\n",
    "plt.savefig('img/graphs/untuned_extratrees_confusion.png', dpi=300)\n",
    "plt.show()"
   ]
  },
  {
   "cell_type": "code",
   "execution_count": 33,
   "metadata": {},
   "outputs": [
    {
     "data": {
      "image/png": "[encoded data removed]",
      "text/plain": [
       "<Figure size 432x288 with 1 Axes>"
      ]
     },
     "metadata": {},
     "output_type": "display_data"
    }
   ],
   "source": [
    "plot_roc_curve(human_chimp_model, X_test, y_test)\n",
    "plt.suptitle('Human DNA vs Chimpanzee DNA ROC Curve')\n",
    "plt.savefig('img/graphs/untuned_extratrees_roc.png', dpi=300)\n",
    "plt.show()"
   ]
  },
  {
   "cell_type": "markdown",
   "metadata": {},
   "source": [
    "That's not a bad score compared to our baseline model of 53%. The accuracy in this model is 87% for classifying between Human and Chimpanzee DNA. The AUC score is 94%, and hugging the top left corner of the graph. Can we improve on this score with hyperparameter tuning? Sure. But let's try introducing a new preprocessing algorithm in the next section to see if we can optimize our feature transformation algorithm first."
   ]
  },
  {
   "cell_type": "markdown",
   "metadata": {},
   "source": [
    "# K-Group K-mer Transformer\n",
    "\n",
    "Here I will create another custom transformer for preprocessing the data. Similar to the KMerTransformer, this transformer will create frequency dictionaries for each row of data. Unlike the KMerTransformer, it will pool all the A's, C's, G's, and T's counts' instead of their unique sequences.\n",
    "\n",
    "In other words, if we have a sequence like 'AAGTCGAGT' we will have 3 A's, 1 C, 3 G's, and 2 T's. So the sequence will populate a column named: 'A2C1G3T2'. Similiarly, a sequence like 'GTGAAACTG' would also populate the same column. This means that we will create many times less columns for the same k. Thus, we will increase k significantly when we call the transformer.\n",
    "\n",
    "![](img/kgroup_animation.gif)"
   ]
  },
  {
   "cell_type": "markdown",
   "metadata": {},
   "source": [
    "With the imported KGroupKMerTransformer class, let's try it out on the data with a k=12"
   ]
  },
  {
   "cell_type": "code",
   "execution_count": 34,
   "metadata": {},
   "outputs": [
    {
     "name": "stdout",
     "output_type": "stream",
     "text": [
      "Finding all k-grouped k-mer permutations for k=12\n",
      "Total columns: 455\n"
     ]
    },
    {
     "data": {
      "application/vnd.jupyter.widget-view+json": {
       "model_id": "6f2241676a60444e966cfc4beeb5316a",
       "version_major": 2,
       "version_minor": 0
      },
      "text/plain": [
       "  0%|          | 0/30000 [00:00<?, ?it/s]"
      ]
     },
     "metadata": {},
     "output_type": "display_data"
    },
    {
     "name": "stdout",
     "output_type": "stream",
     "text": [
      "[Pipeline]  (step 1 of 4) Processing kgroup_transformer, total= 1.1min\n",
      "\n",
      "            Original Column Length: 455\n",
      "            Pruned Column Length: 454\n",
      "            \n",
      "[Pipeline]  (step 2 of 4) Processing kgroup_column_pruner, total=   0.0s\n",
      "[Pipeline] ............ (step 3 of 4) Processing scaler, total=   0.1s\n",
      "[Pipeline] ........ (step 4 of 4) Processing classifier, total=  10.8s\n"
     ]
    },
    {
     "data": {
      "application/vnd.jupyter.widget-view+json": {
       "model_id": "0e275440884e46f7b875be291d75b3c8",
       "version_major": 2,
       "version_minor": 0
      },
      "text/plain": [
       "  0%|          | 0/10000 [00:00<?, ?it/s]"
      ]
     },
     "metadata": {},
     "output_type": "display_data"
    },
    {
     "name": "stdout",
     "output_type": "stream",
     "text": [
      "              precision    recall  f1-score   support\n",
      "\n",
      "       chimp       0.85      0.87      0.86      4979\n",
      "       human       0.87      0.85      0.86      5021\n",
      "\n",
      "    accuracy                           0.86     10000\n",
      "   macro avg       0.86      0.86      0.86     10000\n",
      "weighted avg       0.86      0.86      0.86     10000\n",
      "\n"
     ]
    }
   ],
   "source": [
    "human_chimp_df = pd.concat([human_df, chimp_df], axis=0).reset_index(drop=True)\n",
    "\n",
    "labeler = LabelEncoder()\n",
    "\n",
    "X = human_chimp_df.drop(columns='target')\n",
    "y = labeler.fit_transform(human_chimp_df['target'])\n",
    "\n",
    "X_train, X_test, y_train, y_test = train_test_split(X, y, random_state=42)\n",
    "\n",
    "human_chimp_model_k12group = Pipeline(steps=[\n",
    "    ('kgroup_transformer', KGroupKMerTransformer(k=12)),\n",
    "    ('kgroup_column_pruner', KGroupColumnPruner()),\n",
    "    ('scaler', StandardScaler()),\n",
    "    ('classifier', ExtraTreesClassifier(random_state=42))\n",
    "], verbose=True)\n",
    "\n",
    "human_chimp_model_k12group.fit(X_train, y_train)\n",
    "y_preds = human_chimp_model_k12group.predict(X_test)\n",
    "\n",
    "print(classification_report(labeler.inverse_transform(y_test), labeler.inverse_transform(y_preds)))"
   ]
  },
  {
   "cell_type": "markdown",
   "metadata": {},
   "source": [
    "As you can see, we get 86% accuracy for a fraction of the columns we used in the KMerTransformer when k=6. Let's continue this experiment and increase k to 36. "
   ]
  },
  {
   "cell_type": "code",
   "execution_count": 35,
   "metadata": {},
   "outputs": [
    {
     "name": "stdout",
     "output_type": "stream",
     "text": [
      "Finding all k-grouped k-mer permutations for k=36\n",
      "Total columns: 9139\n"
     ]
    },
    {
     "data": {
      "application/vnd.jupyter.widget-view+json": {
       "model_id": "d3af54899e5349c1936d3e3a96c08754",
       "version_major": 2,
       "version_minor": 0
      },
      "text/plain": [
       "  0%|          | 0/30000 [00:00<?, ?it/s]"
      ]
     },
     "metadata": {},
     "output_type": "display_data"
    },
    {
     "name": "stdout",
     "output_type": "stream",
     "text": [
      "[Pipeline]  (step 1 of 4) Processing kgroup_transformer, total= 3.5min\n",
      "\n",
      "            Original Column Length: 9139\n",
      "            Pruned Column Length: 7386\n",
      "            \n",
      "[Pipeline]  (step 2 of 4) Processing kgroup_column_pruner, total=   1.7s\n",
      "[Pipeline] ............ (step 3 of 4) Processing scaler, total=   2.6s\n",
      "[Pipeline] ........ (step 4 of 4) Processing classifier, total= 1.0min\n"
     ]
    },
    {
     "data": {
      "application/vnd.jupyter.widget-view+json": {
       "model_id": "0b430f8749394e43ba0daeaedbb0b70b",
       "version_major": 2,
       "version_minor": 0
      },
      "text/plain": [
       "  0%|          | 0/10000 [00:00<?, ?it/s]"
      ]
     },
     "metadata": {},
     "output_type": "display_data"
    },
    {
     "name": "stdout",
     "output_type": "stream",
     "text": [
      "              precision    recall  f1-score   support\n",
      "\n",
      "       chimp       0.90      0.91      0.90      4979\n",
      "       human       0.91      0.90      0.90      5021\n",
      "\n",
      "    accuracy                           0.90     10000\n",
      "   macro avg       0.90      0.90      0.90     10000\n",
      "weighted avg       0.90      0.90      0.90     10000\n",
      "\n"
     ]
    }
   ],
   "source": [
    "human_chimp_model_k36group = Pipeline(steps=[\n",
    "    ('kgroup_transformer', KGroupKMerTransformer(k=36)),\n",
    "    ('kgroup_column_pruner', KGroupColumnPruner()),\n",
    "    ('scaler', StandardScaler()),\n",
    "    ('classifier', ExtraTreesClassifier(random_state=42))\n",
    "], verbose=True)\n",
    "\n",
    "human_chimp_model_k36group.fit(X_train, y_train)\n",
    "y_preds = human_chimp_model_k36group.predict(X_test)\n",
    "\n",
    "print(classification_report(labeler.inverse_transform(y_test), labeler.inverse_transform(y_preds)))"
   ]
  },
  {
   "cell_type": "code",
   "execution_count": 36,
   "metadata": {},
   "outputs": [
    {
     "data": {
      "application/vnd.jupyter.widget-view+json": {
       "model_id": "5f44f781f8b54d9780684d4882df3205",
       "version_major": 2,
       "version_minor": 0
      },
      "text/plain": [
       "  0%|          | 0/10000 [00:00<?, ?it/s]"
      ]
     },
     "metadata": {},
     "output_type": "display_data"
    },
    {
     "data": {
      "application/vnd.jupyter.widget-view+json": {
       "model_id": "e0a44bc3cb1d4c04be004a2974b619af",
       "version_major": 2,
       "version_minor": 0
      },
      "text/plain": [
       "  0%|          | 0/10000 [00:00<?, ?it/s]"
      ]
     },
     "metadata": {},
     "output_type": "display_data"
    },
    {
     "data": {
      "image/png": "[encoded data removed]",
      "text/plain": [
       "<Figure size 1080x360 with 4 Axes>"
      ]
     },
     "metadata": {},
     "output_type": "display_data"
    }
   ],
   "source": [
    "fig, ax = plt.subplots(figsize=(15,5), ncols=2)\n",
    "sns.set(font_scale = 1)\n",
    "plot_confusion_matrix(human_chimp_model_k12group, X_test, y_test, ax=ax[0])\n",
    "plot_confusion_matrix(human_chimp_model_k36group, X_test, y_test, ax=ax[1])\n",
    "ax[0].set_title('KGroups Confusion Matrix (k=12)')\n",
    "ax[1].set_title('KGroups Confusion Matrix (k=36)')\n",
    "plt.show()"
   ]
  },
  {
   "cell_type": "code",
   "execution_count": 37,
   "metadata": {},
   "outputs": [
    {
     "data": {
      "application/vnd.jupyter.widget-view+json": {
       "model_id": "c44cba3cb01442f08b0e8d92c77f0c4c",
       "version_major": 2,
       "version_minor": 0
      },
      "text/plain": [
       "  0%|          | 0/10000 [00:00<?, ?it/s]"
      ]
     },
     "metadata": {},
     "output_type": "display_data"
    },
    {
     "data": {
      "text/plain": [
       "<Figure size 432x288 with 0 Axes>"
      ]
     },
     "metadata": {},
     "output_type": "display_data"
    },
    {
     "data": {
      "image/png": "[encoded data removed]",
      "text/plain": [
       "<Figure size 432x288 with 1 Axes>"
      ]
     },
     "metadata": {},
     "output_type": "display_data"
    }
   ],
   "source": [
    "fig = plt.figure()\n",
    "plot_roc_curve(human_chimp_model_k12group, X_test, y_test)\n",
    "plt.suptitle('KGroups ROC-AUC (k=12)')\n",
    "plt.show()"
   ]
  },
  {
   "cell_type": "code",
   "execution_count": 38,
   "metadata": {},
   "outputs": [
    {
     "data": {
      "application/vnd.jupyter.widget-view+json": {
       "model_id": "a782be495b1f4b83a338232865596964",
       "version_major": 2,
       "version_minor": 0
      },
      "text/plain": [
       "  0%|          | 0/10000 [00:00<?, ?it/s]"
      ]
     },
     "metadata": {},
     "output_type": "display_data"
    },
    {
     "data": {
      "image/png": "[encoded data removed]",
      "text/plain": [
       "<Figure size 432x288 with 1 Axes>"
      ]
     },
     "metadata": {},
     "output_type": "display_data"
    }
   ],
   "source": [
    "plot_roc_curve(human_chimp_model_k36group, X_test, y_test)\n",
    "plt.suptitle('KGroups ROC-AUC (k=36)')\n",
    "plt.show()"
   ]
  },
  {
   "cell_type": "markdown",
   "metadata": {},
   "source": [
    "Now we get 90% accuracy when comparing Human and Chimpanzee DNA and k=36. After pruning columns that were never populated, we used 7386 total columns. Our AUC score is now 96% and is looking even better than in our previous model.\n",
    "\n",
    "So far, so good - let's try this model on Multi-Class data."
   ]
  },
  {
   "cell_type": "markdown",
   "metadata": {},
   "source": [
    "# Multi-Class Classification"
   ]
  },
  {
   "cell_type": "markdown",
   "metadata": {},
   "source": [
    "Now we will try the KGroupKMerTransformer on Multiclass data with k=36."
   ]
  },
  {
   "cell_type": "code",
   "execution_count": 39,
   "metadata": {},
   "outputs": [
    {
     "name": "stdout",
     "output_type": "stream",
     "text": [
      "Finding all k-grouped k-mer permutations for k=36\n",
      "Total columns: 9139\n"
     ]
    },
    {
     "data": {
      "application/vnd.jupyter.widget-view+json": {
       "model_id": "e6eb1549579c438abf877688da15ec13",
       "version_major": 2,
       "version_minor": 0
      },
      "text/plain": [
       "  0%|          | 0/69997 [00:00<?, ?it/s]"
      ]
     },
     "metadata": {},
     "output_type": "display_data"
    },
    {
     "name": "stdout",
     "output_type": "stream",
     "text": [
      "[Pipeline]  (step 1 of 4) Processing kgroup_transformer, total=10.6min\n",
      "\n",
      "            Original Column Length: 9139\n",
      "            Pruned Column Length: 8346\n",
      "            \n",
      "[Pipeline]  (step 2 of 4) Processing kgroup_column_pruner, total=  10.5s\n",
      "[Pipeline] ............ (step 3 of 4) Processing scaler, total=  30.2s\n",
      "[Pipeline] ........ (step 4 of 4) Processing classifier, total= 2.8min\n"
     ]
    },
    {
     "data": {
      "application/vnd.jupyter.widget-view+json": {
       "model_id": "6e0af375d44844e79f3f5c25969289f2",
       "version_major": 2,
       "version_minor": 0
      },
      "text/plain": [
       "  0%|          | 0/23333 [00:00<?, ?it/s]"
      ]
     },
     "metadata": {},
     "output_type": "display_data"
    },
    {
     "name": "stdout",
     "output_type": "stream",
     "text": [
      "Multiclass Performance with KGroup Transformer (k=36)\n",
      "              precision    recall  f1-score   support\n",
      "\n",
      "       chimp       0.91      0.83      0.87      5050\n",
      "     dolphin       0.90      0.87      0.89      5034\n",
      "       human       0.91      0.87      0.89      4964\n",
      "    mushroom       0.73      0.84      0.79      3225\n",
      "         oak       0.86      0.91      0.89      5060\n",
      "\n",
      "    accuracy                           0.87     23333\n",
      "   macro avg       0.86      0.87      0.86     23333\n",
      "weighted avg       0.87      0.87      0.87     23333\n",
      "\n"
     ]
    }
   ],
   "source": [
    "species_compare_df = pd.concat([human_df, chimp_df, dolphin_df, oak_df, mushroom_df], axis=0)\n",
    "\n",
    "multilabeler = LabelEncoder()\n",
    "\n",
    "X = species_compare_df.drop(columns='target')\n",
    "y = multilabeler.fit_transform(species_compare_df['target'])\n",
    "\n",
    "X_train, X_test, y_train, y_test = train_test_split(X, y, random_state=42)\n",
    "\n",
    "multiclass_kgroup_model = Pipeline(steps=[\n",
    "    ('kgroup_transformer', KGroupKMerTransformer(k=36)),\n",
    "    ('kgroup_column_pruner', KGroupColumnPruner()),\n",
    "    ('scaler', StandardScaler()),\n",
    "    ('classifier', ExtraTreesClassifier(random_state=42))\n",
    "], verbose=True)\n",
    "\n",
    "multiclass_kgroup_model.fit(X_train, y_train)\n",
    "y_preds = multiclass_kgroup_model.predict(X_test)\n",
    "\n",
    "print('Multiclass Performance with KGroup Transformer (k=36)')\n",
    "print(classification_report(multilabeler.inverse_transform(y_test), multilabeler.inverse_transform(y_preds)))"
   ]
  },
  {
   "cell_type": "markdown",
   "metadata": {},
   "source": [
    "It seems that the KGroup Multiclass model is a little less accurate than the binary model. Especially in certain classes. For example, the f1-score for Mushroom is particularily low compared to the others. Let's run the original KMerTransformer model on Multiclass data and compare the results."
   ]
  },
  {
   "cell_type": "code",
   "execution_count": 40,
   "metadata": {
    "scrolled": true
   },
   "outputs": [
    {
     "name": "stdout",
     "output_type": "stream",
     "text": [
      "Finding all kmer permutations for k=6\n"
     ]
    },
    {
     "data": {
      "application/vnd.jupyter.widget-view+json": {
       "model_id": "0827e275a2bf4dc6b921c8bfe1a62eda",
       "version_major": 2,
       "version_minor": 0
      },
      "text/plain": [
       "  0%|          | 0/69997 [00:00<?, ?it/s]"
      ]
     },
     "metadata": {},
     "output_type": "display_data"
    },
    {
     "name": "stdout",
     "output_type": "stream",
     "text": [
      "[Pipeline] .. (step 1 of 3) Processing kmer_transformer, total= 3.1min\n",
      "[Pipeline] ............ (step 2 of 3) Processing scaler, total=   6.2s\n",
      "[Pipeline] ........ (step 3 of 3) Processing classifier, total= 1.6min\n"
     ]
    },
    {
     "data": {
      "application/vnd.jupyter.widget-view+json": {
       "model_id": "e49bfd76388b4cec904fd9f070dc134e",
       "version_major": 2,
       "version_minor": 0
      },
      "text/plain": [
       "  0%|          | 0/23333 [00:00<?, ?it/s]"
      ]
     },
     "metadata": {},
     "output_type": "display_data"
    },
    {
     "name": "stdout",
     "output_type": "stream",
     "text": [
      "Multiclass Performance with KMer Transformer (k=6)\n",
      "              precision    recall  f1-score   support\n",
      "\n",
      "       chimp       0.87      0.82      0.84      5050\n",
      "     dolphin       0.93      0.91      0.92      5034\n",
      "       human       0.87      0.86      0.86      4964\n",
      "    mushroom       0.91      0.94      0.93      3225\n",
      "         oak       0.89      0.95      0.92      5060\n",
      "\n",
      "    accuracy                           0.89     23333\n",
      "   macro avg       0.89      0.90      0.90     23333\n",
      "weighted avg       0.89      0.89      0.89     23333\n",
      "\n"
     ]
    }
   ],
   "source": [
    "multiclass_kmer_model = Pipeline(steps=[\n",
    "    ('kmer_transformer', KMerTransformer(k=6)),\n",
    "    ('scaler', StandardScaler()),\n",
    "    ('classifier', ExtraTreesClassifier(random_state=42))\n",
    "], verbose=True)\n",
    "\n",
    "multiclass_kmer_model.fit(X_train, y_train)\n",
    "y_preds = multiclass_kmer_model.predict(X_test)\n",
    "\n",
    "print('Multiclass Performance with KMer Transformer (k=6)')\n",
    "print(classification_report(multilabeler.inverse_transform(y_test), multilabeler.inverse_transform(y_preds)))"
   ]
  },
  {
   "cell_type": "code",
   "execution_count": 41,
   "metadata": {},
   "outputs": [
    {
     "data": {
      "application/vnd.jupyter.widget-view+json": {
       "model_id": "",
       "version_major": 2,
       "version_minor": 0
      },
      "text/plain": [
       "  0%|          | 0/23333 [00:00<?, ?it/s]"
      ]
     },
     "metadata": {},
     "output_type": "display_data"
    },
    {
     "data": {
      "application/vnd.jupyter.widget-view+json": {
       "model_id": "",
       "version_major": 2,
       "version_minor": 0
      },
      "text/plain": [
       "  0%|          | 0/23333 [00:00<?, ?it/s]"
      ]
     },
     "metadata": {},
     "output_type": "display_data"
    },
    {
     "data": {
      "image/png": "[encoded data removed]",
      "text/plain": [
       "<Figure size 1080x360 with 4 Axes>"
      ]
     },
     "metadata": {},
     "output_type": "display_data"
    }
   ],
   "source": [
    "fig, ax = plt.subplots(figsize=(15,5), ncols=2)\n",
    "plot_confusion_matrix(multiclass_kmer_model, X_test, y_test, ax=ax[1])\n",
    "plot_confusion_matrix(multiclass_kgroup_model, X_test, y_test, ax=ax[0])\n",
    "ax[0].set_yticklabels(labels=multilabeler.classes_)\n",
    "ax[1].set_yticklabels(labels=multilabeler.classes_)\n",
    "ax[0].set_xticklabels(labels=multilabeler.classes_, rotation=45)\n",
    "ax[1].set_xticklabels(labels=multilabeler.classes_, rotation=45)\n",
    "ax[0].set_title('K-Groups Transformer (k=36) - Accuracy 87%')\n",
    "ax[1].set_title('K-Mer Transformer (k=6) - Accuracy 89%')\n",
    "plt.show()"
   ]
  },
  {
   "cell_type": "markdown",
   "metadata": {},
   "source": [
    "We can see in this comparison of confusion matrices that the KMerTransformer preprocessed model is much better at classifying some parts of the data that the KGroup Model has a harder time with. Let's try to combine both models into one, and compare those results."
   ]
  },
  {
   "cell_type": "markdown",
   "metadata": {},
   "source": [
    "# KGroup + KMer Model"
   ]
  },
  {
   "cell_type": "markdown",
   "metadata": {},
   "source": [
    "In this section, we will combine the two previous preprocessing transformers we created into one model. First, we will determine the best k for KGroups if KMer k=6.\n",
    "\n",
    "After that, we can find the best hyperparameters for the ExtraTreesClassifier using the k we find in the first grid search."
   ]
  },
  {
   "cell_type": "markdown",
   "metadata": {},
   "source": [
    "### Finding best K for KGroup"
   ]
  },
  {
   "cell_type": "code",
   "execution_count": 42,
   "metadata": {},
   "outputs": [
    {
     "name": "stdout",
     "output_type": "stream",
     "text": [
      "Fitting 3 folds for each of 4 candidates, totalling 12 fits\n",
      "[CV] END ...........trans_union__p1__kgroup_transformer__k=6; total time=  36.7s\n",
      "[CV] END ...........trans_union__p1__kgroup_transformer__k=6; total time=  36.1s\n",
      "[CV] END ...........trans_union__p1__kgroup_transformer__k=6; total time=  36.0s\n",
      "[CV] END ..........trans_union__p1__kgroup_transformer__k=12; total time=  38.4s\n",
      "[CV] END ..........trans_union__p1__kgroup_transformer__k=12; total time=  38.3s\n",
      "[CV] END ..........trans_union__p1__kgroup_transformer__k=12; total time=  38.0s\n",
      "[CV] END ..........trans_union__p1__kgroup_transformer__k=24; total time=  47.4s\n",
      "[CV] END ..........trans_union__p1__kgroup_transformer__k=24; total time=  47.2s\n",
      "[CV] END ..........trans_union__p1__kgroup_transformer__k=24; total time=  47.5s\n",
      "[CV] END ..........trans_union__p1__kgroup_transformer__k=36; total time= 1.1min\n",
      "[CV] END ..........trans_union__p1__kgroup_transformer__k=36; total time= 1.2min\n",
      "[CV] END ..........trans_union__p1__kgroup_transformer__k=36; total time= 1.1min\n"
     ]
    },
    {
     "data": {
      "text/html": [
       "<style>#sk-container-id-2 {color: black;background-color: white;}#sk-container-id-2 pre{padding: 0;}#sk-container-id-2 div.sk-toggleable {background-color: white;}#sk-container-id-2 label.sk-toggleable__label {cursor: pointer;display: block;width: 100%;margin-bottom: 0;padding: 0.3em;box-sizing: border-box;text-align: center;}#sk-container-id-2 label.sk-toggleable__label-arrow:before {content: \"▸\";float: left;margin-right: 0.25em;color: #696969;}#sk-container-id-2 label.sk-toggleable__label-arrow:hover:before {color: black;}#sk-container-id-2 div.sk-estimator:hover label.sk-toggleable__label-arrow:before {color: black;}#sk-container-id-2 div.sk-toggleable__content {max-height: 0;max-width: 0;overflow: hidden;text-align: left;background-color: #f0f8ff;}#sk-container-id-2 div.sk-toggleable__content pre {margin: 0.2em;color: black;border-radius: 0.25em;background-color: #f0f8ff;}#sk-container-id-2 input.sk-toggleable__control:checked~div.sk-toggleable__content {max-height: 200px;max-width: 100%;overflow: auto;}#sk-container-id-2 input.sk-toggleable__control:checked~label.sk-toggleable__label-arrow:before {content: \"▾\";}#sk-container-id-2 div.sk-estimator input.sk-toggleable__control:checked~label.sk-toggleable__label {background-color: #d4ebff;}#sk-container-id-2 div.sk-label input.sk-toggleable__control:checked~label.sk-toggleable__label {background-color: #d4ebff;}#sk-container-id-2 input.sk-hidden--visually {border: 0;clip: rect(1px 1px 1px 1px);clip: rect(1px, 1px, 1px, 1px);height: 1px;margin: -1px;overflow: hidden;padding: 0;position: absolute;width: 1px;}#sk-container-id-2 div.sk-estimator {font-family: monospace;background-color: #f0f8ff;border: 1px dotted black;border-radius: 0.25em;box-sizing: border-box;margin-bottom: 0.5em;}#sk-container-id-2 div.sk-estimator:hover {background-color: #d4ebff;}#sk-container-id-2 div.sk-parallel-item::after {content: \"\";width: 100%;border-bottom: 1px solid gray;flex-grow: 1;}#sk-container-id-2 div.sk-label:hover label.sk-toggleable__label {background-color: #d4ebff;}#sk-container-id-2 div.sk-serial::before {content: \"\";position: absolute;border-left: 1px solid gray;box-sizing: border-box;top: 0;bottom: 0;left: 50%;z-index: 0;}#sk-container-id-2 div.sk-serial {display: flex;flex-direction: column;align-items: center;background-color: white;padding-right: 0.2em;padding-left: 0.2em;position: relative;}#sk-container-id-2 div.sk-item {position: relative;z-index: 1;}#sk-container-id-2 div.sk-parallel {display: flex;align-items: stretch;justify-content: center;background-color: white;position: relative;}#sk-container-id-2 div.sk-item::before, #sk-container-id-2 div.sk-parallel-item::before {content: \"\";position: absolute;border-left: 1px solid gray;box-sizing: border-box;top: 0;bottom: 0;left: 50%;z-index: -1;}#sk-container-id-2 div.sk-parallel-item {display: flex;flex-direction: column;z-index: 1;position: relative;background-color: white;}#sk-container-id-2 div.sk-parallel-item:first-child::after {align-self: flex-end;width: 50%;}#sk-container-id-2 div.sk-parallel-item:last-child::after {align-self: flex-start;width: 50%;}#sk-container-id-2 div.sk-parallel-item:only-child::after {width: 0;}#sk-container-id-2 div.sk-dashed-wrapped {border: 1px dashed gray;margin: 0 0.4em 0.5em 0.4em;box-sizing: border-box;padding-bottom: 0.4em;background-color: white;}#sk-container-id-2 div.sk-label label {font-family: monospace;font-weight: bold;display: inline-block;line-height: 1.2em;}#sk-container-id-2 div.sk-label-container {text-align: center;}#sk-container-id-2 div.sk-container {/* jupyter's `normalize.less` sets `[hidden] { display: none; }` but bootstrap.min.css set `[hidden] { display: none !important; }` so we also need the `!important` here to be able to override the default hidden behavior on the sphinx rendered scikit-learn.org. See: https://github.com/scikit-learn/scikit-learn/issues/21755 */display: inline-block !important;position: relative;}#sk-container-id-2 div.sk-text-repr-fallback {display: none;}</style><div id=\"sk-container-id-2\" class=\"sk-top-container\"><div class=\"sk-text-repr-fallback\"><pre>GridSearchCV(cv=3,\n",
       "             estimator=Pipeline(steps=[(&#x27;trans_union&#x27;,\n",
       "                                        FeatureUnion(transformer_list=[(&#x27;p1&#x27;,\n",
       "                                                                        Pipeline(steps=[(&#x27;kgroup_transformer&#x27;,\n",
       "                                                                                         KGroupKMerTransformer(k=12,\n",
       "                                                                                                               verbose=False)),\n",
       "                                                                                        (&#x27;kgroup_column_pruner&#x27;,\n",
       "                                                                                         KGroupColumnPruner(verbose=False))])),\n",
       "                                                                       (&#x27;p2&#x27;,\n",
       "                                                                        Pipeline(steps=[(&#x27;kmer_transformer&#x27;,\n",
       "                                                                                         KMerTransformer(k=6,\n",
       "                                                                                                         verbose=False))]))])),\n",
       "                                       (&#x27;scaler&#x27;, StandardScaler()),\n",
       "                                       (&#x27;classifier&#x27;,\n",
       "                                        ExtraTreesClassifier(random_state=42))]),\n",
       "             param_grid={&#x27;trans_union__p1__kgroup_transformer__k&#x27;: [6, 12, 24,\n",
       "                                                                    36]},\n",
       "             scoring=&#x27;accuracy&#x27;, verbose=2)</pre><b>In a Jupyter environment, please rerun this cell to show the HTML representation or trust the notebook. <br />On GitHub, the HTML representation is unable to render, please try loading this page with nbviewer.org.</b></div><div class=\"sk-container\" hidden><div class=\"sk-item sk-dashed-wrapped\"><div class=\"sk-label-container\"><div class=\"sk-label sk-toggleable\"><input class=\"sk-toggleable__control sk-hidden--visually\" id=\"sk-estimator-id-4\" type=\"checkbox\" ><label for=\"sk-estimator-id-4\" class=\"sk-toggleable__label sk-toggleable__label-arrow\">GridSearchCV</label><div class=\"sk-toggleable__content\"><pre>GridSearchCV(cv=3,\n",
       "             estimator=Pipeline(steps=[(&#x27;trans_union&#x27;,\n",
       "                                        FeatureUnion(transformer_list=[(&#x27;p1&#x27;,\n",
       "                                                                        Pipeline(steps=[(&#x27;kgroup_transformer&#x27;,\n",
       "                                                                                         KGroupKMerTransformer(k=12,\n",
       "                                                                                                               verbose=False)),\n",
       "                                                                                        (&#x27;kgroup_column_pruner&#x27;,\n",
       "                                                                                         KGroupColumnPruner(verbose=False))])),\n",
       "                                                                       (&#x27;p2&#x27;,\n",
       "                                                                        Pipeline(steps=[(&#x27;kmer_transformer&#x27;,\n",
       "                                                                                         KMerTransformer(k=6,\n",
       "                                                                                                         verbose=False))]))])),\n",
       "                                       (&#x27;scaler&#x27;, StandardScaler()),\n",
       "                                       (&#x27;classifier&#x27;,\n",
       "                                        ExtraTreesClassifier(random_state=42))]),\n",
       "             param_grid={&#x27;trans_union__p1__kgroup_transformer__k&#x27;: [6, 12, 24,\n",
       "                                                                    36]},\n",
       "             scoring=&#x27;accuracy&#x27;, verbose=2)</pre></div></div></div><div class=\"sk-parallel\"><div class=\"sk-parallel-item\"><div class=\"sk-item\"><div class=\"sk-label-container\"><div class=\"sk-label sk-toggleable\"><input class=\"sk-toggleable__control sk-hidden--visually\" id=\"sk-estimator-id-5\" type=\"checkbox\" ><label for=\"sk-estimator-id-5\" class=\"sk-toggleable__label sk-toggleable__label-arrow\">estimator: Pipeline</label><div class=\"sk-toggleable__content\"><pre>Pipeline(steps=[(&#x27;trans_union&#x27;,\n",
       "                 FeatureUnion(transformer_list=[(&#x27;p1&#x27;,\n",
       "                                                 Pipeline(steps=[(&#x27;kgroup_transformer&#x27;,\n",
       "                                                                  KGroupKMerTransformer(k=12,\n",
       "                                                                                        verbose=False)),\n",
       "                                                                 (&#x27;kgroup_column_pruner&#x27;,\n",
       "                                                                  KGroupColumnPruner(verbose=False))])),\n",
       "                                                (&#x27;p2&#x27;,\n",
       "                                                 Pipeline(steps=[(&#x27;kmer_transformer&#x27;,\n",
       "                                                                  KMerTransformer(k=6,\n",
       "                                                                                  verbose=False))]))])),\n",
       "                (&#x27;scaler&#x27;, StandardScaler()),\n",
       "                (&#x27;classifier&#x27;, ExtraTreesClassifier(random_state=42))])</pre></div></div></div><div class=\"sk-serial\"><div class=\"sk-item\"><div class=\"sk-serial\"><div class=\"sk-item sk-dashed-wrapped\"><div class=\"sk-label-container\"><div class=\"sk-label sk-toggleable\"><input class=\"sk-toggleable__control sk-hidden--visually\" id=\"sk-estimator-id-6\" type=\"checkbox\" ><label for=\"sk-estimator-id-6\" class=\"sk-toggleable__label sk-toggleable__label-arrow\">trans_union: FeatureUnion</label><div class=\"sk-toggleable__content\"><pre>FeatureUnion(transformer_list=[(&#x27;p1&#x27;,\n",
       "                                Pipeline(steps=[(&#x27;kgroup_transformer&#x27;,\n",
       "                                                 KGroupKMerTransformer(k=12,\n",
       "                                                                       verbose=False)),\n",
       "                                                (&#x27;kgroup_column_pruner&#x27;,\n",
       "                                                 KGroupColumnPruner(verbose=False))])),\n",
       "                               (&#x27;p2&#x27;,\n",
       "                                Pipeline(steps=[(&#x27;kmer_transformer&#x27;,\n",
       "                                                 KMerTransformer(k=6,\n",
       "                                                                 verbose=False))]))])</pre></div></div></div><div class=\"sk-parallel\"><div class=\"sk-parallel-item\"><div class=\"sk-item\"><div class=\"sk-label-container\"><div class=\"sk-label sk-toggleable\"><label>p1</label></div></div><div class=\"sk-serial\"><div class=\"sk-item\"><div class=\"sk-serial\"><div class=\"sk-item\"><div class=\"sk-estimator sk-toggleable\"><input class=\"sk-toggleable__control sk-hidden--visually\" id=\"sk-estimator-id-7\" type=\"checkbox\" ><label for=\"sk-estimator-id-7\" class=\"sk-toggleable__label sk-toggleable__label-arrow\">KGroupKMerTransformer</label><div class=\"sk-toggleable__content\"><pre>KGroupKMerTransformer(k=12, verbose=False)</pre></div></div></div><div class=\"sk-item\"><div class=\"sk-estimator sk-toggleable\"><input class=\"sk-toggleable__control sk-hidden--visually\" id=\"sk-estimator-id-8\" type=\"checkbox\" ><label for=\"sk-estimator-id-8\" class=\"sk-toggleable__label sk-toggleable__label-arrow\">KGroupColumnPruner</label><div class=\"sk-toggleable__content\"><pre>KGroupColumnPruner(verbose=False)</pre></div></div></div></div></div></div></div></div><div class=\"sk-parallel-item\"><div class=\"sk-item\"><div class=\"sk-label-container\"><div class=\"sk-label sk-toggleable\"><label>p2</label></div></div><div class=\"sk-serial\"><div class=\"sk-item\"><div class=\"sk-serial\"><div class=\"sk-item\"><div class=\"sk-estimator sk-toggleable\"><input class=\"sk-toggleable__control sk-hidden--visually\" id=\"sk-estimator-id-9\" type=\"checkbox\" ><label for=\"sk-estimator-id-9\" class=\"sk-toggleable__label sk-toggleable__label-arrow\">KMerTransformer</label><div class=\"sk-toggleable__content\"><pre>KMerTransformer(k=6, verbose=False)</pre></div></div></div></div></div></div></div></div></div></div><div class=\"sk-item\"><div class=\"sk-estimator sk-toggleable\"><input class=\"sk-toggleable__control sk-hidden--visually\" id=\"sk-estimator-id-10\" type=\"checkbox\" ><label for=\"sk-estimator-id-10\" class=\"sk-toggleable__label sk-toggleable__label-arrow\">StandardScaler</label><div class=\"sk-toggleable__content\"><pre>StandardScaler()</pre></div></div></div><div class=\"sk-item\"><div class=\"sk-estimator sk-toggleable\"><input class=\"sk-toggleable__control sk-hidden--visually\" id=\"sk-estimator-id-11\" type=\"checkbox\" ><label for=\"sk-estimator-id-11\" class=\"sk-toggleable__label sk-toggleable__label-arrow\">ExtraTreesClassifier</label><div class=\"sk-toggleable__content\"><pre>ExtraTreesClassifier(random_state=42)</pre></div></div></div></div></div></div></div></div></div></div></div></div>"
      ],
      "text/plain": [
       "GridSearchCV(cv=3,\n",
       "             estimator=Pipeline(steps=[('trans_union',\n",
       "                                        FeatureUnion(transformer_list=[('p1',\n",
       "                                                                        Pipeline(steps=[('kgroup_transformer',\n",
       "                                                                                         KGroupKMerTransformer(k=12,\n",
       "                                                                                                               verbose=False)),\n",
       "                                                                                        ('kgroup_column_pruner',\n",
       "                                                                                         KGroupColumnPruner(verbose=False))])),\n",
       "                                                                       ('p2',\n",
       "                                                                        Pipeline(steps=[('kmer_transformer',\n",
       "                                                                                         KMerTransformer(k=6,\n",
       "                                                                                                         verbose=False))]))])),\n",
       "                                       ('scaler', StandardScaler()),\n",
       "                                       ('classifier',\n",
       "                                        ExtraTreesClassifier(random_state=42))]),\n",
       "             param_grid={'trans_union__p1__kgroup_transformer__k': [6, 12, 24,\n",
       "                                                                    36]},\n",
       "             scoring='accuracy', verbose=2)"
      ]
     },
     "execution_count": 42,
     "metadata": {},
     "output_type": "execute_result"
    }
   ],
   "source": [
    "\n",
    "species_compare_df = pd.concat([human_df, chimp_df, dolphin_df, oak_df, mushroom_df], axis=0)\n",
    "\n",
    "species_compare_df_sample = species_compare_df.sample(n=10000, random_state=42)\n",
    "\n",
    "multilabeler = LabelEncoder()\n",
    "\n",
    "X = species_compare_df_sample.drop(columns='target')\n",
    "y = multilabeler.fit_transform(species_compare_df_sample['target'])\n",
    "\n",
    "X_train, X_test, y_train, y_test = train_test_split(X, y, random_state=42)\n",
    "\n",
    "multiclass_model = Pipeline(steps=[\n",
    "    ('trans_union', FeatureUnion([\n",
    "        ('p1', Pipeline([\n",
    "            ('kgroup_transformer', KGroupKMerTransformer(k=12, verbose=False)),\n",
    "            ('kgroup_column_pruner', KGroupColumnPruner(verbose=False)),\n",
    "        ])),\n",
    "        ('p2', Pipeline([\n",
    "            ('kmer_transformer', KMerTransformer(k=6,verbose=False))\n",
    "        ])),\n",
    "    ])),    \n",
    "    ('scaler', StandardScaler()),\n",
    "    ('classifier', ExtraTreesClassifier(random_state=42))\n",
    "])\n",
    "\n",
    "\n",
    "params = {\n",
    "    'trans_union__p1__kgroup_transformer__k':[6,12,24,36],\n",
    "}\n",
    "\n",
    "grid_searcher = GridSearchCV(multiclass_model, param_grid=params, cv=3, scoring='accuracy', verbose=2)\n",
    "\n",
    "grid_searcher.fit(X_train, y_train)"
   ]
  },
  {
   "cell_type": "code",
   "execution_count": 43,
   "metadata": {},
   "outputs": [
    {
     "name": "stdout",
     "output_type": "stream",
     "text": [
      "Best Estimator:\n",
      "Pipeline(steps=[('trans_union',\n",
      "                 FeatureUnion(transformer_list=[('p1',\n",
      "                                                 Pipeline(steps=[('kgroup_transformer',\n",
      "                                                                  KGroupKMerTransformer(k=24,\n",
      "                                                                                        verbose=False)),\n",
      "                                                                 ('kgroup_column_pruner',\n",
      "                                                                  KGroupColumnPruner(verbose=False))])),\n",
      "                                                ('p2',\n",
      "                                                 Pipeline(steps=[('kmer_transformer',\n",
      "                                                                  KMerTransformer(k=6,\n",
      "                                                                                  verbose=False))]))])),\n",
      "                ('scaler', StandardScaler()),\n",
      "                ('classifier', ExtraTreesClassifier(random_state=42))])\n"
     ]
    }
   ],
   "source": [
    "best_est = grid_searcher.best_estimator_\n",
    "y_preds = best_est.predict(X_test)\n",
    "    \n",
    "print('Best Estimator:')\n",
    "print(best_est)"
   ]
  },
  {
   "cell_type": "code",
   "execution_count": 44,
   "metadata": {},
   "outputs": [
    {
     "data": {
      "text/plain": [
       "{'mean_fit_time': array([27.63677263, 29.13313905, 35.50011532, 51.15251565]),\n",
       " 'std_fit_time': array([0.32389264, 0.29579268, 0.38817114, 0.52396591]),\n",
       " 'mean_score_time': array([ 8.63975096,  9.11909993, 11.89831241, 17.53806933]),\n",
       " 'std_score_time': array([0.08770942, 0.1450093 , 0.49146969, 0.50088998]),\n",
       " 'param_trans_union__p1__kgroup_transformer__k': masked_array(data=[6, 12, 24, 36],\n",
       "              mask=[False, False, False, False],\n",
       "        fill_value='?',\n",
       "             dtype=object),\n",
       " 'params': [{'trans_union__p1__kgroup_transformer__k': 6},\n",
       "  {'trans_union__p1__kgroup_transformer__k': 12},\n",
       "  {'trans_union__p1__kgroup_transformer__k': 24},\n",
       "  {'trans_union__p1__kgroup_transformer__k': 36}],\n",
       " 'split0_test_score': array([0.63  , 0.6344, 0.6372, 0.6332]),\n",
       " 'split1_test_score': array([0.6488, 0.6448, 0.6488, 0.6436]),\n",
       " 'split2_test_score': array([0.6288, 0.6404, 0.6384, 0.6376]),\n",
       " 'mean_test_score': array([0.63586667, 0.63986667, 0.64146667, 0.63813333]),\n",
       " 'std_test_score': array([0.00915836, 0.0042625 , 0.00520854, 0.0042625 ]),\n",
       " 'rank_test_score': array([4, 2, 1, 3], dtype=int32)}"
      ]
     },
     "execution_count": 44,
     "metadata": {},
     "output_type": "execute_result"
    }
   ],
   "source": [
    "grid_searcher.cv_results_"
   ]
  },
  {
   "cell_type": "markdown",
   "metadata": {},
   "source": [
    "Based on these results. The best k for KGroup Transformer is k=24, when the KMerTransformer k=6. Let's try that in next section, and fine tune the ExtraTreesClassifier using a grid search."
   ]
  },
  {
   "cell_type": "markdown",
   "metadata": {},
   "source": [
    "### Finding best hyperparameters for ExtraTreesClassifier"
   ]
  },
  {
   "cell_type": "code",
   "execution_count": 45,
   "metadata": {},
   "outputs": [
    {
     "name": "stdout",
     "output_type": "stream",
     "text": [
      "Fitting 3 folds for each of 240 candidates, totalling 720 fits\n"
     ]
    }
   ],
   "source": [
    "species_compare_df = pd.concat([human_df, chimp_df, dolphin_df, oak_df, mushroom_df], axis=0)\n",
    "\n",
    "species_compare_df_sample = species_compare_df.sample(n=10000, random_state=42)\n",
    "\n",
    "multilabeler = LabelEncoder()\n",
    "\n",
    "X = species_compare_df_sample.drop(columns='target')\n",
    "y = multilabeler.fit_transform(species_compare_df_sample['target'])\n",
    "\n",
    "X_train, X_test, y_train, y_test = train_test_split(X, y, random_state=42)\n",
    "\n",
    "k_trans = Pipeline([\n",
    "    ('trans_union', FeatureUnion([\n",
    "            ('p1', Pipeline([\n",
    "                ('kgroup_transformer', KGroupKMerTransformer(k=24, verbose=False)),\n",
    "                ('kgroup_column_pruner', KGroupColumnPruner(verbose=False)),\n",
    "            ])),\n",
    "            ('p2', Pipeline([\n",
    "                ('kmer_transformer', KMerTransformer(k=6, verbose=False))\n",
    "            ]))\n",
    "        ]))\n",
    "])\n",
    "\n",
    "X_train_trans = k_trans.fit_transform(X_train)\n",
    "X_test_trans = k_trans.transform(X_test)\n",
    "\n",
    "multiclass_model = Pipeline(steps=[  \n",
    "    ('scaler', StandardScaler()),\n",
    "    ('classifier', ExtraTreesClassifier(random_state=42))\n",
    "])\n",
    "\n",
    "\n",
    "params = {\n",
    "    'classifier__n_estimators':range(100,350,50),\n",
    "    'classifier__criterion':['gini', 'entropy', 'log_loss'],\n",
    "    'classifier__max_features':['sqrt','log2'],\n",
    "    'classifier__min_samples_leaf':np.linspace(1,50,8, dtype=int)\n",
    "}\n",
    "\n",
    "grid_searcher = GridSearchCV(multiclass_model, param_grid=params, cv=3, scoring='accuracy', verbose=1)\n",
    "\n",
    "with parallel_backend('threading', n_jobs=-1):\n",
    "    grid_searcher.fit(X_train_trans, y_train)"
   ]
  },
  {
   "cell_type": "code",
   "execution_count": 46,
   "metadata": {},
   "outputs": [
    {
     "data": {
      "text/html": [
       "<style>#sk-container-id-3 {color: black;background-color: white;}#sk-container-id-3 pre{padding: 0;}#sk-container-id-3 div.sk-toggleable {background-color: white;}#sk-container-id-3 label.sk-toggleable__label {cursor: pointer;display: block;width: 100%;margin-bottom: 0;padding: 0.3em;box-sizing: border-box;text-align: center;}#sk-container-id-3 label.sk-toggleable__label-arrow:before {content: \"▸\";float: left;margin-right: 0.25em;color: #696969;}#sk-container-id-3 label.sk-toggleable__label-arrow:hover:before {color: black;}#sk-container-id-3 div.sk-estimator:hover label.sk-toggleable__label-arrow:before {color: black;}#sk-container-id-3 div.sk-toggleable__content {max-height: 0;max-width: 0;overflow: hidden;text-align: left;background-color: #f0f8ff;}#sk-container-id-3 div.sk-toggleable__content pre {margin: 0.2em;color: black;border-radius: 0.25em;background-color: #f0f8ff;}#sk-container-id-3 input.sk-toggleable__control:checked~div.sk-toggleable__content {max-height: 200px;max-width: 100%;overflow: auto;}#sk-container-id-3 input.sk-toggleable__control:checked~label.sk-toggleable__label-arrow:before {content: \"▾\";}#sk-container-id-3 div.sk-estimator input.sk-toggleable__control:checked~label.sk-toggleable__label {background-color: #d4ebff;}#sk-container-id-3 div.sk-label input.sk-toggleable__control:checked~label.sk-toggleable__label {background-color: #d4ebff;}#sk-container-id-3 input.sk-hidden--visually {border: 0;clip: rect(1px 1px 1px 1px);clip: rect(1px, 1px, 1px, 1px);height: 1px;margin: -1px;overflow: hidden;padding: 0;position: absolute;width: 1px;}#sk-container-id-3 div.sk-estimator {font-family: monospace;background-color: #f0f8ff;border: 1px dotted black;border-radius: 0.25em;box-sizing: border-box;margin-bottom: 0.5em;}#sk-container-id-3 div.sk-estimator:hover {background-color: #d4ebff;}#sk-container-id-3 div.sk-parallel-item::after {content: \"\";width: 100%;border-bottom: 1px solid gray;flex-grow: 1;}#sk-container-id-3 div.sk-label:hover label.sk-toggleable__label {background-color: #d4ebff;}#sk-container-id-3 div.sk-serial::before {content: \"\";position: absolute;border-left: 1px solid gray;box-sizing: border-box;top: 0;bottom: 0;left: 50%;z-index: 0;}#sk-container-id-3 div.sk-serial {display: flex;flex-direction: column;align-items: center;background-color: white;padding-right: 0.2em;padding-left: 0.2em;position: relative;}#sk-container-id-3 div.sk-item {position: relative;z-index: 1;}#sk-container-id-3 div.sk-parallel {display: flex;align-items: stretch;justify-content: center;background-color: white;position: relative;}#sk-container-id-3 div.sk-item::before, #sk-container-id-3 div.sk-parallel-item::before {content: \"\";position: absolute;border-left: 1px solid gray;box-sizing: border-box;top: 0;bottom: 0;left: 50%;z-index: -1;}#sk-container-id-3 div.sk-parallel-item {display: flex;flex-direction: column;z-index: 1;position: relative;background-color: white;}#sk-container-id-3 div.sk-parallel-item:first-child::after {align-self: flex-end;width: 50%;}#sk-container-id-3 div.sk-parallel-item:last-child::after {align-self: flex-start;width: 50%;}#sk-container-id-3 div.sk-parallel-item:only-child::after {width: 0;}#sk-container-id-3 div.sk-dashed-wrapped {border: 1px dashed gray;margin: 0 0.4em 0.5em 0.4em;box-sizing: border-box;padding-bottom: 0.4em;background-color: white;}#sk-container-id-3 div.sk-label label {font-family: monospace;font-weight: bold;display: inline-block;line-height: 1.2em;}#sk-container-id-3 div.sk-label-container {text-align: center;}#sk-container-id-3 div.sk-container {/* jupyter's `normalize.less` sets `[hidden] { display: none; }` but bootstrap.min.css set `[hidden] { display: none !important; }` so we also need the `!important` here to be able to override the default hidden behavior on the sphinx rendered scikit-learn.org. See: https://github.com/scikit-learn/scikit-learn/issues/21755 */display: inline-block !important;position: relative;}#sk-container-id-3 div.sk-text-repr-fallback {display: none;}</style><div id=\"sk-container-id-3\" class=\"sk-top-container\"><div class=\"sk-text-repr-fallback\"><pre>Pipeline(steps=[(&#x27;scaler&#x27;, StandardScaler()),\n",
       "                (&#x27;classifier&#x27;,\n",
       "                 ExtraTreesClassifier(n_estimators=300, random_state=42))])</pre><b>In a Jupyter environment, please rerun this cell to show the HTML representation or trust the notebook. <br />On GitHub, the HTML representation is unable to render, please try loading this page with nbviewer.org.</b></div><div class=\"sk-container\" hidden><div class=\"sk-item sk-dashed-wrapped\"><div class=\"sk-label-container\"><div class=\"sk-label sk-toggleable\"><input class=\"sk-toggleable__control sk-hidden--visually\" id=\"sk-estimator-id-12\" type=\"checkbox\" ><label for=\"sk-estimator-id-12\" class=\"sk-toggleable__label sk-toggleable__label-arrow\">Pipeline</label><div class=\"sk-toggleable__content\"><pre>Pipeline(steps=[(&#x27;scaler&#x27;, StandardScaler()),\n",
       "                (&#x27;classifier&#x27;,\n",
       "                 ExtraTreesClassifier(n_estimators=300, random_state=42))])</pre></div></div></div><div class=\"sk-serial\"><div class=\"sk-item\"><div class=\"sk-estimator sk-toggleable\"><input class=\"sk-toggleable__control sk-hidden--visually\" id=\"sk-estimator-id-13\" type=\"checkbox\" ><label for=\"sk-estimator-id-13\" class=\"sk-toggleable__label sk-toggleable__label-arrow\">StandardScaler</label><div class=\"sk-toggleable__content\"><pre>StandardScaler()</pre></div></div></div><div class=\"sk-item\"><div class=\"sk-estimator sk-toggleable\"><input class=\"sk-toggleable__control sk-hidden--visually\" id=\"sk-estimator-id-14\" type=\"checkbox\" ><label for=\"sk-estimator-id-14\" class=\"sk-toggleable__label sk-toggleable__label-arrow\">ExtraTreesClassifier</label><div class=\"sk-toggleable__content\"><pre>ExtraTreesClassifier(n_estimators=300, random_state=42)</pre></div></div></div></div></div></div></div>"
      ],
      "text/plain": [
       "Pipeline(steps=[('scaler', StandardScaler()),\n",
       "                ('classifier',\n",
       "                 ExtraTreesClassifier(n_estimators=300, random_state=42))])"
      ]
     },
     "execution_count": 46,
     "metadata": {},
     "output_type": "execute_result"
    }
   ],
   "source": [
    "grid_searcher.best_estimator_"
   ]
  },
  {
   "cell_type": "markdown",
   "metadata": {},
   "source": [
    "# Final Model\n",
    "\n",
    "For the final model, I will add the hyperparameters I found from the grid searches.\n",
    "- KGroupTransformer: k=24\n",
    "- KMerTransformer: k=6\n",
    "- ExtraTreesClassifier: n_estimators=300"
   ]
  },
  {
   "cell_type": "code",
   "execution_count": 47,
   "metadata": {},
   "outputs": [
    {
     "name": "stdout",
     "output_type": "stream",
     "text": [
      "Finding all k-grouped k-mer permutations for k=24\n",
      "Total columns: 2925\n"
     ]
    },
    {
     "data": {
      "application/vnd.jupyter.widget-view+json": {
       "model_id": "997351e63a9c47da81e51bf4758b7394",
       "version_major": 2,
       "version_minor": 0
      },
      "text/plain": [
       "  0%|          | 0/69997 [00:00<?, ?it/s]"
      ]
     },
     "metadata": {},
     "output_type": "display_data"
    },
    {
     "name": "stdout",
     "output_type": "stream",
     "text": [
      "\n",
      "            Original Column Length: 2925\n",
      "            Pruned Column Length: 2884\n",
      "            \n",
      "Finding all kmer permutations for k=6\n"
     ]
    },
    {
     "data": {
      "application/vnd.jupyter.widget-view+json": {
       "model_id": "253e648909ce446eac1b660f730c486d",
       "version_major": 2,
       "version_minor": 0
      },
      "text/plain": [
       "  0%|          | 0/69997 [00:00<?, ?it/s]"
      ]
     },
     "metadata": {},
     "output_type": "display_data"
    },
    {
     "data": {
      "application/vnd.jupyter.widget-view+json": {
       "model_id": "20634b369b9d432bb03ba078eb16503b",
       "version_major": 2,
       "version_minor": 0
      },
      "text/plain": [
       "  0%|          | 0/23333 [00:00<?, ?it/s]"
      ]
     },
     "metadata": {},
     "output_type": "display_data"
    },
    {
     "data": {
      "application/vnd.jupyter.widget-view+json": {
       "model_id": "c5962718fb3c4568b6d90c340dd17fa7",
       "version_major": 2,
       "version_minor": 0
      },
      "text/plain": [
       "  0%|          | 0/23333 [00:00<?, ?it/s]"
      ]
     },
     "metadata": {},
     "output_type": "display_data"
    },
    {
     "data": {
      "text/html": [
       "<style>#sk-container-id-4 {color: black;background-color: white;}#sk-container-id-4 pre{padding: 0;}#sk-container-id-4 div.sk-toggleable {background-color: white;}#sk-container-id-4 label.sk-toggleable__label {cursor: pointer;display: block;width: 100%;margin-bottom: 0;padding: 0.3em;box-sizing: border-box;text-align: center;}#sk-container-id-4 label.sk-toggleable__label-arrow:before {content: \"▸\";float: left;margin-right: 0.25em;color: #696969;}#sk-container-id-4 label.sk-toggleable__label-arrow:hover:before {color: black;}#sk-container-id-4 div.sk-estimator:hover label.sk-toggleable__label-arrow:before {color: black;}#sk-container-id-4 div.sk-toggleable__content {max-height: 0;max-width: 0;overflow: hidden;text-align: left;background-color: #f0f8ff;}#sk-container-id-4 div.sk-toggleable__content pre {margin: 0.2em;color: black;border-radius: 0.25em;background-color: #f0f8ff;}#sk-container-id-4 input.sk-toggleable__control:checked~div.sk-toggleable__content {max-height: 200px;max-width: 100%;overflow: auto;}#sk-container-id-4 input.sk-toggleable__control:checked~label.sk-toggleable__label-arrow:before {content: \"▾\";}#sk-container-id-4 div.sk-estimator input.sk-toggleable__control:checked~label.sk-toggleable__label {background-color: #d4ebff;}#sk-container-id-4 div.sk-label input.sk-toggleable__control:checked~label.sk-toggleable__label {background-color: #d4ebff;}#sk-container-id-4 input.sk-hidden--visually {border: 0;clip: rect(1px 1px 1px 1px);clip: rect(1px, 1px, 1px, 1px);height: 1px;margin: -1px;overflow: hidden;padding: 0;position: absolute;width: 1px;}#sk-container-id-4 div.sk-estimator {font-family: monospace;background-color: #f0f8ff;border: 1px dotted black;border-radius: 0.25em;box-sizing: border-box;margin-bottom: 0.5em;}#sk-container-id-4 div.sk-estimator:hover {background-color: #d4ebff;}#sk-container-id-4 div.sk-parallel-item::after {content: \"\";width: 100%;border-bottom: 1px solid gray;flex-grow: 1;}#sk-container-id-4 div.sk-label:hover label.sk-toggleable__label {background-color: #d4ebff;}#sk-container-id-4 div.sk-serial::before {content: \"\";position: absolute;border-left: 1px solid gray;box-sizing: border-box;top: 0;bottom: 0;left: 50%;z-index: 0;}#sk-container-id-4 div.sk-serial {display: flex;flex-direction: column;align-items: center;background-color: white;padding-right: 0.2em;padding-left: 0.2em;position: relative;}#sk-container-id-4 div.sk-item {position: relative;z-index: 1;}#sk-container-id-4 div.sk-parallel {display: flex;align-items: stretch;justify-content: center;background-color: white;position: relative;}#sk-container-id-4 div.sk-item::before, #sk-container-id-4 div.sk-parallel-item::before {content: \"\";position: absolute;border-left: 1px solid gray;box-sizing: border-box;top: 0;bottom: 0;left: 50%;z-index: -1;}#sk-container-id-4 div.sk-parallel-item {display: flex;flex-direction: column;z-index: 1;position: relative;background-color: white;}#sk-container-id-4 div.sk-parallel-item:first-child::after {align-self: flex-end;width: 50%;}#sk-container-id-4 div.sk-parallel-item:last-child::after {align-self: flex-start;width: 50%;}#sk-container-id-4 div.sk-parallel-item:only-child::after {width: 0;}#sk-container-id-4 div.sk-dashed-wrapped {border: 1px dashed gray;margin: 0 0.4em 0.5em 0.4em;box-sizing: border-box;padding-bottom: 0.4em;background-color: white;}#sk-container-id-4 div.sk-label label {font-family: monospace;font-weight: bold;display: inline-block;line-height: 1.2em;}#sk-container-id-4 div.sk-label-container {text-align: center;}#sk-container-id-4 div.sk-container {/* jupyter's `normalize.less` sets `[hidden] { display: none; }` but bootstrap.min.css set `[hidden] { display: none !important; }` so we also need the `!important` here to be able to override the default hidden behavior on the sphinx rendered scikit-learn.org. See: https://github.com/scikit-learn/scikit-learn/issues/21755 */display: inline-block !important;position: relative;}#sk-container-id-4 div.sk-text-repr-fallback {display: none;}</style><div id=\"sk-container-id-4\" class=\"sk-top-container\"><div class=\"sk-text-repr-fallback\"><pre>Pipeline(steps=[(&#x27;trans_union&#x27;,\n",
       "                 FeatureUnion(transformer_list=[(&#x27;p1&#x27;,\n",
       "                                                 Pipeline(steps=[(&#x27;kgroup_transformer&#x27;,\n",
       "                                                                  KGroupKMerTransformer(k=24)),\n",
       "                                                                 (&#x27;kgroup_column_pruner&#x27;,\n",
       "                                                                  KGroupColumnPruner())])),\n",
       "                                                (&#x27;p2&#x27;,\n",
       "                                                 Pipeline(steps=[(&#x27;kmer_transformer&#x27;,\n",
       "                                                                  KMerTransformer(k=6,\n",
       "                                                                                  normalize=True))]))])),\n",
       "                (&#x27;scaler&#x27;, StandardScaler()),\n",
       "                (&#x27;classifier&#x27;,\n",
       "                 ExtraTreesClassifier(n_estimators=300, random_state=42))])</pre><b>In a Jupyter environment, please rerun this cell to show the HTML representation or trust the notebook. <br />On GitHub, the HTML representation is unable to render, please try loading this page with nbviewer.org.</b></div><div class=\"sk-container\" hidden><div class=\"sk-item sk-dashed-wrapped\"><div class=\"sk-label-container\"><div class=\"sk-label sk-toggleable\"><input class=\"sk-toggleable__control sk-hidden--visually\" id=\"sk-estimator-id-15\" type=\"checkbox\" ><label for=\"sk-estimator-id-15\" class=\"sk-toggleable__label sk-toggleable__label-arrow\">Pipeline</label><div class=\"sk-toggleable__content\"><pre>Pipeline(steps=[(&#x27;trans_union&#x27;,\n",
       "                 FeatureUnion(transformer_list=[(&#x27;p1&#x27;,\n",
       "                                                 Pipeline(steps=[(&#x27;kgroup_transformer&#x27;,\n",
       "                                                                  KGroupKMerTransformer(k=24)),\n",
       "                                                                 (&#x27;kgroup_column_pruner&#x27;,\n",
       "                                                                  KGroupColumnPruner())])),\n",
       "                                                (&#x27;p2&#x27;,\n",
       "                                                 Pipeline(steps=[(&#x27;kmer_transformer&#x27;,\n",
       "                                                                  KMerTransformer(k=6,\n",
       "                                                                                  normalize=True))]))])),\n",
       "                (&#x27;scaler&#x27;, StandardScaler()),\n",
       "                (&#x27;classifier&#x27;,\n",
       "                 ExtraTreesClassifier(n_estimators=300, random_state=42))])</pre></div></div></div><div class=\"sk-serial\"><div class=\"sk-item sk-dashed-wrapped\"><div class=\"sk-label-container\"><div class=\"sk-label sk-toggleable\"><input class=\"sk-toggleable__control sk-hidden--visually\" id=\"sk-estimator-id-16\" type=\"checkbox\" ><label for=\"sk-estimator-id-16\" class=\"sk-toggleable__label sk-toggleable__label-arrow\">trans_union: FeatureUnion</label><div class=\"sk-toggleable__content\"><pre>FeatureUnion(transformer_list=[(&#x27;p1&#x27;,\n",
       "                                Pipeline(steps=[(&#x27;kgroup_transformer&#x27;,\n",
       "                                                 KGroupKMerTransformer(k=24)),\n",
       "                                                (&#x27;kgroup_column_pruner&#x27;,\n",
       "                                                 KGroupColumnPruner())])),\n",
       "                               (&#x27;p2&#x27;,\n",
       "                                Pipeline(steps=[(&#x27;kmer_transformer&#x27;,\n",
       "                                                 KMerTransformer(k=6,\n",
       "                                                                 normalize=True))]))])</pre></div></div></div><div class=\"sk-parallel\"><div class=\"sk-parallel-item\"><div class=\"sk-item\"><div class=\"sk-label-container\"><div class=\"sk-label sk-toggleable\"><label>p1</label></div></div><div class=\"sk-serial\"><div class=\"sk-item\"><div class=\"sk-serial\"><div class=\"sk-item\"><div class=\"sk-estimator sk-toggleable\"><input class=\"sk-toggleable__control sk-hidden--visually\" id=\"sk-estimator-id-17\" type=\"checkbox\" ><label for=\"sk-estimator-id-17\" class=\"sk-toggleable__label sk-toggleable__label-arrow\">KGroupKMerTransformer</label><div class=\"sk-toggleable__content\"><pre>KGroupKMerTransformer(k=24)</pre></div></div></div><div class=\"sk-item\"><div class=\"sk-estimator sk-toggleable\"><input class=\"sk-toggleable__control sk-hidden--visually\" id=\"sk-estimator-id-18\" type=\"checkbox\" ><label for=\"sk-estimator-id-18\" class=\"sk-toggleable__label sk-toggleable__label-arrow\">KGroupColumnPruner</label><div class=\"sk-toggleable__content\"><pre>KGroupColumnPruner()</pre></div></div></div></div></div></div></div></div><div class=\"sk-parallel-item\"><div class=\"sk-item\"><div class=\"sk-label-container\"><div class=\"sk-label sk-toggleable\"><label>p2</label></div></div><div class=\"sk-serial\"><div class=\"sk-item\"><div class=\"sk-serial\"><div class=\"sk-item\"><div class=\"sk-estimator sk-toggleable\"><input class=\"sk-toggleable__control sk-hidden--visually\" id=\"sk-estimator-id-19\" type=\"checkbox\" ><label for=\"sk-estimator-id-19\" class=\"sk-toggleable__label sk-toggleable__label-arrow\">KMerTransformer</label><div class=\"sk-toggleable__content\"><pre>KMerTransformer(k=6, normalize=True)</pre></div></div></div></div></div></div></div></div></div></div><div class=\"sk-item\"><div class=\"sk-estimator sk-toggleable\"><input class=\"sk-toggleable__control sk-hidden--visually\" id=\"sk-estimator-id-20\" type=\"checkbox\" ><label for=\"sk-estimator-id-20\" class=\"sk-toggleable__label sk-toggleable__label-arrow\">StandardScaler</label><div class=\"sk-toggleable__content\"><pre>StandardScaler()</pre></div></div></div><div class=\"sk-item\"><div class=\"sk-estimator sk-toggleable\"><input class=\"sk-toggleable__control sk-hidden--visually\" id=\"sk-estimator-id-21\" type=\"checkbox\" ><label for=\"sk-estimator-id-21\" class=\"sk-toggleable__label sk-toggleable__label-arrow\">ExtraTreesClassifier</label><div class=\"sk-toggleable__content\"><pre>ExtraTreesClassifier(n_estimators=300, random_state=42)</pre></div></div></div></div></div></div></div>"
      ],
      "text/plain": [
       "Pipeline(steps=[('trans_union',\n",
       "                 FeatureUnion(transformer_list=[('p1',\n",
       "                                                 Pipeline(steps=[('kgroup_transformer',\n",
       "                                                                  KGroupKMerTransformer(k=24)),\n",
       "                                                                 ('kgroup_column_pruner',\n",
       "                                                                  KGroupColumnPruner())])),\n",
       "                                                ('p2',\n",
       "                                                 Pipeline(steps=[('kmer_transformer',\n",
       "                                                                  KMerTransformer(k=6,\n",
       "                                                                                  normalize=True))]))])),\n",
       "                ('scaler', StandardScaler()),\n",
       "                ('classifier',\n",
       "                 ExtraTreesClassifier(n_estimators=300, random_state=42))])"
      ]
     },
     "execution_count": 47,
     "metadata": {},
     "output_type": "execute_result"
    }
   ],
   "source": [
    "X = species_compare_df.drop(columns='target')\n",
    "y = multilabeler.fit_transform(species_compare_df['target'])\n",
    "\n",
    "X_train, X_test, y_train, y_test = train_test_split(X, y, random_state=42)\n",
    "\n",
    "final_model = Pipeline(steps=[\n",
    "    ('trans_union', FeatureUnion([\n",
    "        ('p1', Pipeline([\n",
    "            ('kgroup_transformer', KGroupKMerTransformer(k=24)),\n",
    "            ('kgroup_column_pruner', KGroupColumnPruner()),\n",
    "        ])),\n",
    "        ('p2', Pipeline([\n",
    "            ('kmer_transformer', KMerTransformer(k=6, normalize=True))\n",
    "        ])),\n",
    "    ])),    \n",
    "    ('scaler', StandardScaler()),\n",
    "    ('classifier', ExtraTreesClassifier(n_estimators=300, random_state=42))\n",
    "])\n",
    "\n",
    "final_model.fit(X_train, y_train)\n",
    "\n",
    "y_preds = final_model.predict(X_test)\n",
    "\n",
    "final_model"
   ]
  },
  {
   "cell_type": "code",
   "execution_count": 48,
   "metadata": {},
   "outputs": [
    {
     "name": "stdout",
     "output_type": "stream",
     "text": [
      "              precision    recall  f1-score   support\n",
      "\n",
      "       chimp       0.88      0.81      0.84      5050\n",
      "     dolphin       0.93      0.92      0.92      5034\n",
      "       human       0.88      0.85      0.87      4964\n",
      "    mushroom       0.89      0.95      0.92      3225\n",
      "         oak       0.88      0.95      0.91      5060\n",
      "\n",
      "    accuracy                           0.89     23333\n",
      "   macro avg       0.89      0.90      0.89     23333\n",
      "weighted avg       0.89      0.89      0.89     23333\n",
      "\n"
     ]
    }
   ],
   "source": [
    "print(classification_report(multilabeler.inverse_transform(y_test), multilabeler.inverse_transform(y_preds)))"
   ]
  },
  {
   "cell_type": "code",
   "execution_count": 49,
   "metadata": {},
   "outputs": [
    {
     "data": {
      "application/vnd.jupyter.widget-view+json": {
       "model_id": "5418cd6bb619486796fb36be12597868",
       "version_major": 2,
       "version_minor": 0
      },
      "text/plain": [
       "  0%|          | 0/23333 [00:00<?, ?it/s]"
      ]
     },
     "metadata": {},
     "output_type": "display_data"
    },
    {
     "data": {
      "application/vnd.jupyter.widget-view+json": {
       "model_id": "d0158b4b622a4140b758e8bc92f28c89",
       "version_major": 2,
       "version_minor": 0
      },
      "text/plain": [
       "  0%|          | 0/23333 [00:00<?, ?it/s]"
      ]
     },
     "metadata": {},
     "output_type": "display_data"
    },
    {
     "data": {
      "image/png": "[encoded data removed]",
      "text/plain": [
       "<Figure size 432x288 with 2 Axes>"
      ]
     },
     "metadata": {},
     "output_type": "display_data"
    }
   ],
   "source": [
    "plot_confusion_matrix(final_model, X_test, y_test)\n",
    "plt.yticks(ticks=range(len(multilabeler.classes_)), labels=multilabeler.classes_)\n",
    "plt.xticks(ticks=range(len(multilabeler.classes_)), labels=multilabeler.classes_, rotation=45)\n",
    "plt.suptitle('Multiclass ExtraTreesClassifier - KMer + KGroup Model ')\n",
    "plt.savefig('img/graphs/kmer_kgroup_final_confusion.png', dpi=300)"
   ]
  },
  {
   "cell_type": "markdown",
   "metadata": {},
   "source": [
    "# Results"
   ]
  },
  {
   "cell_type": "markdown",
   "metadata": {},
   "source": [
    "My final model achieved a 90% acccuracy on test data for classifying sequences between 5 genomes of DNA. Although there is room for improvement in the model, as well as trying out other classification methods (i.e. neural networks), I can reject my null hypothesis, and we can assume there are patterns of similiarity between the classes of the genomic data. Moreover, we are able to distinguish the patterns and variance and classify species from individual DNA sequences with high accuracy."
   ]
  }
 ],
 "metadata": {
  "kernelspec": {
   "display_name": "Python (learn-env)",
   "language": "python",
   "name": "learn-env"
  },
  "language_info": {
   "codemirror_mode": {
    "name": "ipython",
    "version": 3
   },
   "file_extension": ".py",
   "mimetype": "text/x-python",
   "name": "python",
   "nbconvert_exporter": "python",
   "pygments_lexer": "ipython3",
   "version": "3.8.5"
  }
 },
 "nbformat": 4,
 "nbformat_minor": 4
}
